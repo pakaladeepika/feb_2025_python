{
 "cells": [
  {
   "cell_type": "markdown",
   "id": "3815d6b8-e283-4c05-b5c5-2d554c62a5f7",
   "metadata": {},
   "source": [
    "# variables"
   ]
  },
  {
   "cell_type": "markdown",
   "id": "7188af67-4bb1-4122-bd82-ea8e5acdc6fe",
   "metadata": {},
   "source": [
    "- variables are used to store the data \n",
    "- the data can be change\n",
    "- these variables can be used to manipulate python code"
   ]
  },
  {
   "cell_type": "code",
   "execution_count": 1,
   "id": "cda57980-84be-45d1-a424-91278d571c38",
   "metadata": {},
   "outputs": [
    {
     "data": {
      "text/plain": [
       "100"
      ]
     },
     "execution_count": 1,
     "metadata": {},
     "output_type": "execute_result"
    }
   ],
   "source": [
    "number = 100\n",
    "# 100 is stored in a variable called as number\n",
    "number"
   ]
  },
  {
   "cell_type": "code",
   "execution_count": 2,
   "id": "f971f26f-9664-425d-ad39-72f9f58c7a65",
   "metadata": {},
   "outputs": [
    {
     "data": {
      "text/plain": [
       "200"
      ]
     },
     "execution_count": 2,
     "metadata": {},
     "output_type": "execute_result"
    }
   ],
   "source": [
    "NUMBER=200\n",
    "NUMBER"
   ]
  },
  {
   "cell_type": "code",
   "execution_count": 3,
   "id": "2bffe5f8-3c57-4746-9760-c2afa7b66452",
   "metadata": {},
   "outputs": [
    {
     "data": {
      "text/plain": [
       "(100, 200)"
      ]
     },
     "execution_count": 3,
     "metadata": {},
     "output_type": "execute_result"
    }
   ],
   "source": [
    "number,NUMBER"
   ]
  },
  {
   "cell_type": "code",
   "execution_count": 5,
   "id": "29edc86c-b6db-4e3c-a70e-16b7f862b865",
   "metadata": {},
   "outputs": [
    {
     "data": {
      "text/plain": [
       "300"
      ]
     },
     "execution_count": 5,
     "metadata": {},
     "output_type": "execute_result"
    }
   ],
   "source": [
    "NUMber=300\n",
    "NUMber"
   ]
  },
  {
   "cell_type": "code",
   "execution_count": 6,
   "id": "49f3a350-65d7-488d-b5f4-57d6ad6f953c",
   "metadata": {},
   "outputs": [
    {
     "data": {
      "text/plain": [
       "(100, 200, 300)"
      ]
     },
     "execution_count": 6,
     "metadata": {},
     "output_type": "execute_result"
    }
   ],
   "source": [
    "number,NUMBER,NUMber"
   ]
  },
  {
   "cell_type": "code",
   "execution_count": 7,
   "id": "071f2c8f-eb79-4872-bb03-09b4b50a38d6",
   "metadata": {},
   "outputs": [
    {
     "data": {
      "text/plain": [
       "400"
      ]
     },
     "execution_count": 7,
     "metadata": {},
     "output_type": "execute_result"
    }
   ],
   "source": [
    "number123=400\n",
    "number123"
   ]
  },
  {
   "cell_type": "code",
   "execution_count": 8,
   "id": "0a82d0c0-41e9-483b-a64a-2dbd7b423123",
   "metadata": {},
   "outputs": [
    {
     "ename": "SyntaxError",
     "evalue": "invalid decimal literal (1181908654.py, line 1)",
     "output_type": "error",
     "traceback": [
      "\u001b[1;36m  Cell \u001b[1;32mIn[8], line 1\u001b[1;36m\u001b[0m\n\u001b[1;33m    123number=500\u001b[0m\n\u001b[1;37m      ^\u001b[0m\n\u001b[1;31mSyntaxError\u001b[0m\u001b[1;31m:\u001b[0m invalid decimal literal\n"
     ]
    }
   ],
   "source": [
    "123number=500\n",
    "123number"
   ]
  },
  {
   "cell_type": "code",
   "execution_count": 9,
   "id": "83a354cc-1df1-44e5-9fbf-d9e23b8061d6",
   "metadata": {},
   "outputs": [
    {
     "data": {
      "text/plain": [
       "400"
      ]
     },
     "execution_count": 9,
     "metadata": {},
     "output_type": "execute_result"
    }
   ],
   "source": [
    "# type enter+tab\n",
    "number123\n",
    "\n",
    "        "
   ]
  },
  {
   "cell_type": "markdown",
   "id": "cf55c77a-91a5-48eb-ae54-86a83dd16b44",
   "metadata": {},
   "source": [
    "**note**:\n",
    "- variables generally in black color\n",
    "- green color should not be a variable\n",
    "- numbers as suffix as eork\n",
    "- numbers as prefix can fail"
   ]
  },
  {
   "cell_type": "markdown",
   "id": "e9d509d8-1270-4328-b4b5-2e108c0454e4",
   "metadata": {},
   "source": []
  },
  {
   "cell_type": "markdown",
   "id": "8a687a65-9afa-4720-bcb2-b64c6f639375",
   "metadata": {},
   "source": [
    "**note**:\n",
    "- variables generally in black color\n",
    "- green color should not be a variable\n",
    "- numbers as suffix as work\n",
    "- numbers as prefix can fail"
   ]
  },
  {
   "cell_type": "markdown",
   "id": "46e22f76-2253-4d45-af94-669483d37f00",
   "metadata": {},
   "source": [
    "number$=123\n",
    "number$"
   ]
  },
  {
   "cell_type": "markdown",
   "id": "f53a7c38-7987-445d-89dd-6d711c082b8f",
   "metadata": {},
   "source": [
    " -special characters are not allowed"
   ]
  },
  {
   "cell_type": "markdown",
   "id": "54297fd7-4b7d-429b-863c-6a9b37a6189e",
   "metadata": {},
   "source": [
    "- special characters are not allowed\n",
    "\n"
   ]
  },
  {
   "cell_type": "code",
   "execution_count": 12,
   "id": "7c4a5e3a-869e-45b0-8d6e-0b85853b3934",
   "metadata": {},
   "outputs": [
    {
     "ename": "SyntaxError",
     "evalue": "invalid syntax (3656290241.py, line 1)",
     "output_type": "error",
     "traceback": [
      "\u001b[1;36m  Cell \u001b[1;32mIn[12], line 1\u001b[1;36m\u001b[0m\n\u001b[1;33m    number one = 200\u001b[0m\n\u001b[1;37m           ^\u001b[0m\n\u001b[1;31mSyntaxError\u001b[0m\u001b[1;31m:\u001b[0m invalid syntax\n"
     ]
    }
   ],
   "source": [
    "number one = 200\n",
    "number one"
   ]
  },
  {
   "cell_type": "markdown",
   "id": "1fb42672-18d7-4364-803d-d63fa1563dff",
   "metadata": {},
   "source": [
    " - space also variable"
   ]
  },
  {
   "cell_type": "markdown",
   "id": "4516e429-9876-4780-877b-41e5cdc82eb5",
   "metadata": {},
   "source": []
  },
  {
   "cell_type": "raw",
   "id": "a4b2e658-21e4-4163-bf12-3573216c0ff1",
   "metadata": {},
   "source": [
    "number_one=100\n",
    "number_one"
   ]
  },
  {
   "cell_type": "code",
   "execution_count": 13,
   "id": "22ca38cc-f2c6-4233-9840-80050cc9374d",
   "metadata": {},
   "outputs": [
    {
     "data": {
      "text/plain": [
       "100"
      ]
     },
     "execution_count": 13,
     "metadata": {},
     "output_type": "execute_result"
    }
   ],
   "source": [
    "number_one=100\n",
    "number_one"
   ]
  },
  {
   "cell_type": "markdown",
   "id": "c3de50b9-4fdb-40df-b4e9-19d42f72e958",
   "metadata": {},
   "source": [
    "- underscore can use as variable"
   ]
  },
  {
   "cell_type": "code",
   "execution_count": 14,
   "id": "6e1994d3-5cb5-44d1-9613-3f082aefa2bc",
   "metadata": {},
   "outputs": [
    {
     "ename": "NameError",
     "evalue": "name 'numberone' is not defined",
     "output_type": "error",
     "traceback": [
      "\u001b[1;31m---------------------------------------------------------------------------\u001b[0m",
      "\u001b[1;31mNameError\u001b[0m                                 Traceback (most recent call last)",
      "Cell \u001b[1;32mIn[14], line 1\u001b[0m\n\u001b[1;32m----> 1\u001b[0m numberone\n\u001b[0;32m      2\u001b[0m number_one\n",
      "\u001b[1;31mNameError\u001b[0m: name 'numberone' is not defined"
     ]
    }
   ],
   "source": [
    "numberone\n",
    "number_one"
   ]
  },
  {
   "cell_type": "code",
   "execution_count": 15,
   "id": "8d344d59-b3c6-4cf0-a484-741450699fc1",
   "metadata": {},
   "outputs": [
    {
     "data": {
      "text/plain": [
       "100"
      ]
     },
     "execution_count": 15,
     "metadata": {},
     "output_type": "execute_result"
    }
   ],
   "source": [
    "_number=100\n",
    "_number"
   ]
  },
  {
   "cell_type": "code",
   "execution_count": 1,
   "id": "cfb517e7-4c24-492f-a412-9d0c7f1b310d",
   "metadata": {},
   "outputs": [
    {
     "data": {
      "text/plain": [
       "200"
      ]
     },
     "execution_count": 1,
     "metadata": {},
     "output_type": "execute_result"
    }
   ],
   "source": [
    "_number=200\n",
    "_number"
   ]
  },
  {
   "cell_type": "code",
   "execution_count": 2,
   "id": "486ed29c-5d7a-4c8f-b16b-a84e7d2aa090",
   "metadata": {},
   "outputs": [
    {
     "ename": "SyntaxError",
     "evalue": "invalid decimal literal (1449742722.py, line 4)",
     "output_type": "error",
     "traceback": [
      "\u001b[1;36m  Cell \u001b[1;32mIn[2], line 4\u001b[1;36m\u001b[0m\n\u001b[1;33m    123number=100 # false\u001b[0m\n\u001b[1;37m      ^\u001b[0m\n\u001b[1;31mSyntaxError\u001b[0m\u001b[1;31m:\u001b[0m invalid decimal literal\n"
     ]
    }
   ],
   "source": [
    "number=100 # true\n",
    "NUMBER=200 # true\n",
    "NUMber=100 # true\n",
    "123number=100 # false\n",
    "_number=200  # true\n",
    "number_0ne=400 # true\n",
    "number 0ne=200 # false\n",
    "number123=100   # true\n",
    "\n"
   ]
  },
  {
   "cell_type": "code",
   "execution_count": null,
   "id": "92c75c7b-68ae-4403-93bc-f30e7fa1976f",
   "metadata": {},
   "outputs": [],
   "source": [
    "keywords can not use as variables"
   ]
  },
  {
   "cell_type": "code",
   "execution_count": null,
   "id": "e9714929-c7e5-4ad5-8fb7-9cb0c61f959a",
   "metadata": {},
   "outputs": [],
   "source": []
  }
 ],
 "metadata": {
  "kernelspec": {
   "display_name": "Python 3 (ipykernel)",
   "language": "python",
   "name": "python3"
  },
  "language_info": {
   "codemirror_mode": {
    "name": "ipython",
    "version": 3
   },
   "file_extension": ".py",
   "mimetype": "text/x-python",
   "name": "python",
   "nbconvert_exporter": "python",
   "pygments_lexer": "ipython3",
   "version": "3.12.7"
  }
 },
 "nbformat": 4,
 "nbformat_minor": 5
}
