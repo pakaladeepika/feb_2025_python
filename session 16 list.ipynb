{
 "cells": [
  {
   "cell_type": "code",
   "execution_count": 1,
   "id": "c9114580-3833-4de2-bc6d-8f9c57205fb7",
   "metadata": {},
   "outputs": [
    {
     "data": {
      "text/plain": [
       "'123456'"
      ]
     },
     "execution_count": 1,
     "metadata": {},
     "output_type": "execute_result"
    }
   ],
   "source": [
    "str1='the telephone number is 123456'\n",
    "len(str1)\n",
    "str1[24:31]"
   ]
  },
  {
   "cell_type": "code",
   "execution_count": null,
   "id": "ae541c2e-de87-4582-b444-41987bfb4577",
   "metadata": {},
   "outputs": [],
   "source": []
  },
  {
   "cell_type": "code",
   "execution_count": 2,
   "id": "7312f40d-c743-4501-88de-65476aab3a17",
   "metadata": {},
   "outputs": [
    {
     "name": "stdin",
     "output_type": "stream",
     "text": [
      "Enter a number 1:  34\n",
      "Enter a number 2:  30\n"
     ]
    },
    {
     "name": "stdout",
     "output_type": "stream",
     "text": [
      "34 is greater than 30\n"
     ]
    }
   ],
   "source": [
    "# how to find a greaterts number\n",
    "try:\n",
    "    num1 = eval(input(\"Enter a number 1: \"))\n",
    "    num2 = eval(input(\"Enter a number 2: \"))\n",
    "    if num1 == num2:\n",
    "        print(f\"Both the numbers {num1} and {num2} are equal\")\n",
    "    elif num1 > num2:\n",
    "        print(f\"{num1} is greater than {num2}\")\n",
    "    elif num1 < num2:\n",
    "        print(f\"{num1} is lesser than {num2}\")\n",
    "except Exception as e:\n",
    "    print(f\"You have encountered with an exception: {e}\")"
   ]
  },
  {
   "cell_type": "code",
   "execution_count": 1,
   "id": "ff1c81dc-6592-45f9-8be3-19d402cdc29b",
   "metadata": {},
   "outputs": [
    {
     "name": "stdout",
     "output_type": "stream",
     "text": [
      "123456\n"
     ]
    }
   ],
   "source": [
    "str1='the telephone number is 123456'\n",
    "# i want 123456\n",
    "# idea: split karo\n",
    "# then when you split ==== list \n",
    "\n",
    "# iterate each letter apply isdigit if it is\n",
    "# true then then keep in empty string\n",
    "\n",
    "num=''\n",
    "for i in str1:\n",
    "    if i.isdigit():\n",
    "        num=num+i\n",
    "\n",
    "print(num)"
   ]
  },
  {
   "cell_type": "code",
   "execution_count": 3,
   "id": "9705abbd-b9c3-4674-b2d6-fa8a4db3f484",
   "metadata": {},
   "outputs": [
    {
     "data": {
      "text/plain": [
       "34"
      ]
     },
     "execution_count": 3,
     "metadata": {},
     "output_type": "execute_result"
    }
   ],
   "source": [
    "eval('34#344') #spl characters you can handle with int"
   ]
  },
  {
   "cell_type": "code",
   "execution_count": 3,
   "id": "d7d7851c-eb64-4324-a3a7-dd2d2cbad7d2",
   "metadata": {},
   "outputs": [
    {
     "name": "stdout",
     "output_type": "stream",
     "text": [
      "1\n",
      "2\n",
      "3\n",
      "4\n",
      "5\n",
      "6\n"
     ]
    }
   ],
   "source": [
    "str1='the telephone number is 123456'\n",
    "str2=''\n",
    "for i in str1:\n",
    "    if i.isdigit():\n",
    "       print(i)\n",
    "    "
   ]
  },
  {
   "cell_type": "code",
   "execution_count": 5,
   "id": "cab98a2e-3ca7-46c7-8812-3a04bef6ed8b",
   "metadata": {},
   "outputs": [
    {
     "name": "stdout",
     "output_type": "stream",
     "text": [
      "123456\n"
     ]
    }
   ],
   "source": [
    "str1='the telephone number is 123456'\n",
    "num=''\n",
    "for i in str1:\n",
    "    if i.isdigit():\n",
    "        num=num+i\n",
    "       \n",
    "print(num)\n"
   ]
  },
  {
   "cell_type": "markdown",
   "id": "188da396-c977-44b6-86ad-0d79afeff1da",
   "metadata": {},
   "source": [
    "**basic representations**"
   ]
  },
  {
   "cell_type": "markdown",
   "id": "aae57963-ac70-4960-949a-ac0c801ee8f9",
   "metadata": {},
   "source": [
    "- string elements is in quotes\n",
    "- list elements is in square brackets"
   ]
  },
  {
   "cell_type": "code",
   "execution_count": 6,
   "id": "da0a4222-ce0e-4462-bd3f-0c8eaa1ec501",
   "metadata": {},
   "outputs": [
    {
     "data": {
      "text/plain": [
       "[1, 2, 3, 4]"
      ]
     },
     "execution_count": 6,
     "metadata": {},
     "output_type": "execute_result"
    }
   ],
   "source": [
    "list1=[1,2,3,4]\n",
    "list1"
   ]
  },
  {
   "cell_type": "code",
   "execution_count": 7,
   "id": "025a22d1-7338-42fe-b207-be117248554e",
   "metadata": {},
   "outputs": [
    {
     "data": {
      "text/plain": [
       "list"
      ]
     },
     "execution_count": 7,
     "metadata": {},
     "output_type": "execute_result"
    }
   ],
   "source": [
    "type(list1)\n",
    "#for strings====str\n",
    "#we will say strings=====but type is str\n",
    "#we will say list=======type also list"
   ]
  },
  {
   "cell_type": "code",
   "execution_count": 8,
   "id": "efc6c8bb-26c9-4930-b003-4f159bda6ec3",
   "metadata": {},
   "outputs": [
    {
     "data": {
      "text/plain": [
       "[1, 2, 3]"
      ]
     },
     "execution_count": 8,
     "metadata": {},
     "output_type": "execute_result"
    }
   ],
   "source": [
    "list1=[1,2,3]\n",
    "list1"
   ]
  },
  {
   "cell_type": "code",
   "execution_count": 9,
   "id": "a01e1015-29e8-4ad6-85dd-10a682a93b55",
   "metadata": {},
   "outputs": [
    {
     "data": {
      "text/plain": [
       "['A', 'B', 'C']"
      ]
     },
     "execution_count": 9,
     "metadata": {},
     "output_type": "execute_result"
    }
   ],
   "source": [
    "list2=['A','B','C']\n",
    "\n",
    "list2"
   ]
  },
  {
   "cell_type": "code",
   "execution_count": 10,
   "id": "5f42b67d-78d5-455a-a3cb-d0e2e7ba82ea",
   "metadata": {},
   "outputs": [
    {
     "data": {
      "text/plain": [
       "[1, 2, 3, 'A', 'B', 'C']"
      ]
     },
     "execution_count": 10,
     "metadata": {},
     "output_type": "execute_result"
    }
   ],
   "source": [
    "list3=[1,2,3,'A','B','C']\n",
    "\n",
    "list3"
   ]
  },
  {
   "cell_type": "code",
   "execution_count": 11,
   "id": "693d6d68-d043-4d7d-8e42-ab5d6d1f8997",
   "metadata": {},
   "outputs": [
    {
     "data": {
      "text/plain": [
       "[True, 'A', 'B', 'C']"
      ]
     },
     "execution_count": 11,
     "metadata": {},
     "output_type": "execute_result"
    }
   ],
   "source": [
    "list3=[True,'A','B','C']\n",
    "\n",
    "list3"
   ]
  },
  {
   "cell_type": "code",
   "execution_count": 12,
   "id": "7d3e9465-b519-46b8-bfe0-4ee37a81155a",
   "metadata": {},
   "outputs": [
    {
     "data": {
      "text/plain": [
       "[1, 2, 3, False, 'A', 'B', 'C']"
      ]
     },
     "execution_count": 12,
     "metadata": {},
     "output_type": "execute_result"
    }
   ],
   "source": [
    "list3=[1,2,3,False,'A','B','C']\n",
    "\n",
    "list3"
   ]
  },
  {
   "cell_type": "code",
   "execution_count": 13,
   "id": "93529a3b-e10c-4eae-bc0d-5625f79ce41f",
   "metadata": {},
   "outputs": [
    {
     "data": {
      "text/plain": [
       "[10.0, 10, 10.5]"
      ]
     },
     "execution_count": 13,
     "metadata": {},
     "output_type": "execute_result"
    }
   ],
   "source": [
    "list3=[10.0,10,10.5]\n",
    "\n",
    "list3"
   ]
  },
  {
   "cell_type": "code",
   "execution_count": 14,
   "id": "e64dd114-bf91-4b08-9931-8d323716f290",
   "metadata": {},
   "outputs": [
    {
     "data": {
      "text/plain": [
       "[1, 2, 3, 0.0, 0, 'A', 'B', 'C']"
      ]
     },
     "execution_count": 14,
     "metadata": {},
     "output_type": "execute_result"
    }
   ],
   "source": [
    "list3=[1,2,3,0.0,0,'A','B','C']\n",
    "\n",
    "list3"
   ]
  },
  {
   "cell_type": "code",
   "execution_count": 15,
   "id": "a15fafdf-028e-473e-b2a7-7f0e92f81c68",
   "metadata": {},
   "outputs": [
    {
     "ename": "NameError",
     "evalue": "name 'hello' is not defined",
     "output_type": "error",
     "traceback": [
      "\u001b[1;31m---------------------------------------------------------------------------\u001b[0m",
      "\u001b[1;31mNameError\u001b[0m                                 Traceback (most recent call last)",
      "Cell \u001b[1;32mIn[15], line 1\u001b[0m\n\u001b[1;32m----> 1\u001b[0m list3\u001b[38;5;241m=\u001b[39m[\u001b[38;5;241m1\u001b[39m,\u001b[38;5;241m2\u001b[39m,\u001b[38;5;241m3\u001b[39m,hello,\u001b[38;5;124m'\u001b[39m\u001b[38;5;124mA\u001b[39m\u001b[38;5;124m'\u001b[39m,\u001b[38;5;124m'\u001b[39m\u001b[38;5;124mB\u001b[39m\u001b[38;5;124m'\u001b[39m,\u001b[38;5;124m'\u001b[39m\u001b[38;5;124mC\u001b[39m\u001b[38;5;124m'\u001b[39m]\n\u001b[0;32m      3\u001b[0m list3\n",
      "\u001b[1;31mNameError\u001b[0m: name 'hello' is not defined"
     ]
    }
   ],
   "source": [
    "list3=[1,2,3,hello,'A','B','C']\n",
    "\n",
    "list3"
   ]
  },
  {
   "cell_type": "code",
   "execution_count": 19,
   "id": "6bd3e0d0-d18d-41af-94ac-0e50e58a9b55",
   "metadata": {},
   "outputs": [
    {
     "data": {
      "text/plain": [
       "[10, 20, 30, 'banana', 'apple', 'cherry', True, False, 10.5, (20+30j)]"
      ]
     },
     "execution_count": 19,
     "metadata": {},
     "output_type": "execute_result"
    }
   ],
   "source": [
    "list3=[10,20,30,'banana','apple','cherry',True,False,10.5,20+30j]\n",
    "\n",
    "list3"
   ]
  },
  {
   "cell_type": "code",
   "execution_count": 20,
   "id": "d2898ba9-5fd7-4d35-b3eb-236c82da5f2e",
   "metadata": {},
   "outputs": [
    {
     "data": {
      "text/plain": [
       "[10, 10, 10]"
      ]
     },
     "execution_count": 20,
     "metadata": {},
     "output_type": "execute_result"
    }
   ],
   "source": [
    "list5=[10,10,10]\n",
    "list5"
   ]
  },
  {
   "cell_type": "code",
   "execution_count": 21,
   "id": "95d51abb-3c9d-4ca0-b091-c195920757aa",
   "metadata": {},
   "outputs": [
    {
     "data": {
      "text/plain": [
       "[10, 20, 30, ['apple', 'banana']]"
      ]
     },
     "execution_count": 21,
     "metadata": {},
     "output_type": "execute_result"
    }
   ],
   "source": [
    "list6=[10,20,30,['apple','banana']]\n",
    "list6"
   ]
  },
  {
   "cell_type": "code",
   "execution_count": 23,
   "id": "313c3bbb-a872-4d9f-855b-ddac91992a53",
   "metadata": {},
   "outputs": [
    {
     "data": {
      "text/plain": [
       "[[10]]"
      ]
     },
     "execution_count": 23,
     "metadata": {},
     "output_type": "execute_result"
    }
   ],
   "source": [
    "list7=[[10]]\n",
    "list7\n"
   ]
  },
  {
   "cell_type": "code",
   "execution_count": 22,
   "id": "b7f67a45-6e25-48f5-98bc-365f8e00f051",
   "metadata": {},
   "outputs": [
    {
     "data": {
      "text/plain": [
       "['python']"
      ]
     },
     "execution_count": 22,
     "metadata": {},
     "output_type": "execute_result"
    }
   ],
   "source": [
    "name='python'\n",
    "list8=[name]\n",
    "list8"
   ]
  },
  {
   "cell_type": "code",
   "execution_count": 24,
   "id": "0b9ef358-504e-43d7-8566-abad5a77adca",
   "metadata": {},
   "outputs": [
    {
     "data": {
      "text/plain": [
       "[[[10]]]"
      ]
     },
     "execution_count": 24,
     "metadata": {},
     "output_type": "execute_result"
    }
   ],
   "source": [
    "list9=[_]\n",
    "list9"
   ]
  },
  {
   "cell_type": "code",
   "execution_count": 4,
   "id": "cb716577-8602-45a8-96ef-9764e7ff3be5",
   "metadata": {},
   "outputs": [],
   "source": [
    "list1=[10,20,2,5,75]\n",
    "list2=['apple','banana','cherry']\n",
    "list3=[10,20,2,5,75,'apple','banana','cherry']\n"
   ]
  },
  {
   "cell_type": "code",
   "execution_count": 2,
   "id": "217e8f90-9993-4446-9a7e-c7a873fbe816",
   "metadata": {},
   "outputs": [
    {
     "data": {
      "text/plain": [
       "5"
      ]
     },
     "execution_count": 2,
     "metadata": {},
     "output_type": "execute_result"
    }
   ],
   "source": [
    "list1=[10,20,2,5,75]\n",
    "len(list1)"
   ]
  },
  {
   "cell_type": "code",
   "execution_count": 5,
   "id": "ea49bc00-2581-4a54-9a77-c9ffaf07bde3",
   "metadata": {},
   "outputs": [
    {
     "data": {
      "text/plain": [
       "3"
      ]
     },
     "execution_count": 5,
     "metadata": {},
     "output_type": "execute_result"
    }
   ],
   "source": [
    "list2=['apple','banana','cherry']\n",
    "len(list2)"
   ]
  },
  {
   "cell_type": "code",
   "execution_count": 6,
   "id": "17e77c1d-70f2-45fb-be35-465ab649c779",
   "metadata": {},
   "outputs": [
    {
     "data": {
      "text/plain": [
       "8"
      ]
     },
     "execution_count": 6,
     "metadata": {},
     "output_type": "execute_result"
    }
   ],
   "source": [
    "len(list3)"
   ]
  },
  {
   "cell_type": "code",
   "execution_count": 7,
   "id": "fa1ba122-d1d8-4660-9091-ed8e384fe0bb",
   "metadata": {},
   "outputs": [
    {
     "data": {
      "text/plain": [
       "112"
      ]
     },
     "execution_count": 7,
     "metadata": {},
     "output_type": "execute_result"
    }
   ],
   "source": [
    "sum(list1)"
   ]
  },
  {
   "cell_type": "code",
   "execution_count": 8,
   "id": "7680cf7d-ad1e-4da3-ba15-4a3f4a9878b3",
   "metadata": {},
   "outputs": [
    {
     "ename": "TypeError",
     "evalue": "unsupported operand type(s) for +: 'int' and 'str'",
     "output_type": "error",
     "traceback": [
      "\u001b[1;31m---------------------------------------------------------------------------\u001b[0m",
      "\u001b[1;31mTypeError\u001b[0m                                 Traceback (most recent call last)",
      "Cell \u001b[1;32mIn[8], line 1\u001b[0m\n\u001b[1;32m----> 1\u001b[0m \u001b[38;5;28msum\u001b[39m(list2)\n",
      "\u001b[1;31mTypeError\u001b[0m: unsupported operand type(s) for +: 'int' and 'str'"
     ]
    }
   ],
   "source": [
    "sum(list2)"
   ]
  },
  {
   "cell_type": "code",
   "execution_count": 9,
   "id": "c2a0b63c-c36c-48d7-bad1-24a653d42b23",
   "metadata": {},
   "outputs": [
    {
     "ename": "TypeError",
     "evalue": "unsupported operand type(s) for +: 'int' and 'str'",
     "output_type": "error",
     "traceback": [
      "\u001b[1;31m---------------------------------------------------------------------------\u001b[0m",
      "\u001b[1;31mTypeError\u001b[0m                                 Traceback (most recent call last)",
      "Cell \u001b[1;32mIn[9], line 1\u001b[0m\n\u001b[1;32m----> 1\u001b[0m \u001b[38;5;28msum\u001b[39m(list2)\n",
      "\u001b[1;31mTypeError\u001b[0m: unsupported operand type(s) for +: 'int' and 'str'"
     ]
    }
   ],
   "source": [
    "sum(list2)"
   ]
  },
  {
   "cell_type": "code",
   "execution_count": 10,
   "id": "cd1bd640-ca97-406e-b020-e1f28d67ccf5",
   "metadata": {},
   "outputs": [
    {
     "ename": "TypeError",
     "evalue": "unsupported operand type(s) for +: 'int' and 'str'",
     "output_type": "error",
     "traceback": [
      "\u001b[1;31m---------------------------------------------------------------------------\u001b[0m",
      "\u001b[1;31mTypeError\u001b[0m                                 Traceback (most recent call last)",
      "Cell \u001b[1;32mIn[10], line 1\u001b[0m\n\u001b[1;32m----> 1\u001b[0m \u001b[38;5;28msum\u001b[39m(list3)\n",
      "\u001b[1;31mTypeError\u001b[0m: unsupported operand type(s) for +: 'int' and 'str'"
     ]
    }
   ],
   "source": [
    "sum(list3)"
   ]
  },
  {
   "cell_type": "code",
   "execution_count": 11,
   "id": "c398f678-6a0a-44c5-a5ba-3b0f19be9809",
   "metadata": {},
   "outputs": [
    {
     "data": {
      "text/plain": [
       "75"
      ]
     },
     "execution_count": 11,
     "metadata": {},
     "output_type": "execute_result"
    }
   ],
   "source": [
    "max(list1)"
   ]
  },
  {
   "cell_type": "code",
   "execution_count": 12,
   "id": "4adcc3f4-8911-406d-96ad-86f1711a94c2",
   "metadata": {},
   "outputs": [
    {
     "data": {
      "text/plain": [
       "'cherry'"
      ]
     },
     "execution_count": 12,
     "metadata": {},
     "output_type": "execute_result"
    }
   ],
   "source": [
    "max(list2)"
   ]
  },
  {
   "cell_type": "code",
   "execution_count": 13,
   "id": "43178174-bfc6-4a2f-afed-732d1391f617",
   "metadata": {},
   "outputs": [
    {
     "ename": "TypeError",
     "evalue": "'>' not supported between instances of 'str' and 'int'",
     "output_type": "error",
     "traceback": [
      "\u001b[1;31m---------------------------------------------------------------------------\u001b[0m",
      "\u001b[1;31mTypeError\u001b[0m                                 Traceback (most recent call last)",
      "Cell \u001b[1;32mIn[13], line 1\u001b[0m\n\u001b[1;32m----> 1\u001b[0m \u001b[38;5;28mmax\u001b[39m(list3)\n",
      "\u001b[1;31mTypeError\u001b[0m: '>' not supported between instances of 'str' and 'int'"
     ]
    }
   ],
   "source": [
    "max(list3)"
   ]
  },
  {
   "cell_type": "code",
   "execution_count": 14,
   "id": "e64b0ac0-c275-4414-a388-bfc01dbb8b14",
   "metadata": {},
   "outputs": [
    {
     "data": {
      "text/plain": [
       "2"
      ]
     },
     "execution_count": 14,
     "metadata": {},
     "output_type": "execute_result"
    }
   ],
   "source": [
    "min(list1)"
   ]
  },
  {
   "cell_type": "code",
   "execution_count": 15,
   "id": "5bef2e67-ba8d-48e9-a09c-b2902e549885",
   "metadata": {},
   "outputs": [
    {
     "data": {
      "text/plain": [
       "'apple'"
      ]
     },
     "execution_count": 15,
     "metadata": {},
     "output_type": "execute_result"
    }
   ],
   "source": [
    "min(list2)"
   ]
  },
  {
   "cell_type": "code",
   "execution_count": 16,
   "id": "0ebdc7fb-82d6-4a07-bea2-41a2b2c0f957",
   "metadata": {},
   "outputs": [
    {
     "ename": "TypeError",
     "evalue": "'<' not supported between instances of 'str' and 'int'",
     "output_type": "error",
     "traceback": [
      "\u001b[1;31m---------------------------------------------------------------------------\u001b[0m",
      "\u001b[1;31mTypeError\u001b[0m                                 Traceback (most recent call last)",
      "Cell \u001b[1;32mIn[16], line 1\u001b[0m\n\u001b[1;32m----> 1\u001b[0m \u001b[38;5;28mmin\u001b[39m(list3)\n",
      "\u001b[1;31mTypeError\u001b[0m: '<' not supported between instances of 'str' and 'int'"
     ]
    }
   ],
   "source": [
    "min(list3)"
   ]
  },
  {
   "cell_type": "code",
   "execution_count": 17,
   "id": "5fcc05ad-778d-47cb-bfcc-9ddc3e8d6268",
   "metadata": {},
   "outputs": [
    {
     "data": {
      "text/plain": [
       "<list_reverseiterator at 0x2850b60ece0>"
      ]
     },
     "execution_count": 17,
     "metadata": {},
     "output_type": "execute_result"
    }
   ],
   "source": [
    "reversed(list1)"
   ]
  },
  {
   "cell_type": "code",
   "execution_count": 18,
   "id": "64681070-c6bb-480a-8fbc-648f06048061",
   "metadata": {},
   "outputs": [
    {
     "data": {
      "text/plain": [
       "[75, 5, 2, 20, 10]"
      ]
     },
     "execution_count": 18,
     "metadata": {},
     "output_type": "execute_result"
    }
   ],
   "source": [
    "list(reversed(list1))"
   ]
  },
  {
   "cell_type": "code",
   "execution_count": 19,
   "id": "1ee8bff1-d858-400a-a046-7fa0853a7fcc",
   "metadata": {},
   "outputs": [
    {
     "data": {
      "text/plain": [
       "<list_reverseiterator at 0x2850b61bee0>"
      ]
     },
     "execution_count": 19,
     "metadata": {},
     "output_type": "execute_result"
    }
   ],
   "source": [
    "reversed(list2)"
   ]
  },
  {
   "cell_type": "code",
   "execution_count": 20,
   "id": "c843580f-2dc1-4569-87b3-84a9cbc24654",
   "metadata": {},
   "outputs": [
    {
     "data": {
      "text/plain": [
       "<list_reverseiterator at 0x2850b61f1c0>"
      ]
     },
     "execution_count": 20,
     "metadata": {},
     "output_type": "execute_result"
    }
   ],
   "source": [
    "reversed(list3)"
   ]
  },
  {
   "cell_type": "code",
   "execution_count": 21,
   "id": "e6f5ef16-a4ce-45a3-ae07-07fe1de0e817",
   "metadata": {},
   "outputs": [
    {
     "data": {
      "text/plain": [
       "[2, 5, 10, 20, 75]"
      ]
     },
     "execution_count": 21,
     "metadata": {},
     "output_type": "execute_result"
    }
   ],
   "source": [
    "sorted(list1)"
   ]
  },
  {
   "cell_type": "code",
   "execution_count": 22,
   "id": "fe5cc6c0-3982-4563-a114-6b88dfc6ade3",
   "metadata": {},
   "outputs": [
    {
     "data": {
      "text/plain": [
       "['apple', 'banana', 'cherry']"
      ]
     },
     "execution_count": 22,
     "metadata": {},
     "output_type": "execute_result"
    }
   ],
   "source": [
    "sorted(list2)"
   ]
  },
  {
   "cell_type": "code",
   "execution_count": 23,
   "id": "c9c64191-58db-4283-9e88-8efab5adf0e6",
   "metadata": {},
   "outputs": [
    {
     "ename": "TypeError",
     "evalue": "'<' not supported between instances of 'str' and 'int'",
     "output_type": "error",
     "traceback": [
      "\u001b[1;31m---------------------------------------------------------------------------\u001b[0m",
      "\u001b[1;31mTypeError\u001b[0m                                 Traceback (most recent call last)",
      "Cell \u001b[1;32mIn[23], line 1\u001b[0m\n\u001b[1;32m----> 1\u001b[0m \u001b[38;5;28msorted\u001b[39m(list3)\n",
      "\u001b[1;31mTypeError\u001b[0m: '<' not supported between instances of 'str' and 'int'"
     ]
    }
   ],
   "source": [
    "sorted(list3)"
   ]
  },
  {
   "cell_type": "code",
   "execution_count": 24,
   "id": "637401c2-5fcf-4d29-8f39-cb4bb930fed4",
   "metadata": {},
   "outputs": [
    {
     "data": {
      "text/plain": [
       "list"
      ]
     },
     "execution_count": 24,
     "metadata": {},
     "output_type": "execute_result"
    }
   ],
   "source": [
    "type(list1)"
   ]
  },
  {
   "cell_type": "code",
   "execution_count": 25,
   "id": "5ec18cc3-225b-4a5c-9360-1eeb9d0f569a",
   "metadata": {},
   "outputs": [
    {
     "data": {
      "text/plain": [
       "list"
      ]
     },
     "execution_count": 25,
     "metadata": {},
     "output_type": "execute_result"
    }
   ],
   "source": [
    "type(list2)"
   ]
  },
  {
   "cell_type": "code",
   "execution_count": 26,
   "id": "ff3f70ef-898b-4fda-a6fb-8ca397283066",
   "metadata": {},
   "outputs": [
    {
     "name": "stdout",
     "output_type": "stream",
     "text": [
      "cherry\n",
      "banana\n",
      "apple\n",
      "75\n",
      "5\n",
      "2\n",
      "20\n",
      "10\n"
     ]
    }
   ],
   "source": [
    "for i in reversed(list3):\n",
    "    print(i)"
   ]
  },
  {
   "cell_type": "code",
   "execution_count": null,
   "id": "210dae7f-fa8f-4a54-971a-8a8ccb4514da",
   "metadata": {},
   "outputs": [],
   "source": [
    "#list=[10,20,2,5,75]\n",
    "#1) sort the list with0ut sorted function\n",
    "#2) find the max value with out max function"
   ]
  },
  {
   "cell_type": "markdown",
   "id": "94a605b0-e95f-45b0-ab6d-77d38532846e",
   "metadata": {},
   "source": [
    "**concatenation**"
   ]
  },
  {
   "cell_type": "code",
   "execution_count": 8,
   "id": "20ea15bf-a12b-435e-b656-3af46ad33cac",
   "metadata": {},
   "outputs": [
    {
     "data": {
      "text/plain": [
       "[1, 2, 3, 4, 'A', 'B', 'C', 'D']"
      ]
     },
     "execution_count": 8,
     "metadata": {},
     "output_type": "execute_result"
    }
   ],
   "source": [
    "list1=[1,2,3,4]\n",
    "list2=['A','B','C','D']\n",
    "list1+list2"
   ]
  },
  {
   "cell_type": "code",
   "execution_count": 27,
   "id": "cb2a77ea-de61-4f40-b525-43be126de085",
   "metadata": {},
   "outputs": [
    {
     "ename": "TypeError",
     "evalue": "unsupported operand type(s) for -: 'list' and 'list'",
     "output_type": "error",
     "traceback": [
      "\u001b[1;31m---------------------------------------------------------------------------\u001b[0m",
      "\u001b[1;31mTypeError\u001b[0m                                 Traceback (most recent call last)",
      "Cell \u001b[1;32mIn[27], line 3\u001b[0m\n\u001b[0;32m      1\u001b[0m list1\u001b[38;5;241m=\u001b[39m[\u001b[38;5;241m1\u001b[39m,\u001b[38;5;241m2\u001b[39m,\u001b[38;5;241m3\u001b[39m,\u001b[38;5;241m4\u001b[39m]\n\u001b[0;32m      2\u001b[0m list2\u001b[38;5;241m=\u001b[39m[\u001b[38;5;124m'\u001b[39m\u001b[38;5;124mA\u001b[39m\u001b[38;5;124m'\u001b[39m,\u001b[38;5;124m'\u001b[39m\u001b[38;5;124mB\u001b[39m\u001b[38;5;124m'\u001b[39m,\u001b[38;5;124m'\u001b[39m\u001b[38;5;124mC\u001b[39m\u001b[38;5;124m'\u001b[39m,\u001b[38;5;124m'\u001b[39m\u001b[38;5;124mD\u001b[39m\u001b[38;5;124m'\u001b[39m]\n\u001b[1;32m----> 3\u001b[0m list1\u001b[38;5;241m-\u001b[39mlist2\n",
      "\u001b[1;31mTypeError\u001b[0m: unsupported operand type(s) for -: 'list' and 'list'"
     ]
    }
   ],
   "source": [
    "list1=[1,2,3,4]\n",
    "list2=['A','B','C','D']\n",
    "list1-list2"
   ]
  },
  {
   "cell_type": "code",
   "execution_count": 10,
   "id": "e501bf50-fa86-4583-9115-a1e9dc724190",
   "metadata": {},
   "outputs": [
    {
     "ename": "TypeError",
     "evalue": "can't multiply sequence by non-int of type 'list'",
     "output_type": "error",
     "traceback": [
      "\u001b[1;31m---------------------------------------------------------------------------\u001b[0m",
      "\u001b[1;31mTypeError\u001b[0m                                 Traceback (most recent call last)",
      "Cell \u001b[1;32mIn[10], line 3\u001b[0m\n\u001b[0;32m      1\u001b[0m list1\u001b[38;5;241m=\u001b[39m[\u001b[38;5;241m1\u001b[39m,\u001b[38;5;241m2\u001b[39m,\u001b[38;5;241m3\u001b[39m,\u001b[38;5;241m4\u001b[39m]\n\u001b[0;32m      2\u001b[0m list2\u001b[38;5;241m=\u001b[39m[\u001b[38;5;124m'\u001b[39m\u001b[38;5;124mA\u001b[39m\u001b[38;5;124m'\u001b[39m,\u001b[38;5;124m'\u001b[39m\u001b[38;5;124mB\u001b[39m\u001b[38;5;124m'\u001b[39m,\u001b[38;5;124m'\u001b[39m\u001b[38;5;124mC\u001b[39m\u001b[38;5;124m'\u001b[39m,\u001b[38;5;124m'\u001b[39m\u001b[38;5;124mD\u001b[39m\u001b[38;5;124m'\u001b[39m]\n\u001b[1;32m----> 3\u001b[0m list1\u001b[38;5;241m*\u001b[39mlist2\n",
      "\u001b[1;31mTypeError\u001b[0m: can't multiply sequence by non-int of type 'list'"
     ]
    }
   ],
   "source": [
    "list1=[1,2,3,4]\n",
    "list2=['A','B','C','D']\n",
    "list1*list2"
   ]
  },
  {
   "cell_type": "code",
   "execution_count": 11,
   "id": "71c1fce9-be08-45db-87e7-e05731f088fe",
   "metadata": {},
   "outputs": [
    {
     "ename": "TypeError",
     "evalue": "unsupported operand type(s) for /: 'list' and 'list'",
     "output_type": "error",
     "traceback": [
      "\u001b[1;31m---------------------------------------------------------------------------\u001b[0m",
      "\u001b[1;31mTypeError\u001b[0m                                 Traceback (most recent call last)",
      "Cell \u001b[1;32mIn[11], line 3\u001b[0m\n\u001b[0;32m      1\u001b[0m list1\u001b[38;5;241m=\u001b[39m[\u001b[38;5;241m1\u001b[39m,\u001b[38;5;241m2\u001b[39m,\u001b[38;5;241m3\u001b[39m,\u001b[38;5;241m4\u001b[39m]\n\u001b[0;32m      2\u001b[0m list2\u001b[38;5;241m=\u001b[39m[\u001b[38;5;124m'\u001b[39m\u001b[38;5;124mA\u001b[39m\u001b[38;5;124m'\u001b[39m,\u001b[38;5;124m'\u001b[39m\u001b[38;5;124mB\u001b[39m\u001b[38;5;124m'\u001b[39m,\u001b[38;5;124m'\u001b[39m\u001b[38;5;124mC\u001b[39m\u001b[38;5;124m'\u001b[39m,\u001b[38;5;124m'\u001b[39m\u001b[38;5;124mD\u001b[39m\u001b[38;5;124m'\u001b[39m]\n\u001b[1;32m----> 3\u001b[0m list1\u001b[38;5;241m/\u001b[39mlist2\n",
      "\u001b[1;31mTypeError\u001b[0m: unsupported operand type(s) for /: 'list' and 'list'"
     ]
    }
   ],
   "source": [
    "list1=[1,2,3,4]\n",
    "list2=['A','B','C','D']\n",
    "list1/list2\n"
   ]
  },
  {
   "cell_type": "code",
   "execution_count": 13,
   "id": "e10ddcc0-52de-4725-92a2-52710612042b",
   "metadata": {},
   "outputs": [
    {
     "ename": "TypeError",
     "evalue": "unsupported operand type(s) for %: 'list' and 'list'",
     "output_type": "error",
     "traceback": [
      "\u001b[1;31m---------------------------------------------------------------------------\u001b[0m",
      "\u001b[1;31mTypeError\u001b[0m                                 Traceback (most recent call last)",
      "Cell \u001b[1;32mIn[13], line 3\u001b[0m\n\u001b[0;32m      1\u001b[0m list1\u001b[38;5;241m=\u001b[39m[\u001b[38;5;241m1\u001b[39m,\u001b[38;5;241m2\u001b[39m,\u001b[38;5;241m3\u001b[39m,\u001b[38;5;241m4\u001b[39m]\n\u001b[0;32m      2\u001b[0m list2\u001b[38;5;241m=\u001b[39m[\u001b[38;5;124m'\u001b[39m\u001b[38;5;124mA\u001b[39m\u001b[38;5;124m'\u001b[39m,\u001b[38;5;124m'\u001b[39m\u001b[38;5;124mB\u001b[39m\u001b[38;5;124m'\u001b[39m,\u001b[38;5;124m'\u001b[39m\u001b[38;5;124mC\u001b[39m\u001b[38;5;124m'\u001b[39m,\u001b[38;5;124m'\u001b[39m\u001b[38;5;124mD\u001b[39m\u001b[38;5;124m'\u001b[39m]\n\u001b[1;32m----> 3\u001b[0m list1\u001b[38;5;241m%\u001b[39mlist2\n",
      "\u001b[1;31mTypeError\u001b[0m: unsupported operand type(s) for %: 'list' and 'list'"
     ]
    }
   ],
   "source": [
    "list1=[1,2,3,4]\n",
    "list2=['A','B','C','D']\n",
    "list1%list2"
   ]
  },
  {
   "cell_type": "code",
   "execution_count": 12,
   "id": "0dbafc1b-35b3-480c-ab6f-dadb550870bb",
   "metadata": {},
   "outputs": [
    {
     "name": "stdout",
     "output_type": "stream",
     "text": [
      "[1, 2, 3, 4, 'A', 'B', 'C', 'D']\n",
      "[1, 2, 3, 4, 1, 2, 3, 4]\n"
     ]
    }
   ],
   "source": [
    "    print(list1+list2)\n",
    "print(list1*2)"
   ]
  },
  {
   "cell_type": "code",
   "execution_count": 4,
   "id": "88c4acdf-2b8b-43cc-8186-ae724a0727f7",
   "metadata": {},
   "outputs": [
    {
     "name": "stdout",
     "output_type": "stream",
     "text": [
      "pythonpython\n",
      "pythonpython\n"
     ]
    }
   ],
   "source": [
    "print('python'*2)\n",
    "print('python'+'python')"
   ]
  },
  {
   "cell_type": "code",
   "execution_count": null,
   "id": "4134be43-2ef9-4c06-8223-d3ddc6bf6420",
   "metadata": {},
   "outputs": [],
   "source": [
    "list1*list1  # Fail different error\n",
    "list1-list1  # Fail unsupposrted operand\n",
    "list1/lit1   # Fail unsupp"
   ]
  },
  {
   "cell_type": "markdown",
   "id": "8bc6dc82-ead1-45fb-b286-6069aea1684b",
   "metadata": {},
   "source": [
    "**index**"
   ]
  },
  {
   "cell_type": "code",
   "execution_count": 28,
   "id": "8d8d4d15-a020-4cad-bafb-d0f565feea67",
   "metadata": {},
   "outputs": [
    {
     "data": {
      "text/plain": [
       "(1, 1)"
      ]
     },
     "execution_count": 28,
     "metadata": {},
     "output_type": "execute_result"
    }
   ],
   "source": [
    "#-6 -5 -4 -3 -2 -1\n",
    "#10 20 30 40 50 60\n",
    "#0  1  2  3  4  5\n",
    "list1=[1,2,3,'A','B','C']\n",
    "list1[0],list1[-6]"
   ]
  },
  {
   "cell_type": "code",
   "execution_count": 29,
   "id": "ef9aabcc-ee97-4e35-9eab-8bb566bc071d",
   "metadata": {},
   "outputs": [
    {
     "data": {
      "text/plain": [
       "(10, 10)"
      ]
     },
     "execution_count": 29,
     "metadata": {},
     "output_type": "execute_result"
    }
   ],
   "source": [
    "list1=[10,20,30,'A','B','C']\n",
    "list1[0],list1[-6]"
   ]
  },
  {
   "cell_type": "code",
   "execution_count": 16,
   "id": "3187be91-021b-458b-8ae8-cbfbf04a2002",
   "metadata": {},
   "outputs": [
    {
     "data": {
      "text/plain": [
       "(10, 20)"
      ]
     },
     "execution_count": 16,
     "metadata": {},
     "output_type": "execute_result"
    }
   ],
   "source": [
    "list1=[10,20,30,'A','B','C']\n",
    "list1[0],list1[-5]"
   ]
  },
  {
   "cell_type": "code",
   "execution_count": null,
   "id": "9323dadc-063b-4c5a-a532-90052ca0d3b8",
   "metadata": {},
   "outputs": [],
   "source": [
    "# Postive index of 10 is 0\n",
    "# negative index of 10 is -6\n",
    "# postive index is 0 and negative index is -6 for 10"
   ]
  },
  {
   "cell_type": "code",
   "execution_count": 17,
   "id": "e7389660-fcf6-4496-9aa6-8f72a026d77d",
   "metadata": {},
   "outputs": [
    {
     "name": "stdout",
     "output_type": "stream",
     "text": [
      " the positive index of 0 is:1\n",
      " the positive index of 1 is:2\n",
      " the positive index of 2 is:3\n",
      " the positive index of 3 is:A\n",
      " the positive index of 4 is:B\n",
      " the positive index of 5 is:C\n"
     ]
    }
   ],
   "source": [
    "list1=[1,2,3,'A','B','C']\n",
    "n=len(list1)\n",
    "for i in range(len(list1)):\n",
    "    print(f\" the positive index of {i} is:{list1[i]}\")"
   ]
  },
  {
   "cell_type": "code",
   "execution_count": null,
   "id": "92b6e558-8b86-4a72-83cc-bd5af078279f",
   "metadata": {},
   "outputs": [],
   "source": []
  },
  {
   "cell_type": "code",
   "execution_count": 18,
   "id": "e3e8ea82-a703-4edb-9fcd-e2338203e972",
   "metadata": {},
   "outputs": [
    {
     "data": {
      "text/plain": [
       "list"
      ]
     },
     "execution_count": 18,
     "metadata": {},
     "output_type": "execute_result"
    }
   ],
   "source": [
    "list"
   ]
  },
  {
   "cell_type": "code",
   "execution_count": 19,
   "id": "745a097c-c2e0-44a6-b178-c6c39f54fbf6",
   "metadata": {},
   "outputs": [
    {
     "name": "stdout",
     "output_type": "stream",
     "text": [
      " the negative index of 1 is: -6\n",
      " the negative index of 2 is: -5\n",
      " the negative index of 3 is: -4\n",
      " the negative index of A is: -3\n",
      " the negative index of B is: -2\n",
      " the negative index of C is: -1\n"
     ]
    }
   ],
   "source": [
    "list1=[1,2,3,'A','B','C']\n",
    "n=len(list1)\n",
    "for i in range(len(list1)):\n",
    "    print(f\" the negative index of {list1[i]} is:\",i-6)"
   ]
  },
  {
   "cell_type": "code",
   "execution_count": 20,
   "id": "93c55e53-84c4-4948-9193-0f646d749b9e",
   "metadata": {},
   "outputs": [
    {
     "name": "stdout",
     "output_type": "stream",
     "text": [
      "0 -6\n",
      "positive index is 0 and negative index is -6 is : 1\n",
      "1 -5\n",
      "positive index is 1 and negative index is -5 is : 2\n",
      "2 -4\n",
      "positive index is 2 and negative index is -4 is : 3\n",
      "3 -3\n",
      "positive index is 3 and negative index is -3 is : A\n",
      "4 -2\n",
      "positive index is 4 and negative index is -2 is : B\n",
      "5 -1\n",
      "positive index is 5 and negative index is -1 is : C\n"
     ]
    }
   ],
   "source": [
    "for i in range(0,6):\n",
    "    print(i,i-6)\n",
    "    print(f\"positive index is {i} and negative index is {i-6} is : {list1[i]}\")\n",
    "    "
   ]
  },
  {
   "cell_type": "code",
   "execution_count": 5,
   "id": "6530fe2d-7d33-43aa-a7c9-3bcd748fda63",
   "metadata": {},
   "outputs": [
    {
     "ename": "NameError",
     "evalue": "name 'list1' is not defined",
     "output_type": "error",
     "traceback": [
      "\u001b[1;31m---------------------------------------------------------------------------\u001b[0m",
      "\u001b[1;31mNameError\u001b[0m                                 Traceback (most recent call last)",
      "Cell \u001b[1;32mIn[5], line 1\u001b[0m\n\u001b[1;32m----> 1\u001b[0m list1[\u001b[38;5;241m10\u001b[39m,\u001b[38;5;241m20\u001b[39m]\n",
      "\u001b[1;31mNameError\u001b[0m: name 'list1' is not defined"
     ]
    }
   ],
   "source": [
    "list1[10,20]"
   ]
  },
  {
   "cell_type": "code",
   "execution_count": 8,
   "id": "38f80140-c511-42bf-9561-fe44af8da0bd",
   "metadata": {},
   "outputs": [
    {
     "data": {
      "text/plain": [
       "10"
      ]
     },
     "execution_count": 8,
     "metadata": {},
     "output_type": "execute_result"
    }
   ],
   "source": [
    "list1=[10]\n",
    "list1[0]\n",
    "#inside list how many elementsare there:1"
   ]
  },
  {
   "cell_type": "code",
   "execution_count": 22,
   "id": "b3f933b6-6f79-4870-a962-501252702ccd",
   "metadata": {},
   "outputs": [
    {
     "data": {
      "text/plain": [
       "10"
      ]
     },
     "execution_count": 22,
     "metadata": {},
     "output_type": "execute_result"
    }
   ],
   "source": [
    "list1=[[10]]\n",
    "#inside how many elemnts are there:1\n",
    "#[10]\n",
    "list1[0][0]"
   ]
  },
  {
   "cell_type": "code",
   "execution_count": 23,
   "id": "4b49f14a-36a4-4c1e-ba56-603914b004ad",
   "metadata": {},
   "outputs": [
    {
     "data": {
      "text/plain": [
       "(1, 2)"
      ]
     },
     "execution_count": 23,
     "metadata": {},
     "output_type": "execute_result"
    }
   ],
   "source": [
    "list1=[[10,20]]\n",
    "list2=[10,20]\n",
    "len(list1),len(list2)"
   ]
  },
  {
   "cell_type": "code",
   "execution_count": 24,
   "id": "0517dc65-aab9-4c08-a6e2-95c524f845be",
   "metadata": {},
   "outputs": [
    {
     "data": {
      "text/plain": [
       "2"
      ]
     },
     "execution_count": 24,
     "metadata": {},
     "output_type": "execute_result"
    }
   ],
   "source": [
    "list1=[10,[20]]\n",
    "len(list1)"
   ]
  },
  {
   "cell_type": "code",
   "execution_count": 25,
   "id": "481876e2-2f73-4424-8cb5-fa234cc52fb3",
   "metadata": {},
   "outputs": [
    {
     "data": {
      "text/plain": [
       "20"
      ]
     },
     "execution_count": 25,
     "metadata": {},
     "output_type": "execute_result"
    }
   ],
   "source": [
    "list1=[10,[20]]\n",
    "list1[1][0]"
   ]
  },
  {
   "cell_type": "code",
   "execution_count": 26,
   "id": "ca0249f0-294a-44a2-b7fe-9261d5231f21",
   "metadata": {},
   "outputs": [
    {
     "data": {
      "text/plain": [
       "'cherry'"
      ]
     },
     "execution_count": 26,
     "metadata": {},
     "output_type": "execute_result"
    }
   ],
   "source": [
    "list1=[10,20,30,'A',['banana','cherry']]\n",
    "len(list1)\n",
    "list1[4][1]"
   ]
  },
  {
   "cell_type": "code",
   "execution_count": 27,
   "id": "4069bc36-d2a9-4955-8715-633e0d0293a1",
   "metadata": {},
   "outputs": [
    {
     "data": {
      "text/plain": [
       "'cherry'"
      ]
     },
     "execution_count": 27,
     "metadata": {},
     "output_type": "execute_result"
    }
   ],
   "source": [
    "list1=[10,20,30,'A',['banana','cherry']]\n",
    "list1[4][1]"
   ]
  },
  {
   "cell_type": "code",
   "execution_count": 28,
   "id": "84664f54-b53c-4aaa-9f17-c93d39a94691",
   "metadata": {},
   "outputs": [
    {
     "data": {
      "text/plain": [
       "['A', ['Apple', 'B', ['banana'], 'C', ['cherry']]]"
      ]
     },
     "execution_count": 28,
     "metadata": {},
     "output_type": "execute_result"
    }
   ],
   "source": [
    "list1=['A',['Apple','B',['banana'],'C',['cherry']]]\n",
    "list1"
   ]
  },
  {
   "cell_type": "code",
   "execution_count": 29,
   "id": "efde6a2c-cb0c-46d6-80cf-6df6bc638329",
   "metadata": {},
   "outputs": [
    {
     "data": {
      "text/plain": [
       "'cherry'"
      ]
     },
     "execution_count": 29,
     "metadata": {},
     "output_type": "execute_result"
    }
   ],
   "source": [
    "list1[1][4][0]"
   ]
  },
  {
   "cell_type": "code",
   "execution_count": 30,
   "id": "b971b98e-1c4a-459d-bcb4-78e3985ec338",
   "metadata": {},
   "outputs": [
    {
     "data": {
      "text/plain": [
       "'dragen fruit'"
      ]
     },
     "execution_count": 30,
     "metadata": {},
     "output_type": "execute_result"
    }
   ],
   "source": [
    "list1=['A',['Apple','B',['banana'],'C',['cherry'],'D',['dragen fruit']]]\n",
    "\n",
    "len(list1) #two elements are there 0,1\n",
    "list1[1][2]\n",
    "list1[1][6][0]\n",
    "\n"
   ]
  },
  {
   "cell_type": "code",
   "execution_count": 9,
   "id": "5e377584-38eb-44ba-bf56-d854586bef48",
   "metadata": {},
   "outputs": [
    {
     "data": {
      "text/plain": [
       "'Dragon fruite'"
      ]
     },
     "execution_count": 9,
     "metadata": {},
     "output_type": "execute_result"
    }
   ],
   "source": [
    "list1=['A',['Apple','B',['Banana','C',['Cherry','D',['Dragon fruite']]]]]\n",
    "len(list1) # two elements are there 0,1\n",
    "len(list1[1]) # three elememts 0,1,2\n",
    "len(list1[1][2]) # three elements 0,1,2\n",
    "len(list1[1][2][2]) # three elemnts 0,1,2\n",
    "list1[1][2][2][2][0]"
   ]
  },
  {
   "cell_type": "code",
   "execution_count": 31,
   "id": "fbe4451a-e049-48a8-a571-f9e051a3c05c",
   "metadata": {},
   "outputs": [
    {
     "ename": "IndexError",
     "evalue": "list index out of range",
     "output_type": "error",
     "traceback": [
      "\u001b[1;31m---------------------------------------------------------------------------\u001b[0m",
      "\u001b[1;31mIndexError\u001b[0m                                Traceback (most recent call last)",
      "Cell \u001b[1;32mIn[31], line 1\u001b[0m\n\u001b[1;32m----> 1\u001b[0m list1[\u001b[38;5;241m1\u001b[39m][\u001b[38;5;241m2\u001b[39m][\u001b[38;5;241m2\u001b[39m][\u001b[38;5;241m2\u001b[39m][\u001b[38;5;241m0\u001b[39m]\n",
      "\u001b[1;31mIndexError\u001b[0m: list index out of range"
     ]
    }
   ],
   "source": [
    "list1[1][2][2][2][0]"
   ]
  },
  {
   "cell_type": "code",
   "execution_count": null,
   "id": "cc4c50d8-6888-4331-b8c4-0b272b6fc86f",
   "metadata": {},
   "outputs": [],
   "source": []
  },
  {
   "cell_type": "code",
   "execution_count": 32,
   "id": "92665861-245c-4f80-9a99-92e2fe7777e9",
   "metadata": {},
   "outputs": [
    {
     "data": {
      "text/plain": [
       "['apple', ['kashmir', ['india', ['criket', ['bat']]]]]"
      ]
     },
     "execution_count": 32,
     "metadata": {},
     "output_type": "execute_result"
    }
   ],
   "source": [
    "list1=['apple',['kashmir',['india',['criket',['bat']]]]]\n",
    "list1"
   ]
  },
  {
   "cell_type": "code",
   "execution_count": 33,
   "id": "26239307-a88e-4a68-b058-f4742779bcc6",
   "metadata": {},
   "outputs": [
    {
     "data": {
      "text/plain": [
       "'anu'"
      ]
     },
     "execution_count": 33,
     "metadata": {},
     "output_type": "execute_result"
    }
   ],
   "source": [
    "list1=['apple',['kashmir',['india',['criket',['bat','anu']]]]]\n",
    "len(list1) \n",
    "list1[1][1][1][1][1]"
   ]
  },
  {
   "cell_type": "markdown",
   "id": "c4526a94-bc44-4bfd-995a-8ccc8c7366bd",
   "metadata": {},
   "source": [
    "# "
   ]
  },
  {
   "cell_type": "code",
   "execution_count": 34,
   "id": "e8aa4576-c20f-42fc-983c-cf57bced4692",
   "metadata": {},
   "outputs": [
    {
     "data": {
      "text/plain": [
       "['orange', ['nagpur', ['mh', ['shivaji', ['shamabji', ['viky']]]]]]"
      ]
     },
     "execution_count": 34,
     "metadata": {},
     "output_type": "execute_result"
    }
   ],
   "source": [
    "list2=['orange',['nagpur',['mh',['shivaji',['shamabji',['viky']]]]]]\n",
    "list2"
   ]
  },
  {
   "cell_type": "code",
   "execution_count": 35,
   "id": "fc20df87-e6b3-46b9-b665-c1644fd30482",
   "metadata": {},
   "outputs": [
    {
     "data": {
      "text/plain": [
       "'viky'"
      ]
     },
     "execution_count": 35,
     "metadata": {},
     "output_type": "execute_result"
    }
   ],
   "source": [
    "list2[1][1][1][1][1][0]"
   ]
  },
  {
   "cell_type": "code",
   "execution_count": 12,
   "id": "24a97c8b-2303-4d8c-902c-1d37394441d8",
   "metadata": {},
   "outputs": [
    {
     "data": {
      "text/plain": [
       "'A'"
      ]
     },
     "execution_count": 12,
     "metadata": {},
     "output_type": "execute_result"
    }
   ],
   "source": [
    "list3=[[[[[[[['python']]]]]]]]\n",
    "list1[0][0][0][0][0][0][0][0]"
   ]
  },
  {
   "cell_type": "code",
   "execution_count": 13,
   "id": "ad303cdd-953c-4b2f-bea8-68baea6e357b",
   "metadata": {},
   "outputs": [],
   "source": [
    "#       0   1   2   3   4   5\n",
    "list1=['p','y','t','h','o','n']\n",
    "str1='python'\n"
   ]
  },
  {
   "cell_type": "markdown",
   "id": "ec466ec5-9ef3-4f7b-bcca-a6c50d3f3b47",
   "metadata": {},
   "source": [
    "**in**"
   ]
  },
  {
   "cell_type": "code",
   "execution_count": 37,
   "id": "056f5554-908d-4694-b6af-c4492a7872e4",
   "metadata": {},
   "outputs": [
    {
     "data": {
      "text/plain": [
       "True"
      ]
     },
     "execution_count": 37,
     "metadata": {},
     "output_type": "execute_result"
    }
   ],
   "source": [
    "str1='python'\n",
    "list1='python'\n",
    "'p' in str1\n",
    "'p' in list1"
   ]
  },
  {
   "cell_type": "code",
   "execution_count": 14,
   "id": "e0c86e46-dd99-4414-a87b-009dcfe5e94f",
   "metadata": {},
   "outputs": [
    {
     "name": "stdout",
     "output_type": "stream",
     "text": [
      "p\n",
      "y\n",
      "t\n",
      "h\n",
      "o\n",
      "n\n"
     ]
    }
   ],
   "source": [
    "'p' in str1\n",
    "'p' in list1\n",
    "for i in list1:\n",
    "    print(i)"
   ]
  },
  {
   "cell_type": "markdown",
   "id": "c96676e1-7e05-4113-b1fa-1102c5ac0b92",
   "metadata": {},
   "source": [
    "**range vs in**\n",
    "- when we have use with index then go for range\n",
    "- when we have use with only element go for in"
   ]
  },
  {
   "cell_type": "markdown",
   "id": "7f983b33-8c42-4321-8217-f7aea2dceb39",
   "metadata": {},
   "source": [
    "**mutable and immutable**"
   ]
  },
  {
   "cell_type": "code",
   "execution_count": 38,
   "id": "419b7fcd-3fc0-4d73-a404-d913177f2317",
   "metadata": {},
   "outputs": [
    {
     "data": {
      "text/plain": [
       "200"
      ]
     },
     "execution_count": 38,
     "metadata": {},
     "output_type": "execute_result"
    }
   ],
   "source": [
    "list1=['python']\n",
    "list1=200\n",
    "list1"
   ]
  },
  {
   "cell_type": "code",
   "execution_count": 39,
   "id": "fce29c1c-3bd8-488e-afab-7b67edab5e68",
   "metadata": {},
   "outputs": [
    {
     "data": {
      "text/plain": [
       "[20, 200, 300, 400]"
      ]
     },
     "execution_count": 39,
     "metadata": {},
     "output_type": "execute_result"
    }
   ],
   "source": [
    "list1=[100,200,300,400]\n",
    "list1[0]=20\n",
    "list1"
   ]
  },
  {
   "cell_type": "markdown",
   "id": "dac6b1ed-3d95-4582-b283-c8119b263b00",
   "metadata": {},
   "source": [
    "**list are mutable**"
   ]
  },
  {
   "cell_type": "markdown",
   "id": "4dc26c92-3729-45f5-88c6-0c5b7fd58831",
   "metadata": {},
   "source": [
    "**slice**"
   ]
  },
  {
   "cell_type": "code",
   "execution_count": 40,
   "id": "c661e7df-50f0-469f-84c6-8e9cc3974d2b",
   "metadata": {},
   "outputs": [
    {
     "data": {
      "text/plain": [
       "[10, 20, 30, 40, 50, 'A', 'B', 'C', 'D', 'E', 'apple', 'banana']"
      ]
     },
     "execution_count": 40,
     "metadata": {},
     "output_type": "execute_result"
    }
   ],
   "source": [
    "list3=[10,20,30,40,50,'A','B','C','D','E','apple','banana']\n",
    "\n",
    "list3    "
   ]
  },
  {
   "cell_type": "code",
   "execution_count": 41,
   "id": "0b19d1f7-1665-4a39-8973-9c8f44014ec8",
   "metadata": {},
   "outputs": [
    {
     "data": {
      "text/plain": [
       "[10, 20, 30, 40, 50, 'A', 'B', 'C', 'D', 'E', 'apple', 'banana']"
      ]
     },
     "execution_count": 41,
     "metadata": {},
     "output_type": "execute_result"
    }
   ],
   "source": [
    "list3[:]"
   ]
  },
  {
   "cell_type": "code",
   "execution_count": 42,
   "id": "a10b5acb-70a3-4141-bc00-1b45244cdb07",
   "metadata": {},
   "outputs": [
    {
     "data": {
      "text/plain": [
       "[10, 20, 30, 40, 50, 'A', 'B', 'C', 'D', 'E', 'apple', 'banana']"
      ]
     },
     "execution_count": 42,
     "metadata": {},
     "output_type": "execute_result"
    }
   ],
   "source": [
    "list3[::]"
   ]
  },
  {
   "cell_type": "code",
   "execution_count": 43,
   "id": "64de96da-e38d-4cba-88d8-cd7ac68e77e1",
   "metadata": {},
   "outputs": [
    {
     "data": {
      "text/plain": [
       "['banana', 'apple', 'E', 'D', 'C', 'B', 'A', 50, 40, 30, 20, 10]"
      ]
     },
     "execution_count": 43,
     "metadata": {},
     "output_type": "execute_result"
    }
   ],
   "source": [
    "list3[::-1]"
   ]
  },
  {
   "cell_type": "code",
   "execution_count": 44,
   "id": "a6ea6b24-8d72-4944-992a-607a0fb356d3",
   "metadata": {},
   "outputs": [
    {
     "data": {
      "text/plain": [
       "[30, 50, 'B', 'D']"
      ]
     },
     "execution_count": 44,
     "metadata": {},
     "output_type": "execute_result"
    }
   ],
   "source": [
    "list3[2:10:2]"
   ]
  },
  {
   "cell_type": "code",
   "execution_count": 45,
   "id": "77f9fa42-e690-4d6f-9876-92b42e3bc930",
   "metadata": {},
   "outputs": [
    {
     "data": {
      "text/plain": [
       "[]"
      ]
     },
     "execution_count": 45,
     "metadata": {},
     "output_type": "execute_result"
    }
   ],
   "source": [
    "list3[2:10:-2]"
   ]
  },
  {
   "cell_type": "code",
   "execution_count": 46,
   "id": "48220667-4569-486a-9911-bf3ded1d7980",
   "metadata": {},
   "outputs": [
    {
     "data": {
      "text/plain": [
       "[]"
      ]
     },
     "execution_count": 46,
     "metadata": {},
     "output_type": "execute_result"
    }
   ],
   "source": [
    "list3[2:-10:2]"
   ]
  },
  {
   "cell_type": "code",
   "execution_count": 47,
   "id": "94f35925-ccf2-44a9-869b-09a458f88ae7",
   "metadata": {},
   "outputs": [
    {
     "data": {
      "text/plain": [
       "[]"
      ]
     },
     "execution_count": 47,
     "metadata": {},
     "output_type": "execute_result"
    }
   ],
   "source": [
    "list3[-2:10:2]"
   ]
  },
  {
   "cell_type": "code",
   "execution_count": 48,
   "id": "d922633d-0945-408b-ae9e-703648485846",
   "metadata": {},
   "outputs": [
    {
     "data": {
      "text/plain": [
       "[]"
      ]
     },
     "execution_count": 48,
     "metadata": {},
     "output_type": "execute_result"
    }
   ],
   "source": [
    "list3[2:-10:-2]"
   ]
  },
  {
   "cell_type": "code",
   "execution_count": 49,
   "id": "cb1334a6-6a5f-4ab2-8333-231b3486380a",
   "metadata": {},
   "outputs": [
    {
     "data": {
      "text/plain": [
       "[]"
      ]
     },
     "execution_count": 49,
     "metadata": {},
     "output_type": "execute_result"
    }
   ],
   "source": [
    "list3[-2:10:-2]"
   ]
  },
  {
   "cell_type": "code",
   "execution_count": 50,
   "id": "e11951ef-bf5e-4fd9-b81b-ec22d6a27bd4",
   "metadata": {},
   "outputs": [
    {
     "data": {
      "text/plain": [
       "[]"
      ]
     },
     "execution_count": 50,
     "metadata": {},
     "output_type": "execute_result"
    }
   ],
   "source": [
    "list3[-2:-10:2]"
   ]
  },
  {
   "cell_type": "code",
   "execution_count": 51,
   "id": "a2538116-c21d-4083-9cb8-992bd10504df",
   "metadata": {},
   "outputs": [
    {
     "data": {
      "text/plain": [
       "['apple', 'D', 'B', 50]"
      ]
     },
     "execution_count": 51,
     "metadata": {},
     "output_type": "execute_result"
    }
   ],
   "source": [
    "list3[-2:-10:-2]"
   ]
  },
  {
   "cell_type": "code",
   "execution_count": 52,
   "id": "20b1288e-a307-452f-8d67-f0c1dba570b5",
   "metadata": {},
   "outputs": [
    {
     "data": {
      "text/plain": [
       "[]"
      ]
     },
     "execution_count": 52,
     "metadata": {},
     "output_type": "execute_result"
    }
   ],
   "source": [
    "list3[10:2:2]"
   ]
  },
  {
   "cell_type": "code",
   "execution_count": 53,
   "id": "7815fbe1-366c-446f-bc86-23c7d064eb39",
   "metadata": {},
   "outputs": [
    {
     "data": {
      "text/plain": [
       "[]"
      ]
     },
     "execution_count": 53,
     "metadata": {},
     "output_type": "execute_result"
    }
   ],
   "source": [
    "list3[10:-2:2]"
   ]
  },
  {
   "cell_type": "code",
   "execution_count": 54,
   "id": "8db7f4f4-1211-4468-bca2-cf9677b99b24",
   "metadata": {},
   "outputs": [
    {
     "data": {
      "text/plain": [
       "[]"
      ]
     },
     "execution_count": 54,
     "metadata": {},
     "output_type": "execute_result"
    }
   ],
   "source": [
    "list3[-10:2:-2]"
   ]
  },
  {
   "cell_type": "code",
   "execution_count": 55,
   "id": "44385f78-e470-4e6b-9b2f-e71e3ec9c6c8",
   "metadata": {},
   "outputs": [
    {
     "data": {
      "text/plain": [
       "[]"
      ]
     },
     "execution_count": 55,
     "metadata": {},
     "output_type": "execute_result"
    }
   ],
   "source": [
    "list3[-10:-2:-2]"
   ]
  },
  {
   "cell_type": "markdown",
   "id": "2097fcbd-bf54-4647-93b8-9e1eba49b6da",
   "metadata": {},
   "source": [
    "**methods**\n"
   ]
  },
  {
   "cell_type": "code",
   "execution_count": null,
   "id": "73cc61f4-86de-48aa-b104-ef95785f1839",
   "metadata": {},
   "outputs": [],
   "source": [
    "- if we wants to know"
   ]
  },
  {
   "cell_type": "code",
   "execution_count": 67,
   "id": "eacfeb18-fd6d-423b-92d0-8ea45718a0b2",
   "metadata": {},
   "outputs": [
    {
     "data": {
      "text/plain": [
       "['__add__',\n",
       " '__class__',\n",
       " '__class_getitem__',\n",
       " '__contains__',\n",
       " '__delattr__',\n",
       " '__delitem__',\n",
       " '__dir__',\n",
       " '__doc__',\n",
       " '__eq__',\n",
       " '__format__',\n",
       " '__ge__',\n",
       " '__getattribute__',\n",
       " '__getitem__',\n",
       " '__getstate__',\n",
       " '__gt__',\n",
       " '__hash__',\n",
       " '__iadd__',\n",
       " '__imul__',\n",
       " '__init__',\n",
       " '__init_subclass__',\n",
       " '__iter__',\n",
       " '__le__',\n",
       " '__len__',\n",
       " '__lt__',\n",
       " '__mul__',\n",
       " '__ne__',\n",
       " '__new__',\n",
       " '__reduce__',\n",
       " '__reduce_ex__',\n",
       " '__repr__',\n",
       " '__reversed__',\n",
       " '__rmul__',\n",
       " '__setattr__',\n",
       " '__setitem__',\n",
       " '__sizeof__',\n",
       " '__str__',\n",
       " '__subclasshook__',\n",
       " 'append',\n",
       " 'clear',\n",
       " 'copy',\n",
       " 'count',\n",
       " 'extend',\n",
       " 'index',\n",
       " 'insert',\n",
       " 'pop',\n",
       " 'remove',\n",
       " 'reverse',\n",
       " 'sort']"
      ]
     },
     "execution_count": 67,
     "metadata": {},
     "output_type": "execute_result"
    }
   ],
   "source": [
    "dir([])"
   ]
  },
  {
   "cell_type": "code",
   "execution_count": 56,
   "id": "b8cf7093-2926-4851-b220-f4a2c40de408",
   "metadata": {},
   "outputs": [],
   "source": [
    "list1=[10,20,30,40]\n",
    "list1.clear()"
   ]
  },
  {
   "cell_type": "code",
   "execution_count": 15,
   "id": "4f824a8a-9b4f-4193-846d-1e5a4e547037",
   "metadata": {},
   "outputs": [
    {
     "name": "stdout",
     "output_type": "stream",
     "text": [
      "l1 before clear i should see the output: [10, 20, 30, 'A', 'B', 'C']\n",
      "l1 after apply clear method empty list: []\n"
     ]
    }
   ],
   "source": [
    "l1=[10,20,30,'A','B','C']\n",
    "print('l1 before clear i should see the output:',l1)\n",
    "l1.clear()\n",
    "print('l1 after apply clear method empty list:',l1)"
   ]
  },
  {
   "cell_type": "code",
   "execution_count": 18,
   "id": "e3373190-b28d-4123-aea3-9de41e3636aa",
   "metadata": {},
   "outputs": [
    {
     "name": "stdout",
     "output_type": "stream",
     "text": [
      "[10, 20, 30, 'A', 'B', 'C']\n",
      "[10, 20, 30, 'A', 'B', 'C']\n"
     ]
    }
   ],
   "source": [
    "l1=[10,20,30,'A','B','C']\n",
    "l2=l1.copy()\n",
    "# i just wants to show the difference\n",
    "print(l1)\n",
    "print(l2)"
   ]
  },
  {
   "cell_type": "code",
   "execution_count": null,
   "id": "178b9c9e-62c6-4140-abee-4a84fb729a5e",
   "metadata": {},
   "outputs": [],
   "source": [
    "list1.clear()"
   ]
  },
  {
   "cell_type": "code",
   "execution_count": 57,
   "id": "5f5c510f-a509-4a3f-9375-f47a027ed0de",
   "metadata": {},
   "outputs": [
    {
     "data": {
      "text/plain": [
       "[10, 20, 30, 40]"
      ]
     },
     "execution_count": 57,
     "metadata": {},
     "output_type": "execute_result"
    }
   ],
   "source": [
    "list1=[10,20,30,40]\n",
    "list1.copy()"
   ]
  },
  {
   "cell_type": "code",
   "execution_count": 58,
   "id": "2be7f3dc-0edd-4c8f-8c2c-c3e471d5db48",
   "metadata": {},
   "outputs": [
    {
     "data": {
      "text/plain": [
       "1"
      ]
     },
     "execution_count": 58,
     "metadata": {},
     "output_type": "execute_result"
    }
   ],
   "source": [
    "list1=[10,20,30,40]\n",
    "list1.count(10)"
   ]
  },
  {
   "cell_type": "code",
   "execution_count": 59,
   "id": "6a94d587-cde1-460f-ad30-23b81cf59c9e",
   "metadata": {},
   "outputs": [
    {
     "name": "stdout",
     "output_type": "stream",
     "text": [
      "[]\n",
      "[10, 20, 30, 40]\n"
     ]
    }
   ],
   "source": [
    "list1=[10,20,30,40]\n",
    "list2=list1.copy()\n",
    "list1.copy()\n",
    "list1.clear()\n",
    "print(list1)\n",
    "print(list2)"
   ]
  },
  {
   "cell_type": "code",
   "execution_count": 60,
   "id": "242e4c2f-8027-4322-b43d-ffc21678e04f",
   "metadata": {},
   "outputs": [
    {
     "data": {
      "text/plain": [
       "2"
      ]
     },
     "execution_count": 60,
     "metadata": {},
     "output_type": "execute_result"
    }
   ],
   "source": [
    "list1=[10,20,30,40,'A','B','C',10]\n",
    "list1.count(10)"
   ]
  },
  {
   "cell_type": "code",
   "execution_count": 61,
   "id": "d6b1d216-2b32-442b-b3f8-ee4e097d8efe",
   "metadata": {},
   "outputs": [
    {
     "data": {
      "text/plain": [
       "3"
      ]
     },
     "execution_count": 61,
     "metadata": {},
     "output_type": "execute_result"
    }
   ],
   "source": [
    "str1='ola ola ola'\n",
    "str1.count('l')"
   ]
  },
  {
   "cell_type": "code",
   "execution_count": 62,
   "id": "caedf53d-8f4b-47c1-9192-da10c1edce29",
   "metadata": {},
   "outputs": [],
   "source": [
    "list1=[10,20,30,40,'A','B','C',10]\n",
    "list1.clear()"
   ]
  },
  {
   "cell_type": "markdown",
   "id": "f36dae1b-9d3f-4c5c-8145-f43912cd5143",
   "metadata": {},
   "source": [
    "**append**"
   ]
  },
  {
   "cell_type": "markdown",
   "id": "19593c38-5f37-40e5-8f0d-737df513e42a",
   "metadata": {},
   "source": [
    "- append is very very important method in the entire list\n",
    "- in our life we will use this method very very frequently\n",
    "- append means adding an element at last"
   ]
  },
  {
   "cell_type": "code",
   "execution_count": 63,
   "id": "9b62e026-ee19-47ac-994a-c08cba3a82fb",
   "metadata": {},
   "outputs": [
    {
     "data": {
      "text/plain": [
       "[10, 20, 30, 'apple']"
      ]
     },
     "execution_count": 63,
     "metadata": {},
     "output_type": "execute_result"
    }
   ],
   "source": [
    "list1=[10,20,30]\n",
    "list1.append('apple')\n",
    "list1"
   ]
  },
  {
   "cell_type": "code",
   "execution_count": 64,
   "id": "2e017a3c-3885-4b3f-ba83-aea8c59a1a39",
   "metadata": {},
   "outputs": [
    {
     "data": {
      "text/plain": [
       "[10, 20, 30, 'apple', 'banana']"
      ]
     },
     "execution_count": 64,
     "metadata": {},
     "output_type": "execute_result"
    }
   ],
   "source": [
    "list1=[10,20,30]\n",
    "list1.append('apple')\n",
    "list1.append('banana')\n",
    "list1"
   ]
  },
  {
   "cell_type": "code",
   "execution_count": 65,
   "id": "cd5fb411-b65b-4bae-a245-ba9d7f4cdd0c",
   "metadata": {},
   "outputs": [
    {
     "data": {
      "text/plain": [
       "[10, 20, 30, 'apple', 'banana']"
      ]
     },
     "execution_count": 65,
     "metadata": {},
     "output_type": "execute_result"
    }
   ],
   "source": [
    "l1=[10,20,30]\n",
    "l1.append('apple')\n",
    "l1.append('banana')\n",
    "l1"
   ]
  },
  {
   "cell_type": "code",
   "execution_count": 66,
   "id": "4394f2fb-a841-4b0b-9fc8-3c59109eb552",
   "metadata": {},
   "outputs": [
    {
     "ename": "TypeError",
     "evalue": "list.append() takes exactly one argument (2 given)",
     "output_type": "error",
     "traceback": [
      "\u001b[1;31m---------------------------------------------------------------------------\u001b[0m",
      "\u001b[1;31mTypeError\u001b[0m                                 Traceback (most recent call last)",
      "Cell \u001b[1;32mIn[66], line 2\u001b[0m\n\u001b[0;32m      1\u001b[0m list1\u001b[38;5;241m=\u001b[39m[\u001b[38;5;241m10\u001b[39m,\u001b[38;5;241m20\u001b[39m,\u001b[38;5;241m30\u001b[39m]\n\u001b[1;32m----> 2\u001b[0m list1\u001b[38;5;241m.\u001b[39mappend(\u001b[38;5;124m'\u001b[39m\u001b[38;5;124mapple\u001b[39m\u001b[38;5;124m'\u001b[39m,\u001b[38;5;124m'\u001b[39m\u001b[38;5;124mbanana\u001b[39m\u001b[38;5;124m'\u001b[39m)\n\u001b[0;32m      3\u001b[0m list1\n",
      "\u001b[1;31mTypeError\u001b[0m: list.append() takes exactly one argument (2 given)"
     ]
    }
   ],
   "source": [
    "list1=[10,20,30]\n",
    "list1.append('apple','banana')\n",
    "list1"
   ]
  },
  {
   "cell_type": "code",
   "execution_count": 67,
   "id": "0602be8e-fc17-4288-87ad-d514976602fc",
   "metadata": {},
   "outputs": [
    {
     "data": {
      "text/plain": [
       "[10, 20, 30, ['apple', 'banana']]"
      ]
     },
     "execution_count": 67,
     "metadata": {},
     "output_type": "execute_result"
    }
   ],
   "source": [
    "list1=[10,20,30]\n",
    "list1.append(['apple','banana'])\n",
    "list1"
   ]
  },
  {
   "cell_type": "markdown",
   "id": "5618529e-f850-49c8-bf24-b906ed4d4299",
   "metadata": {},
   "source": [
    "**always recall if you are anywhere multiple values means most of the time we will keep -those values in a list**"
   ]
  },
  {
   "cell_type": "code",
   "execution_count": 68,
   "id": "0552d934-17c9-4acd-a712-e6e16745b6d2",
   "metadata": {},
   "outputs": [
    {
     "data": {
      "text/plain": [
       "[10, 20, 30, ['apple', 'banana']]"
      ]
     },
     "execution_count": 68,
     "metadata": {},
     "output_type": "execute_result"
    }
   ],
   "source": [
    "list1=[10,20,30]\n",
    "list1.append('apple')\n",
    "list1\n",
    "\n",
    "l1=[10,20,30]\n",
    "l1.append('apple')\n",
    "l1.append('banana')\n",
    "l1\n",
    "\n",
    "\n",
    "\n",
    "list1=[10,20,30]\n",
    "list1.append(['apple','banana'])\n",
    "list1\n"
   ]
  },
  {
   "cell_type": "code",
   "execution_count": 69,
   "id": "39faa425-a68d-4a88-a88f-a0bf0d3cfd48",
   "metadata": {},
   "outputs": [
    {
     "data": {
      "text/plain": [
       "[10, 20, 30, 'apple', 'banana', 'orange']"
      ]
     },
     "execution_count": 69,
     "metadata": {},
     "output_type": "execute_result"
    }
   ],
   "source": [
    "l1=[10,20,30,'apple','banana']\n",
    "l1.append('orange')\n",
    "l1"
   ]
  },
  {
   "cell_type": "code",
   "execution_count": 70,
   "id": "b99b287b-c72d-4645-9e99-dca999be6c54",
   "metadata": {},
   "outputs": [
    {
     "ename": "TypeError",
     "evalue": "list.append() takes exactly one argument (2 given)",
     "output_type": "error",
     "traceback": [
      "\u001b[1;31m---------------------------------------------------------------------------\u001b[0m",
      "\u001b[1;31mTypeError\u001b[0m                                 Traceback (most recent call last)",
      "Cell \u001b[1;32mIn[70], line 2\u001b[0m\n\u001b[0;32m      1\u001b[0m l1\u001b[38;5;241m=\u001b[39m[\u001b[38;5;241m10\u001b[39m,\u001b[38;5;241m20\u001b[39m,\u001b[38;5;241m30\u001b[39m,\u001b[38;5;124m'\u001b[39m\u001b[38;5;124mapple\u001b[39m\u001b[38;5;124m'\u001b[39m,\u001b[38;5;124m'\u001b[39m\u001b[38;5;124mbanana\u001b[39m\u001b[38;5;124m'\u001b[39m]\n\u001b[1;32m----> 2\u001b[0m l1\u001b[38;5;241m.\u001b[39mappend(\u001b[38;5;124m'\u001b[39m\u001b[38;5;124morange\u001b[39m\u001b[38;5;124m'\u001b[39m,\u001b[38;5;124m'\u001b[39m\u001b[38;5;124mgrapes\u001b[39m\u001b[38;5;124m'\u001b[39m)\n\u001b[0;32m      3\u001b[0m l1\n",
      "\u001b[1;31mTypeError\u001b[0m: list.append() takes exactly one argument (2 given)"
     ]
    }
   ],
   "source": [
    "l1=[10,20,30,'apple','banana']\n",
    "l1.append('orange','grapes')\n",
    "l1"
   ]
  },
  {
   "cell_type": "code",
   "execution_count": 71,
   "id": "a99d610b-dba9-4adf-b544-86450d62b697",
   "metadata": {},
   "outputs": [
    {
     "data": {
      "text/plain": [
       "[10, 20, 30, 'apple', 'banana', ['orange', 'grapes']]"
      ]
     },
     "execution_count": 71,
     "metadata": {},
     "output_type": "execute_result"
    }
   ],
   "source": [
    "l1=[10,20,30,'apple','banana']\n",
    "l1.append(['orange','grapes'])\n",
    "l1"
   ]
  },
  {
   "cell_type": "markdown",
   "id": "020b5688-d5f9-45ad-8f3a-521a341e8ed2",
   "metadata": {},
   "source": [
    "**append method is used to store the outputs**"
   ]
  },
  {
   "cell_type": "code",
   "execution_count": 19,
   "id": "b329a568-a07e-4694-9448-401fb6c3357a",
   "metadata": {},
   "outputs": [],
   "source": [
    "l1=[]\n",
    "l1.append(1)\n",
    "l1.append(2)\n",
    "l1.append(3)\n",
    "l1.append(4)\n",
    "l1.append(5)\n",
    "l1\n",
    "for i in range(1,6):\n",
    "    l1.append(i)\n"
   ]
  },
  {
   "cell_type": "code",
   "execution_count": 20,
   "id": "21d56501-9924-4bfa-9343-ccbe84eb7cc7",
   "metadata": {},
   "outputs": [
    {
     "name": "stdout",
     "output_type": "stream",
     "text": [
      "[1, 2, 3, 4, 5]\n"
     ]
    }
   ],
   "source": [
    "l1=[]\n",
    "for i in range(1,6):\n",
    "    l1.append(i)\n",
    "print(l1)"
   ]
  },
  {
   "cell_type": "code",
   "execution_count": 22,
   "id": "18d8e63e-c8f3-41d0-a21c-614e1b4b206b",
   "metadata": {},
   "outputs": [
    {
     "data": {
      "text/plain": [
       "[82, 75, 36]"
      ]
     },
     "execution_count": 22,
     "metadata": {},
     "output_type": "execute_result"
    }
   ],
   "source": [
    "#1) wap and ask the user enter 3 random numbers\n",
    "#and perform the square of the numbers,save those squares in a list\n",
    "import random\n",
    "l1=[]\n",
    "for i in range(3):\n",
    "    n1=random.randint(1,100)\n",
    "    l1.append(n1)\n",
    "\n",
    "l1"
   ]
  },
  {
   "cell_type": "code",
   "execution_count": 24,
   "id": "527e28f3-1ae1-4e89-8f85-19322b9304de",
   "metadata": {},
   "outputs": [
    {
     "name": "stdout",
     "output_type": "stream",
     "text": [
      "91\n",
      "14\n",
      "75\n"
     ]
    }
   ],
   "source": [
    "import random\n",
    "for i in range(3):\n",
    "    num=random.randint(1,100)\n",
    "    print(num)"
   ]
  },
  {
   "cell_type": "code",
   "execution_count": 75,
   "id": "1bc1e7b6-9fb3-4cf9-a3d6-65d060686301",
   "metadata": {},
   "outputs": [
    {
     "data": {
      "text/plain": [
       "['39:1521', '79:6241', '63:3969']"
      ]
     },
     "execution_count": 75,
     "metadata": {},
     "output_type": "execute_result"
    }
   ],
   "source": [
    "import random\n",
    "l1=[]\n",
    "for i in range(3):\n",
    "    n1=random.randint(1,100)\n",
    "    l1.append(f\"{n1}:{n1*n1}\")\n",
    "\n",
    "l1\n"
   ]
  },
  {
   "cell_type": "code",
   "execution_count": 76,
   "id": "1f21fd32-8330-437f-8d77-57c4e5363f41",
   "metadata": {},
   "outputs": [
    {
     "name": "stdout",
     "output_type": "stream",
     "text": [
      "even list is: [10, 12]\n",
      "odd list is: [47, 53, 27]\n"
     ]
    }
   ],
   "source": [
    "# Q2) i alreday have a list of numbers\n",
    "#  l=[10,47,53,12,27]\n",
    "# from above list i want to get a even_list and odd_list\n",
    "# even_list=[10,12]\n",
    "# odd_list=[47,53,27]\n",
    "l=[10,47,53,12,27]\n",
    "l1=[]\n",
    "l2=[]\n",
    "for i in l:\n",
    "    if i%2==0:\n",
    "        l1.append(i)\n",
    "        \n",
    "    else:\n",
    "        l2.append(i)\n",
    "\n",
    "print(\"even list is:\",l1)\n",
    "print(\"odd list is:\",l2)\n",
    "        "
   ]
  },
  {
   "cell_type": "code",
   "execution_count": null,
   "id": "8bf8dd78-0a18-40ab-808f-850ad2d875d9",
   "metadata": {},
   "outputs": [],
   "source": [
    "# Q3) input=['hyd','bengaluru','pune','mumbai']\n",
    "#     output=['Hyd','Bengaluru','Pune','Mumbai']\n",
    "\n",
    "# Q4) input=['hyd','bengaluru','pune','mumbai']\n",
    "#     output=['HYD','BENGALURU','PUNE','MUMBAI']\n",
    "\n",
    "# Q5) input=['hyd','ben#galuru','pune','mu#mbai']\n",
    "#     output=[ben#galuru',mu#mbai']\n",
    "\n",
    "# Q6) input=['hyd','ben#galuru','pune','mu#mbai']\n",
    "#     output=[hyd,pune]\n",
    "\n",
    "# Q7) input = 'hai how are you'\n",
    "#     output=['HAI','HOW','ARE','YOU']\n",
    "\n",
    "# Q8) input='virat.kohli@rcb.com;rohit.sharma@mi.com;ms.dhoni@csk.com'\n",
    "#     fname=['virat','rohit'.'ms']\n",
    "#     sname=['kohli','sharma','dhoni']\n",
    "#     cname=['rcb','mi','csk']\n",
    "\n",
    "# Q9) input='can canner can you can not canner with you but you can the canner'\n",
    "#     output=['can'-4,'canner'-3,'you'-3,'not'-1,'with'-1,'but'-1,'the'-1]\n",
    "\n",
    "# Q10) input = 'can canner can you can not canner with you but you can the canner'\n",
    "#      stopwords=['not','you','but','with']\n",
    "#      using stopwords remove those words from input\n",
    "#     output='can canner can can canner can canner'\n",
    "\n",
    "# Q11) take a string find the most repeated word from string\n",
    "\n",
    "# Q12) take a string find the longest length of the word from string\n",
    "\n",
    "# Q13) take a string find the lowest length of the word from string\n",
    "\n",
    "# Q14) you have some qns list is there\n",
    "#      also you have answers list also there\n",
    "#     qns=['who is PM of india',\n",
    "#       'what is the capital of india', who is ICT MENS captain]\n",
    "#    ans=['Modi','Delhi','Rohit']\n",
    "#    whenerver correct answer marks +10\n",
    "#    print you got total "
   ]
  },
  {
   "cell_type": "code",
   "execution_count": 25,
   "id": "56fb1036-fc08-4a55-9e31-ec3fec4eac17",
   "metadata": {},
   "outputs": [
    {
     "name": "stdin",
     "output_type": "stream",
     "text": [
      "who is PM of india modi\n",
      "what is the capital of india delhi\n",
      "who is ICT MENS captain rohith\n"
     ]
    }
   ],
   "source": [
    "qns=['who is PM of india','what is the capital of india', 'who is ICT MENS captain']\n",
    "for i in qns:\n",
    "    ans=input(i)"
   ]
  },
  {
   "cell_type": "code",
   "execution_count": 17,
   "id": "c5b2f6ef-1b89-4fbc-aa2a-eb879c6d9ed2",
   "metadata": {},
   "outputs": [
    {
     "data": {
      "text/plain": [
       "['mumbai', 'pune', 'bengaluru', 'hyd']"
      ]
     },
     "execution_count": 17,
     "metadata": {},
     "output_type": "execute_result"
    }
   ],
   "source": [
    "l1=['hyd','bengaluru','pune','mumbai']\n",
    "l1[::-1]"
   ]
  },
  {
   "cell_type": "code",
   "execution_count": 26,
   "id": "bc8c490f-9475-4013-a030-bea9a52e9617",
   "metadata": {},
   "outputs": [
    {
     "ename": "SyntaxError",
     "evalue": "invalid syntax (968358586.py, line 2)",
     "output_type": "error",
     "traceback": [
      "\u001b[1;36m  Cell \u001b[1;32mIn[26], line 2\u001b[1;36m\u001b[0m\n\u001b[1;33m    l1[]\u001b[0m\n\u001b[1;37m       ^\u001b[0m\n\u001b[1;31mSyntaxError\u001b[0m\u001b[1;31m:\u001b[0m invalid syntax\n"
     ]
    }
   ],
   "source": [
    "l1=['hyd','bengaluru','pune','mumbai']\n",
    "l1[]\n",
    "l1.append()"
   ]
  },
  {
   "cell_type": "code",
   "execution_count": 38,
   "id": "fed2e26a-8af2-422a-8c68-21430a2c54a0",
   "metadata": {},
   "outputs": [
    {
     "ename": "TypeError",
     "evalue": "'builtin_function_or_method' object is not subscriptable",
     "output_type": "error",
     "traceback": [
      "\u001b[1;31m---------------------------------------------------------------------------\u001b[0m",
      "\u001b[1;31mTypeError\u001b[0m                                 Traceback (most recent call last)",
      "Cell \u001b[1;32mIn[38], line 2\u001b[0m\n\u001b[0;32m      1\u001b[0m l1\u001b[38;5;241m=\u001b[39m[\u001b[38;5;124m'\u001b[39m\u001b[38;5;124mhyd\u001b[39m\u001b[38;5;124m'\u001b[39m,\u001b[38;5;124m'\u001b[39m\u001b[38;5;124mbengaluru\u001b[39m\u001b[38;5;124m'\u001b[39m,\u001b[38;5;124m'\u001b[39m\u001b[38;5;124mpune\u001b[39m\u001b[38;5;124m'\u001b[39m,\u001b[38;5;124m'\u001b[39m\u001b[38;5;124mmumbai\u001b[39m\u001b[38;5;124m'\u001b[39m]\n\u001b[1;32m----> 2\u001b[0m l1\u001b[38;5;241m.\u001b[39minsert[\u001b[38;5;241m1\u001b[39m,\u001b[38;5;124m'\u001b[39m\u001b[38;5;124mHYD\u001b[39m\u001b[38;5;124m'\u001b[39m]\n\u001b[0;32m      3\u001b[0m l1\u001b[38;5;241m.\u001b[39minsert[\u001b[38;5;241m2\u001b[39m,\u001b[38;5;124m'\u001b[39m\u001b[38;5;124mBENGALURU\u001b[39m\u001b[38;5;124m'\u001b[39m]\n\u001b[0;32m      4\u001b[0m l1\u001b[38;5;241m.\u001b[39minsert[\u001b[38;5;241m3\u001b[39m,\u001b[38;5;124m'\u001b[39m\u001b[38;5;124mPUNE\u001b[39m\u001b[38;5;124m'\u001b[39m]\n",
      "\u001b[1;31mTypeError\u001b[0m: 'builtin_function_or_method' object is not subscriptable"
     ]
    }
   ],
   "source": [
    "l1=['hyd','bengaluru','pune','mumbai']\n",
    "l1.insert[0,'HYD']\n",
    "l1.insert[1,'BENGALURU']\n",
    "l1.insert[2,'PUNE']\n",
    "l1.insert[3,'MUMBAI']\n",
    "L1\n"
   ]
  },
  {
   "cell_type": "code",
   "execution_count": 36,
   "id": "655c43e0-283a-4954-b846-76e2fb0daaee",
   "metadata": {},
   "outputs": [
    {
     "data": {
      "text/plain": [
       "['HYD', 'BENGALURU', 'PUNE', 'MUMBAI']"
      ]
     },
     "execution_count": 36,
     "metadata": {},
     "output_type": "execute_result"
    }
   ],
   "source": [
    "l1=['hyd','bengaluru','pune','mumbai']\n",
    "l1[0]='HYD'\n",
    "l1[1]='BENGALURU'\n",
    "l1[2]='PUNE'\n",
    "l1[3]='MUMBAI'\n",
    "l1"
   ]
  },
  {
   "cell_type": "code",
   "execution_count": 48,
   "id": "1cb23c29-dc97-462a-9283-a8f8c1766886",
   "metadata": {},
   "outputs": [
    {
     "data": {
      "text/plain": [
       "['HYD', 'bengaluru', 'pune', 'MUMBAI']"
      ]
     },
     "execution_count": 48,
     "metadata": {},
     "output_type": "execute_result"
    }
   ],
   "source": [
    "l1=['hyd','bengaluru','pune','mumbai']\n",
    "l1[0]='HYD'\n",
    "l1[3]='MUMBAI'\n",
    "l1"
   ]
  },
  {
   "cell_type": "code",
   "execution_count": 49,
   "id": "6e02a98a-39f8-48cd-90f9-236eab33990f",
   "metadata": {},
   "outputs": [
    {
     "data": {
      "text/plain": [
       "('HYD', 'MUMBAI')"
      ]
     },
     "execution_count": 49,
     "metadata": {},
     "output_type": "execute_result"
    }
   ],
   "source": [
    "l1[0],l1[3]"
   ]
  },
  {
   "cell_type": "code",
   "execution_count": 51,
   "id": "330919b7-4526-4df2-b30d-f971b766c912",
   "metadata": {},
   "outputs": [
    {
     "name": "stdout",
     "output_type": "stream",
     "text": [
      "5\n",
      "virat\n",
      "15\n",
      "11\n",
      "kohli\n",
      "rcb\n"
     ]
    }
   ],
   "source": [
    "l1='virat.kohli@rcb.com'\n",
    "first_dot=l1.index('.')\n",
    "print(first_dot)\n",
    "first_name=str1[:first_dot]\n",
    "print(first_name)\n",
    "second_dot=l1.index('.',first_dot+1)\n",
    "print(second_dot)\n",
    "at_the_rate=l1.index('@')\n",
    "print(at_the_rate)\n",
    "second_name=l1[first_dot+1:at_the_rate]\n",
    "\n",
    "print(second_name)\n",
    "company_name=l1[at_the_rate+1:second_dot]\n",
    "print(company_name)"
   ]
  },
  {
   "cell_type": "code",
   "execution_count": 52,
   "id": "df94e9b7-5029-49e8-a9d1-e7c7f6f5a323",
   "metadata": {},
   "outputs": [
    {
     "data": {
      "text/plain": [
       "[10, 47, 53, 12, 27]"
      ]
     },
     "execution_count": 52,
     "metadata": {},
     "output_type": "execute_result"
    }
   ],
   "source": [
    "l1=['hyd','ben#galuru','pune','mu#mbai']\n",
    "l\n"
   ]
  },
  {
   "cell_type": "code",
   "execution_count": 53,
   "id": "43a98dd4-661a-4f1d-b13f-3a4fbf393045",
   "metadata": {},
   "outputs": [
    {
     "data": {
      "text/plain": [
       "('ben#galuru', 'mu#mbai')"
      ]
     },
     "execution_count": 53,
     "metadata": {},
     "output_type": "execute_result"
    }
   ],
   "source": [
    "l1[1],l1[3]"
   ]
  },
  {
   "cell_type": "code",
   "execution_count": 59,
   "id": "8c4796d2-fa34-4aab-a529-964274b54486",
   "metadata": {},
   "outputs": [
    {
     "data": {
      "text/plain": [
       "'pune'"
      ]
     },
     "execution_count": 59,
     "metadata": {},
     "output_type": "execute_result"
    }
   ],
   "source": [
    "l1=['hyd','ben#galuru','pune','mu#mbai']\n",
    "l1[0]\n",
    "l1[2]\n"
   ]
  },
  {
   "cell_type": "code",
   "execution_count": 64,
   "id": "657efd53-53fa-48dc-9eb6-115acd671e35",
   "metadata": {},
   "outputs": [],
   "source": [
    "l1='hai how are you'\n"
   ]
  },
  {
   "cell_type": "code",
   "execution_count": 71,
   "id": "f807ce2a-3ad4-4c46-9c99-31f9aa0d85cb",
   "metadata": {},
   "outputs": [
    {
     "data": {
      "text/plain": [
       "[47, 53, 27, ['HAI', 'HOW', 'ARE', 'YOU']]"
      ]
     },
     "execution_count": 71,
     "metadata": {},
     "output_type": "execute_result"
    }
   ],
   "source": [
    "l1='hai how are you'\n",
    "\n",
    "l1=l2.append(['HAI','HOW','ARE','YOU' ])\n",
    "l2"
   ]
  },
  {
   "cell_type": "markdown",
   "id": "6a6df5fe-8082-4dbf-8c92-dfc6c8e3bf3e",
   "metadata": {},
   "source": [
    "**extend**"
   ]
  },
  {
   "cell_type": "code",
   "execution_count": 4,
   "id": "9e7249dd-a7c2-4a19-96f3-0168c4a1f745",
   "metadata": {},
   "outputs": [
    {
     "data": {
      "text/plain": [
       "[1, 2, 3, 4, 5, 'A', 'B', 'C', 'D']"
      ]
     },
     "execution_count": 4,
     "metadata": {},
     "output_type": "execute_result"
    }
   ],
   "source": [
    "l1=[1,2,3,4,5]\n",
    "l2=['A','B','C','D']\n",
    "l1.extend(l2)\n",
    "l1"
   ]
  },
  {
   "cell_type": "code",
   "execution_count": 5,
   "id": "46ebbd0f-adaa-4b61-a550-0944c1565a74",
   "metadata": {},
   "outputs": [
    {
     "data": {
      "text/plain": [
       "['A', 'B', 'C', 'D', 1, 2, 3, 4, 5]"
      ]
     },
     "execution_count": 5,
     "metadata": {},
     "output_type": "execute_result"
    }
   ],
   "source": [
    "l1=[1,2,3,4,5]\n",
    "l2=['A','B','C','D']\n",
    "l2.extend(l1)\n",
    "l2"
   ]
  },
  {
   "cell_type": "code",
   "execution_count": 6,
   "id": "0ea1970c-2cc0-4610-95ac-658a33b5199d",
   "metadata": {},
   "outputs": [
    {
     "data": {
      "text/plain": [
       "[1, 2, 3, 4, 5, ['A', 'B', 'C', 'D']]"
      ]
     },
     "execution_count": 6,
     "metadata": {},
     "output_type": "execute_result"
    }
   ],
   "source": [
    "l1=[1,2,3,4,5]\n",
    "l2=['A','B','C','D']\n",
    "l1.append(l2)\n",
    "l1"
   ]
  },
  {
   "cell_type": "code",
   "execution_count": 7,
   "id": "80489ff2-7321-414d-85a0-5fffaebe0f35",
   "metadata": {},
   "outputs": [
    {
     "data": {
      "text/plain": [
       "['A', 'B', 'C', 'D', [1, 2, 3, 4, 5]]"
      ]
     },
     "execution_count": 7,
     "metadata": {},
     "output_type": "execute_result"
    }
   ],
   "source": [
    "l1=[1,2,3,4,5]\n",
    "l2=['A','B','C','D']\n",
    "l2.append(l1)\n",
    "l2"
   ]
  },
  {
   "cell_type": "code",
   "execution_count": 12,
   "id": "77306a71-c663-4d9c-a1fd-3ee75e61ee98",
   "metadata": {},
   "outputs": [
    {
     "name": "stdout",
     "output_type": "stream",
     "text": [
      "[1, 2, 3, 4, 5, 'A', 'B', 'C', 'D']\n",
      "[1, 2, 3, 4, 5]\n",
      "['A', 'B', 'C', 'D']\n",
      "l1 will be overwrite if we use extend\n",
      "[1, 2, 3, 4, 5, 'A', 'B', 'C', 'D']\n"
     ]
    }
   ],
   "source": [
    "l1=[1,2,3,4,5]\n",
    "l2=['A','B','C','D']\n",
    "print(l1+l2)\n",
    "print(l1)\n",
    "print(l2)\n",
    "print('l1 will be overwrite if we use extend')\n",
    "l1.extend(l2)\n",
    "print(l1)\n"
   ]
  },
  {
   "cell_type": "code",
   "execution_count": 13,
   "id": "c7742858-63cf-4ea4-938f-1b2be42ab092",
   "metadata": {},
   "outputs": [
    {
     "data": {
      "text/plain": [
       "[1, 2, 3, 4, 5, 'A', 'B', 'C', 'D']"
      ]
     },
     "execution_count": 13,
     "metadata": {},
     "output_type": "execute_result"
    }
   ],
   "source": [
    "l1=[1,2,3,4,5]\n",
    "l2=['A','B','C','D']\n",
    "l3=l1+l2\n",
    "l3"
   ]
  },
  {
   "cell_type": "markdown",
   "id": "88163372-4285-44cf-b939-91560e362030",
   "metadata": {},
   "source": [
    "**index**"
   ]
  },
  {
   "cell_type": "markdown",
   "id": "46eeaa4f-fcd9-40ee-bbc2-5cc89eac2729",
   "metadata": {},
   "source": [
    "- strings we have index and find\n",
    "- but in listwe have only index\n",
    "- same as strings concept"
   ]
  },
  {
   "cell_type": "code",
   "execution_count": 18,
   "id": "8dd04bce-6e80-44e6-afdc-729cc64dbabd",
   "metadata": {},
   "outputs": [
    {
     "data": {
      "text/plain": [
       "2"
      ]
     },
     "execution_count": 18,
     "metadata": {},
     "output_type": "execute_result"
    }
   ],
   "source": [
    "l1=[1,2,3,4]\n",
    "l1.index(3)"
   ]
  },
  {
   "cell_type": "code",
   "execution_count": 24,
   "id": "8c1fef05-bab8-42a5-acf2-4c9df7c85804",
   "metadata": {},
   "outputs": [
    {
     "name": "stdout",
     "output_type": "stream",
     "text": [
      "7\n"
     ]
    }
   ],
   "source": [
    "l1=[10,20,30,40,'Apple','Banana','Cherry',40,50]\n",
    "i1=l1.index(40)\n",
    "print(l1.index(40,i1+1))"
   ]
  },
  {
   "cell_type": "code",
   "execution_count": 34,
   "id": "dc6b2d74-bb7f-4c44-b8b2-39a846963003",
   "metadata": {},
   "outputs": [
    {
     "data": {
      "text/plain": [
       "[1, 2, 3, 5, 4]"
      ]
     },
     "execution_count": 34,
     "metadata": {},
     "output_type": "execute_result"
    }
   ],
   "source": [
    "l1=[1,2,3,4]\n",
    "l1.insert(3,5)\n",
    "l1"
   ]
  },
  {
   "cell_type": "code",
   "execution_count": 33,
   "id": "4b8391d4-7c67-4c19-a2da-427245f7149e",
   "metadata": {},
   "outputs": [
    {
     "data": {
      "text/plain": [
       "[10, 20, 30, 'apple', 40, 'Apple', 'Banana', 'Cherry', 40, 50]"
      ]
     },
     "execution_count": 33,
     "metadata": {},
     "output_type": "execute_result"
    }
   ],
   "source": [
    "l1=[10,20,30,40,'Apple','Banana','Cherry',40,50]\n",
    "l1.insert(3,'apple')\n",
    "l1"
   ]
  },
  {
   "cell_type": "code",
   "execution_count": 35,
   "id": "2aea3bd4-82ca-4fb6-8c33-609d74c07be0",
   "metadata": {},
   "outputs": [
    {
     "data": {
      "text/plain": [
       "[10, 20, 30, 40, 'Apple', 100, 'Banana', 'Cherry', 40, 50]"
      ]
     },
     "execution_count": 35,
     "metadata": {},
     "output_type": "execute_result"
    }
   ],
   "source": [
    "l1=[10,20,30,40,'Apple','Banana','Cherry',40,50]\n",
    "id=l1.index('Apple')\n",
    "\n",
    "l1.insert(id+1,100)\n",
    "l1"
   ]
  },
  {
   "cell_type": "code",
   "execution_count": 36,
   "id": "5c96bcc2-ed93-41f3-abf9-2030e6ffc98c",
   "metadata": {},
   "outputs": [
    {
     "data": {
      "text/plain": [
       "[10, 20, 30, 40, 'Apple', 'Banana', 'Cherry', 40, 50, 100]"
      ]
     },
     "execution_count": 36,
     "metadata": {},
     "output_type": "execute_result"
    }
   ],
   "source": [
    "l1=[10,20,30,40,'Apple','Banana','Cherry',40,50]\n",
    "l1.append(100)\n",
    "l1\n"
   ]
  },
  {
   "cell_type": "markdown",
   "id": "09ab5683-48b5-4a7b-81bf-5cf3f225fe6a",
   "metadata": {},
   "source": [
    "**pop vs remove**"
   ]
  },
  {
   "cell_type": "code",
   "execution_count": 39,
   "id": "54443440-0a9b-4909-97ed-28aa4c845f86",
   "metadata": {},
   "outputs": [
    {
     "data": {
      "text/plain": [
       "[10, 30, 40, 'Apple', 'Banana', 'Cherry', 40, 50]"
      ]
     },
     "execution_count": 39,
     "metadata": {},
     "output_type": "execute_result"
    }
   ],
   "source": [
    "l1=[10,20,30,40,'Apple','Banana','Cherry',40,50]\n",
    "l1.pop(1)\n",
    "l1"
   ]
  },
  {
   "cell_type": "code",
   "execution_count": 44,
   "id": "b206b836-6d75-408f-8585-8b36822f6cf1",
   "metadata": {},
   "outputs": [
    {
     "data": {
      "text/plain": [
       "[10, 20, 30, 40, 'Apple', 'Banana', 'Cherry', 40]"
      ]
     },
     "execution_count": 44,
     "metadata": {},
     "output_type": "execute_result"
    }
   ],
   "source": [
    "l1=[10,20,30,40,'Apple','Banana','Cherry',40,50]\n",
    "l1.pop()\n",
    "l1"
   ]
  },
  {
   "cell_type": "code",
   "execution_count": 43,
   "id": "85bf2633-f76e-4587-b20f-a94791ae97bf",
   "metadata": {},
   "outputs": [
    {
     "data": {
      "text/plain": [
       "[10, 20, 40, 'Apple', 'Banana', 'Cherry', 40, 50]"
      ]
     },
     "execution_count": 43,
     "metadata": {},
     "output_type": "execute_result"
    }
   ],
   "source": [
    "l1=[10,20,30,40,'Apple','Banana','Cherry',40,50]\n",
    "l1.remove(30)\n",
    "l1"
   ]
  },
  {
   "cell_type": "code",
   "execution_count": 47,
   "id": "a7f32018-56d6-41c0-89ec-93970dc2c997",
   "metadata": {},
   "outputs": [
    {
     "data": {
      "text/plain": [
       "[10, 20, 30, 40, 'Apple', 'Cherry', 40, 50]"
      ]
     },
     "execution_count": 47,
     "metadata": {},
     "output_type": "execute_result"
    }
   ],
   "source": [
    "l1=[10,20,30,40,'Apple','Banana','Cherry',40,50]\n",
    "del(l1[5])\n",
    "l1"
   ]
  },
  {
   "cell_type": "markdown",
   "id": "8f75b239-e901-4147-8c59-f4682cd691e5",
   "metadata": {},
   "source": [
    "- if we want delete any element\n",
    "- pop: based on index\n",
    "- remove: based on value\n",
    "- del is an inbuilt function"
   ]
  },
  {
   "cell_type": "code",
   "execution_count": 51,
   "id": "fea25b45-e43f-4c15-9801-aa632a29fac6",
   "metadata": {},
   "outputs": [
    {
     "ename": "NameError",
     "evalue": "name 'l2' is not defined",
     "output_type": "error",
     "traceback": [
      "\u001b[1;31m---------------------------------------------------------------------------\u001b[0m",
      "\u001b[1;31mNameError\u001b[0m                                 Traceback (most recent call last)",
      "Cell \u001b[1;32mIn[51], line 3\u001b[0m\n\u001b[0;32m      1\u001b[0m l2\u001b[38;5;241m=\u001b[39m[\u001b[38;5;241m10\u001b[39m,\u001b[38;5;241m20\u001b[39m,\u001b[38;5;241m30\u001b[39m,\u001b[38;5;241m40\u001b[39m,\u001b[38;5;124m'\u001b[39m\u001b[38;5;124mApple\u001b[39m\u001b[38;5;124m'\u001b[39m,\u001b[38;5;124m'\u001b[39m\u001b[38;5;124mBanana\u001b[39m\u001b[38;5;124m'\u001b[39m,\u001b[38;5;124m'\u001b[39m\u001b[38;5;124mCherry\u001b[39m\u001b[38;5;124m'\u001b[39m,\u001b[38;5;241m40\u001b[39m,\u001b[38;5;241m50\u001b[39m]\n\u001b[0;32m      2\u001b[0m \u001b[38;5;28;01mdel\u001b[39;00m(l2)\n\u001b[1;32m----> 3\u001b[0m l2\n",
      "\u001b[1;31mNameError\u001b[0m: name 'l2' is not defined"
     ]
    }
   ],
   "source": [
    "l2=[10,20,30,40,'Apple','Banana','Cherry',40,50]\n",
    "del(l2)\n",
    "l2\n"
   ]
  },
  {
   "cell_type": "code",
   "execution_count": 55,
   "id": "5d01ecc1-eda1-4c8d-99b7-3dcc3ad04f75",
   "metadata": {},
   "outputs": [
    {
     "data": {
      "text/plain": [
       "[10, 20, 30, 40, 'Apple', 'Cherry', 40, 50]"
      ]
     },
     "execution_count": 55,
     "metadata": {},
     "output_type": "execute_result"
    }
   ],
   "source": [
    "l2=[10,20,30,40,'Apple','Banana','Cherry',40,50]\n",
    "del l2[5]  #del(l1[5])\n",
    "l2\n"
   ]
  },
  {
   "cell_type": "code",
   "execution_count": 54,
   "id": "eea08e60-2212-4bd9-8a83-3afe4b5b21e2",
   "metadata": {},
   "outputs": [
    {
     "data": {
      "text/plain": [
       "[]"
      ]
     },
     "execution_count": 54,
     "metadata": {},
     "output_type": "execute_result"
    }
   ],
   "source": [
    "l2=[10,20,30,40,'Apple','Banana','Cherry',40,50]\n",
    "l2.clear()\n",
    "l2\n"
   ]
  },
  {
   "cell_type": "markdown",
   "id": "a8b64304-8e15-446d-bced-9736e67f9592",
   "metadata": {},
   "source": [
    "**reverse-reversed**\n",
    "- reverse is amethod\n",
    "- reversed is an inbuilt function"
   ]
  },
  {
   "cell_type": "code",
   "execution_count": 56,
   "id": "0356ee2c-7ee4-4a7e-bede-829fe290d14e",
   "metadata": {},
   "outputs": [
    {
     "data": {
      "text/plain": [
       "[50, 40, 'Cherry', 'Banana', 'Apple', 40, 30, 20, 10]"
      ]
     },
     "execution_count": 56,
     "metadata": {},
     "output_type": "execute_result"
    }
   ],
   "source": [
    "l2=[10,20,30,40,'Apple','Banana','Cherry',40,50]\n",
    "l2.reverse()\n",
    "l2"
   ]
  },
  {
   "cell_type": "code",
   "execution_count": 57,
   "id": "9cf2f60f-cecb-430d-b10b-101c71b04d12",
   "metadata": {},
   "outputs": [
    {
     "ename": "AttributeError",
     "evalue": "'list' object has no attribute 'reversed'",
     "output_type": "error",
     "traceback": [
      "\u001b[1;31m---------------------------------------------------------------------------\u001b[0m",
      "\u001b[1;31mAttributeError\u001b[0m                            Traceback (most recent call last)",
      "Cell \u001b[1;32mIn[57], line 2\u001b[0m\n\u001b[0;32m      1\u001b[0m l2\u001b[38;5;241m=\u001b[39m[\u001b[38;5;241m10\u001b[39m,\u001b[38;5;241m20\u001b[39m,\u001b[38;5;241m30\u001b[39m,\u001b[38;5;241m40\u001b[39m,\u001b[38;5;124m'\u001b[39m\u001b[38;5;124mApple\u001b[39m\u001b[38;5;124m'\u001b[39m,\u001b[38;5;124m'\u001b[39m\u001b[38;5;124mBanana\u001b[39m\u001b[38;5;124m'\u001b[39m,\u001b[38;5;124m'\u001b[39m\u001b[38;5;124mCherry\u001b[39m\u001b[38;5;124m'\u001b[39m,\u001b[38;5;241m40\u001b[39m,\u001b[38;5;241m50\u001b[39m]\n\u001b[1;32m----> 2\u001b[0m l2\u001b[38;5;241m.\u001b[39mreversed()\n\u001b[0;32m      3\u001b[0m l2\n",
      "\u001b[1;31mAttributeError\u001b[0m: 'list' object has no attribute 'reversed'"
     ]
    }
   ],
   "source": [
    "l2=[10,20,30,40,'Apple','Banana','Cherry',40,50]\n",
    "l2.reversed()\n",
    "l2"
   ]
  },
  {
   "cell_type": "code",
   "execution_count": 60,
   "id": "41de74f0-90fb-4d39-844a-73041049476f",
   "metadata": {},
   "outputs": [
    {
     "data": {
      "text/plain": [
       "<list_reverseiterator at 0x261a37bf4c0>"
      ]
     },
     "execution_count": 60,
     "metadata": {},
     "output_type": "execute_result"
    }
   ],
   "source": [
    "l2=[10,20,30,40,'Apple','Banana','Cherry',40,50]\n",
    "reversed(l2)"
   ]
  },
  {
   "cell_type": "code",
   "execution_count": 61,
   "id": "9ee27230-d059-4217-b020-167000d398b9",
   "metadata": {},
   "outputs": [
    {
     "name": "stdout",
     "output_type": "stream",
     "text": [
      "[10, 20, 30, 40, 'Apple', 'Banana', 'Cherry', 40, 50]\n"
     ]
    }
   ],
   "source": [
    "l2=[10,20,30,40,'Apple','Banana','Cherry',40,50]\n",
    "reversed(l2)\n",
    "print(l2)"
   ]
  },
  {
   "cell_type": "markdown",
   "id": "23d10e6a-d6b5-4d80-b383-1df17dbd29ab",
   "metadata": {},
   "source": [
    "**in place**\n",
    "  \n",
    "- when we perform the operations some times the values will not overwrite\n",
    "- if we see **inplace** word or **inplace=True**\n",
    "- this indicates the output will be overwrite in corresponding variable"
   ]
  },
  {
   "cell_type": "markdown",
   "id": "15a4beda-535b-45f2-9ec7-a0761cbaec0d",
   "metadata": {},
   "source": [
    "**sort-sorted** "
   ]
  },
  {
   "cell_type": "code",
   "execution_count": 62,
   "id": "7cc24019-095e-4a4b-aa65-f579022d1558",
   "metadata": {},
   "outputs": [
    {
     "ename": "TypeError",
     "evalue": "'<' not supported between instances of 'str' and 'int'",
     "output_type": "error",
     "traceback": [
      "\u001b[1;31m---------------------------------------------------------------------------\u001b[0m",
      "\u001b[1;31mTypeError\u001b[0m                                 Traceback (most recent call last)",
      "Cell \u001b[1;32mIn[62], line 2\u001b[0m\n\u001b[0;32m      1\u001b[0m l2\u001b[38;5;241m=\u001b[39m[\u001b[38;5;241m10\u001b[39m,\u001b[38;5;241m20\u001b[39m,\u001b[38;5;241m30\u001b[39m,\u001b[38;5;241m40\u001b[39m,\u001b[38;5;124m'\u001b[39m\u001b[38;5;124mApple\u001b[39m\u001b[38;5;124m'\u001b[39m,\u001b[38;5;124m'\u001b[39m\u001b[38;5;124mBanana\u001b[39m\u001b[38;5;124m'\u001b[39m,\u001b[38;5;124m'\u001b[39m\u001b[38;5;124mCherry\u001b[39m\u001b[38;5;124m'\u001b[39m,\u001b[38;5;241m40\u001b[39m,\u001b[38;5;241m50\u001b[39m]\n\u001b[1;32m----> 2\u001b[0m l2\u001b[38;5;241m.\u001b[39msort()\n\u001b[0;32m      3\u001b[0m l2\n",
      "\u001b[1;31mTypeError\u001b[0m: '<' not supported between instances of 'str' and 'int'"
     ]
    }
   ],
   "source": [
    "l2=[10,20,30,40,'Apple','Banana','Cherry',40,50]\n",
    "l2.sort()\n",
    "l2"
   ]
  },
  {
   "cell_type": "code",
   "execution_count": 71,
   "id": "bcb73bec-a250-4cb7-8e69-7a4bb85ce95b",
   "metadata": {},
   "outputs": [
    {
     "data": {
      "text/plain": [
       "[10, 20, 30, 40, 40, 50]"
      ]
     },
     "execution_count": 71,
     "metadata": {},
     "output_type": "execute_result"
    }
   ],
   "source": [
    "l2=[10,20,30,40,40,50]\n",
    "sorted(l2)\n",
    "l2"
   ]
  },
  {
   "cell_type": "code",
   "execution_count": 68,
   "id": "37e3c760-1cdd-4c50-a447-8be42d02f11d",
   "metadata": {},
   "outputs": [
    {
     "data": {
      "text/plain": [
       "[10, 20, 30, 40]"
      ]
     },
     "execution_count": 68,
     "metadata": {},
     "output_type": "execute_result"
    }
   ],
   "source": [
    "l2=[10,20,30,40]\n",
    "sorted(l2)\n",
    "l2"
   ]
  },
  {
   "cell_type": "code",
   "execution_count": 73,
   "id": "78b2cc42-e009-497b-8f57-e6ca30b8dfed",
   "metadata": {},
   "outputs": [
    {
     "data": {
      "text/plain": [
       "[10, 20, 30, 40]"
      ]
     },
     "execution_count": 73,
     "metadata": {},
     "output_type": "execute_result"
    }
   ],
   "source": [
    "l2=[10,20,30,40]\n",
    "l2.sort()\n",
    "l2"
   ]
  },
  {
   "cell_type": "code",
   "execution_count": 72,
   "id": "a1cdf0bf-71b3-4928-8d75-041b24faeee4",
   "metadata": {},
   "outputs": [
    {
     "ename": "NameError",
     "evalue": "name 'str1' is not defined",
     "output_type": "error",
     "traceback": [
      "\u001b[1;31m---------------------------------------------------------------------------\u001b[0m",
      "\u001b[1;31mNameError\u001b[0m                                 Traceback (most recent call last)",
      "Cell \u001b[1;32mIn[72], line 1\u001b[0m\n\u001b[1;32m----> 1\u001b[0m str1\u001b[38;5;241m.\u001b[39msort()\n",
      "\u001b[1;31mNameError\u001b[0m: name 'str1' is not defined"
     ]
    }
   ],
   "source": [
    "str1.sort() # it is not available"
   ]
  },
  {
   "cell_type": "code",
   "execution_count": null,
   "id": "e8fda653-70e2-4858-80f4-b1bbe22abdd4",
   "metadata": {},
   "outputs": [],
   "source": [
    "- inbuilt"
   ]
  },
  {
   "cell_type": "markdown",
   "id": "b6962a66-dfd2-40f4-a049-0969db067390",
   "metadata": {},
   "source": [
    "**tuple**"
   ]
  },
  {
   "cell_type": "code",
   "execution_count": 1,
   "id": "23bec286-b450-4127-997a-7a9f9603f636",
   "metadata": {},
   "outputs": [
    {
     "data": {
      "text/plain": [
       "'python'"
      ]
     },
     "execution_count": 1,
     "metadata": {},
     "output_type": "execute_result"
    }
   ],
   "source": [
    "tuple=\"python\"\n",
    "tuple"
   ]
  },
  {
   "cell_type": "code",
   "execution_count": 2,
   "id": "a0a4ef1a-8e04-437a-a5fb-a20a78cc6afa",
   "metadata": {},
   "outputs": [
    {
     "data": {
      "text/plain": [
       "\"i love 'python'\""
      ]
     },
     "execution_count": 2,
     "metadata": {},
     "output_type": "execute_result"
    }
   ],
   "source": [
    "tup=\"i love 'python'\"\n",
    "tup"
   ]
  },
  {
   "cell_type": "code",
   "execution_count": 3,
   "id": "ab9eff49-6216-4172-8681-7339515e0a73",
   "metadata": {},
   "outputs": [
    {
     "data": {
      "text/plain": [
       "'i love \"python\"'"
      ]
     },
     "execution_count": 3,
     "metadata": {},
     "output_type": "execute_result"
    }
   ],
   "source": [
    "tup='i love \"python\"'\n",
    "tup"
   ]
  },
  {
   "cell_type": "code",
   "execution_count": 4,
   "id": "8449a590-7a66-4892-9cd4-66984ebbf074",
   "metadata": {},
   "outputs": [
    {
     "data": {
      "text/plain": [
       "type"
      ]
     },
     "execution_count": 4,
     "metadata": {},
     "output_type": "execute_result"
    }
   ],
   "source": [
    "tup='python'\n",
    "type"
   ]
  },
  {
   "cell_type": "code",
   "execution_count": 5,
   "id": "8b4e2444-d467-41f2-a67d-0b0faed1dcaa",
   "metadata": {},
   "outputs": [
    {
     "data": {
      "text/plain": [
       "6"
      ]
     },
     "execution_count": 5,
     "metadata": {},
     "output_type": "execute_result"
    }
   ],
   "source": [
    "len(tuple)"
   ]
  },
  {
   "cell_type": "code",
   "execution_count": 6,
   "id": "ae106c35-1273-4655-9584-56974a8fa1bf",
   "metadata": {},
   "outputs": [
    {
     "ename": "NameError",
     "evalue": "name 'summ' is not defined",
     "output_type": "error",
     "traceback": [
      "\u001b[1;31m---------------------------------------------------------------------------\u001b[0m",
      "\u001b[1;31mNameError\u001b[0m                                 Traceback (most recent call last)",
      "Cell \u001b[1;32mIn[6], line 1\u001b[0m\n\u001b[1;32m----> 1\u001b[0m summ(\u001b[38;5;28mtuple\u001b[39m)\n",
      "\u001b[1;31mNameError\u001b[0m: name 'summ' is not defined"
     ]
    }
   ],
   "source": [
    "summ(tuple)"
   ]
  },
  {
   "cell_type": "code",
   "execution_count": 8,
   "id": "0f78a760-2946-4e80-a57b-2d6c13aeff7e",
   "metadata": {},
   "outputs": [
    {
     "ename": "TypeError",
     "evalue": "unsupported operand type(s) for +: 'int' and 'str'",
     "output_type": "error",
     "traceback": [
      "\u001b[1;31m---------------------------------------------------------------------------\u001b[0m",
      "\u001b[1;31mTypeError\u001b[0m                                 Traceback (most recent call last)",
      "Cell \u001b[1;32mIn[8], line 1\u001b[0m\n\u001b[1;32m----> 1\u001b[0m \u001b[38;5;28msum\u001b[39m(tup)\n",
      "\u001b[1;31mTypeError\u001b[0m: unsupported operand type(s) for +: 'int' and 'str'"
     ]
    }
   ],
   "source": [
    "sum(tup)"
   ]
  },
  {
   "cell_type": "code",
   "execution_count": 9,
   "id": "7d9901bd-0c8b-407e-a4d6-cda2071245e7",
   "metadata": {},
   "outputs": [
    {
     "data": {
      "text/plain": [
       "'y'"
      ]
     },
     "execution_count": 9,
     "metadata": {},
     "output_type": "execute_result"
    }
   ],
   "source": [
    "max(tup)"
   ]
  },
  {
   "cell_type": "code",
   "execution_count": 10,
   "id": "c21b0360-7322-435c-b9b4-ad8c57d83a79",
   "metadata": {},
   "outputs": [
    {
     "data": {
      "text/plain": [
       "'h'"
      ]
     },
     "execution_count": 10,
     "metadata": {},
     "output_type": "execute_result"
    }
   ],
   "source": [
    "min(tuple)"
   ]
  },
  {
   "cell_type": "code",
   "execution_count": 17,
   "id": "225b15a1-46a6-4eaa-9841-ab9159a979ed",
   "metadata": {},
   "outputs": [
    {
     "data": {
      "text/plain": [
       "['e', 'l', 'p', 't', 'u']"
      ]
     },
     "execution_count": 17,
     "metadata": {},
     "output_type": "execute_result"
    }
   ],
   "source": [
    "sorted('tuple')"
   ]
  },
  {
   "cell_type": "code",
   "execution_count": 13,
   "id": "cdb9255b-a0c9-4b8e-be77-2915350a8a55",
   "metadata": {},
   "outputs": [
    {
     "data": {
      "text/plain": [
       "<reversed at 0x1cc2c0e0d00>"
      ]
     },
     "execution_count": 13,
     "metadata": {},
     "output_type": "execute_result"
    }
   ],
   "source": [
    "reversed(tup)"
   ]
  },
  {
   "cell_type": "code",
   "execution_count": 20,
   "id": "b85b8633-4eb4-4ada-b873-3db076d1f16f",
   "metadata": {},
   "outputs": [
    {
     "ename": "NameError",
     "evalue": "name 'sort' is not defined",
     "output_type": "error",
     "traceback": [
      "\u001b[1;31m---------------------------------------------------------------------------\u001b[0m",
      "\u001b[1;31mNameError\u001b[0m                                 Traceback (most recent call last)",
      "Cell \u001b[1;32mIn[20], line 2\u001b[0m\n\u001b[0;32m      1\u001b[0m tup\u001b[38;5;241m=\u001b[39m\u001b[38;5;124m'\u001b[39m\u001b[38;5;124mpython\u001b[39m\u001b[38;5;124m'\u001b[39m\n\u001b[1;32m----> 2\u001b[0m sort(\u001b[38;5;124m'\u001b[39m\u001b[38;5;124mtup\u001b[39m\u001b[38;5;124m'\u001b[39m)\n",
      "\u001b[1;31mNameError\u001b[0m: name 'sort' is not defined"
     ]
    }
   ],
   "source": [
    "tup='python'\n",
    "sort('tup')"
   ]
  },
  {
   "cell_type": "code",
   "execution_count": 16,
   "id": "f68c480d-24dd-44df-a959-a90b123a5498",
   "metadata": {},
   "outputs": [
    {
     "name": "stdout",
     "output_type": "stream",
     "text": [
      "python\n"
     ]
    }
   ],
   "source": [
    "print(tup)"
   ]
  },
  {
   "cell_type": "code",
   "execution_count": 24,
   "id": "721c4c29-717d-4a50-ada8-ee1144408db8",
   "metadata": {},
   "outputs": [
    {
     "ename": "AttributeError",
     "evalue": "'str' object has no attribute 'reverse'",
     "output_type": "error",
     "traceback": [
      "\u001b[1;31m---------------------------------------------------------------------------\u001b[0m",
      "\u001b[1;31mAttributeError\u001b[0m                            Traceback (most recent call last)",
      "Cell \u001b[1;32mIn[24], line 2\u001b[0m\n\u001b[0;32m      1\u001b[0m tup\u001b[38;5;241m=\u001b[39m\u001b[38;5;124m'\u001b[39m\u001b[38;5;124mpython\u001b[39m\u001b[38;5;124m'\u001b[39m\n\u001b[1;32m----> 2\u001b[0m tup\u001b[38;5;241m.\u001b[39mreverse()\n\u001b[0;32m      3\u001b[0m tup\n",
      "\u001b[1;31mAttributeError\u001b[0m: 'str' object has no attribute 'reverse'"
     ]
    }
   ],
   "source": [
    "tup='python'\n",
    "tup.reverse()\n",
    "tup"
   ]
  },
  {
   "cell_type": "code",
   "execution_count": 26,
   "id": "591c0da2-7013-4f8b-918b-218ceb2677ab",
   "metadata": {},
   "outputs": [
    {
     "data": {
      "text/plain": [
       "(10, 20, 30, 40, 'apple', 'orange', 'grapes')"
      ]
     },
     "execution_count": 26,
     "metadata": {},
     "output_type": "execute_result"
    }
   ],
   "source": [
    "tup1=(10,20,30,40)\n",
    "tup2=(\"apple\",\"orange\",\"grapes\")\n",
    "tup3=tup1+tup2\n",
    "tup3"
   ]
  },
  {
   "cell_type": "code",
   "execution_count": 27,
   "id": "5debc5b9-0590-457a-bbbe-01d65c595480",
   "metadata": {},
   "outputs": [
    {
     "ename": "TypeError",
     "evalue": "unsupported operand type(s) for -: 'tuple' and 'tuple'",
     "output_type": "error",
     "traceback": [
      "\u001b[1;31m---------------------------------------------------------------------------\u001b[0m",
      "\u001b[1;31mTypeError\u001b[0m                                 Traceback (most recent call last)",
      "Cell \u001b[1;32mIn[27], line 3\u001b[0m\n\u001b[0;32m      1\u001b[0m tup1\u001b[38;5;241m=\u001b[39m(\u001b[38;5;241m10\u001b[39m,\u001b[38;5;241m20\u001b[39m,\u001b[38;5;241m30\u001b[39m,\u001b[38;5;241m40\u001b[39m)\n\u001b[0;32m      2\u001b[0m tup2\u001b[38;5;241m=\u001b[39m(\u001b[38;5;124m\"\u001b[39m\u001b[38;5;124mapple\u001b[39m\u001b[38;5;124m\"\u001b[39m,\u001b[38;5;124m\"\u001b[39m\u001b[38;5;124morange\u001b[39m\u001b[38;5;124m\"\u001b[39m,\u001b[38;5;124m\"\u001b[39m\u001b[38;5;124mgrapes\u001b[39m\u001b[38;5;124m\"\u001b[39m)\n\u001b[1;32m----> 3\u001b[0m tup3\u001b[38;5;241m=\u001b[39mtup1\u001b[38;5;241m-\u001b[39mtup2\n\u001b[0;32m      4\u001b[0m tup3\n",
      "\u001b[1;31mTypeError\u001b[0m: unsupported operand type(s) for -: 'tuple' and 'tuple'"
     ]
    }
   ],
   "source": [
    "tup1=(10,20,30,40)\n",
    "tup2=(\"apple\",\"orange\",\"grapes\")\n",
    "tup3=tup1-tup2\n",
    "tup3"
   ]
  },
  {
   "cell_type": "code",
   "execution_count": 28,
   "id": "29a669c8-6e0a-4f88-bd25-ed1525bdbbd6",
   "metadata": {},
   "outputs": [
    {
     "ename": "TypeError",
     "evalue": "can't multiply sequence by non-int of type 'tuple'",
     "output_type": "error",
     "traceback": [
      "\u001b[1;31m---------------------------------------------------------------------------\u001b[0m",
      "\u001b[1;31mTypeError\u001b[0m                                 Traceback (most recent call last)",
      "Cell \u001b[1;32mIn[28], line 3\u001b[0m\n\u001b[0;32m      1\u001b[0m tup1\u001b[38;5;241m=\u001b[39m(\u001b[38;5;241m10\u001b[39m,\u001b[38;5;241m20\u001b[39m,\u001b[38;5;241m30\u001b[39m,\u001b[38;5;241m40\u001b[39m)\n\u001b[0;32m      2\u001b[0m tup2\u001b[38;5;241m=\u001b[39m(\u001b[38;5;124m\"\u001b[39m\u001b[38;5;124mapple\u001b[39m\u001b[38;5;124m\"\u001b[39m,\u001b[38;5;124m\"\u001b[39m\u001b[38;5;124morange\u001b[39m\u001b[38;5;124m\"\u001b[39m,\u001b[38;5;124m\"\u001b[39m\u001b[38;5;124mgrapes\u001b[39m\u001b[38;5;124m\"\u001b[39m)\n\u001b[1;32m----> 3\u001b[0m tup3\u001b[38;5;241m=\u001b[39mtup1\u001b[38;5;241m*\u001b[39mtup2\n\u001b[0;32m      4\u001b[0m tup3\n",
      "\u001b[1;31mTypeError\u001b[0m: can't multiply sequence by non-int of type 'tuple'"
     ]
    }
   ],
   "source": [
    "tup1=(10,20,30,40)\n",
    "tup2=(\"apple\",\"orange\",\"grapes\")\n",
    "tup3=tup1*tup2\n",
    "tup3"
   ]
  },
  {
   "cell_type": "code",
   "execution_count": 29,
   "id": "c74d8ab2-6593-4bd2-9010-eaefdfdbfdd5",
   "metadata": {},
   "outputs": [
    {
     "ename": "TypeError",
     "evalue": "unsupported operand type(s) for /: 'tuple' and 'tuple'",
     "output_type": "error",
     "traceback": [
      "\u001b[1;31m---------------------------------------------------------------------------\u001b[0m",
      "\u001b[1;31mTypeError\u001b[0m                                 Traceback (most recent call last)",
      "Cell \u001b[1;32mIn[29], line 3\u001b[0m\n\u001b[0;32m      1\u001b[0m tup1\u001b[38;5;241m=\u001b[39m(\u001b[38;5;241m10\u001b[39m,\u001b[38;5;241m20\u001b[39m,\u001b[38;5;241m30\u001b[39m,\u001b[38;5;241m40\u001b[39m)\n\u001b[0;32m      2\u001b[0m tup2\u001b[38;5;241m=\u001b[39m(\u001b[38;5;124m\"\u001b[39m\u001b[38;5;124mapple\u001b[39m\u001b[38;5;124m\"\u001b[39m,\u001b[38;5;124m\"\u001b[39m\u001b[38;5;124morange\u001b[39m\u001b[38;5;124m\"\u001b[39m,\u001b[38;5;124m\"\u001b[39m\u001b[38;5;124mgrapes\u001b[39m\u001b[38;5;124m\"\u001b[39m)\n\u001b[1;32m----> 3\u001b[0m tup3\u001b[38;5;241m=\u001b[39mtup1\u001b[38;5;241m/\u001b[39mtup2\n\u001b[0;32m      4\u001b[0m tup3\n",
      "\u001b[1;31mTypeError\u001b[0m: unsupported operand type(s) for /: 'tuple' and 'tuple'"
     ]
    }
   ],
   "source": [
    "tup1=(10,20,30,40)\n",
    "tup2=(\"apple\",\"orange\",\"grapes\")\n",
    "tup3=tup1/tup2\n",
    "tup3"
   ]
  },
  {
   "cell_type": "code",
   "execution_count": 33,
   "id": "6c015429-e3b7-4a51-928c-59b8413778f6",
   "metadata": {},
   "outputs": [
    {
     "data": {
      "text/plain": [
       "2"
      ]
     },
     "execution_count": 33,
     "metadata": {},
     "output_type": "execute_result"
    }
   ],
   "source": [
    "t1='python'\n",
    "t1.index('t')"
   ]
  },
  {
   "cell_type": "code",
   "execution_count": 44,
   "id": "9201137a-3946-468f-9190-a139a7814d37",
   "metadata": {},
   "outputs": [
    {
     "ename": "ValueError",
     "evalue": "tuple.index(x): x not in tuple",
     "output_type": "error",
     "traceback": [
      "\u001b[1;31m---------------------------------------------------------------------------\u001b[0m",
      "\u001b[1;31mValueError\u001b[0m                                Traceback (most recent call last)",
      "Cell \u001b[1;32mIn[44], line 2\u001b[0m\n\u001b[0;32m      1\u001b[0m tup2\u001b[38;5;241m=\u001b[39m(\u001b[38;5;124m\"\u001b[39m\u001b[38;5;124mapple\u001b[39m\u001b[38;5;124m\"\u001b[39m,\u001b[38;5;124m\"\u001b[39m\u001b[38;5;124morange\u001b[39m\u001b[38;5;124m\"\u001b[39m,\u001b[38;5;124m\"\u001b[39m\u001b[38;5;124mgrapes\u001b[39m\u001b[38;5;124m\"\u001b[39m)\n\u001b[1;32m----> 2\u001b[0m t2\u001b[38;5;241m=\u001b[39mtup2\u001b[38;5;241m.\u001b[39mindex(\u001b[38;5;124m'\u001b[39m\u001b[38;5;124mg\u001b[39m\u001b[38;5;124m'\u001b[39m)\n\u001b[0;32m      3\u001b[0m tup2\n",
      "\u001b[1;31mValueError\u001b[0m: tuple.index(x): x not in tuple"
     ]
    }
   ],
   "source": [
    "tup2=(\"apple\",\"orange\",\"grapes\")\n",
    "t2=tup2.index('g')\n",
    "tup2"
   ]
  },
  {
   "cell_type": "code",
   "execution_count": 41,
   "id": "218e403d-102a-454e-bef9-d21487f548ce",
   "metadata": {},
   "outputs": [
    {
     "data": {
      "text/plain": [
       "(10, 20, 30, 40, 'Apple', 'Banana', 'Cherry', 40, 50)"
      ]
     },
     "execution_count": 41,
     "metadata": {},
     "output_type": "execute_result"
    }
   ],
   "source": [
    "t1=(10,20,30,40,'Apple','Banana','Cherry',40,50)\n",
    "i1=t1.index(40)\n",
    "t1"
   ]
  },
  {
   "cell_type": "code",
   "execution_count": 51,
   "id": "b4fd7af4-ebee-47d0-a93e-b75dbf9f6c95",
   "metadata": {},
   "outputs": [
    {
     "data": {
      "text/plain": [
       "'python python'"
      ]
     },
     "execution_count": 51,
     "metadata": {},
     "output_type": "execute_result"
    }
   ],
   "source": [
    "t1='python python'\n",
    "i1=t1.find('n')\n",
    "t1"
   ]
  },
  {
   "cell_type": "code",
   "execution_count": 55,
   "id": "5f023f6e-25b2-42cc-904e-1e648a979619",
   "metadata": {},
   "outputs": [
    {
     "ename": "TypeError",
     "evalue": "'tuple' object is not callable",
     "output_type": "error",
     "traceback": [
      "\u001b[1;31m---------------------------------------------------------------------------\u001b[0m",
      "\u001b[1;31mTypeError\u001b[0m                                 Traceback (most recent call last)",
      "Cell \u001b[1;32mIn[55], line 5\u001b[0m\n\u001b[0;32m      1\u001b[0m \u001b[38;5;66;03m#-6 -5 -4 -3 -2 -1\u001b[39;00m\n\u001b[0;32m      2\u001b[0m \u001b[38;5;66;03m#10 20 30 40 50 60\u001b[39;00m\n\u001b[0;32m      3\u001b[0m \u001b[38;5;66;03m#0  1  2  3  4  5\u001b[39;00m\n\u001b[0;32m      4\u001b[0m t1\u001b[38;5;241m=\u001b[39m(\u001b[38;5;241m1\u001b[39m,\u001b[38;5;241m2\u001b[39m,\u001b[38;5;241m3\u001b[39m,\u001b[38;5;124m'\u001b[39m\u001b[38;5;124mA\u001b[39m\u001b[38;5;124m'\u001b[39m,\u001b[38;5;124m'\u001b[39m\u001b[38;5;124mB\u001b[39m\u001b[38;5;124m'\u001b[39m,\u001b[38;5;124m'\u001b[39m\u001b[38;5;124mC\u001b[39m\u001b[38;5;124m'\u001b[39m)\n\u001b[1;32m----> 5\u001b[0m t2\u001b[38;5;241m=\u001b[39mt1(\u001b[38;5;241m0\u001b[39m),t1(\u001b[38;5;241m-\u001b[39m\u001b[38;5;241m6\u001b[39m)\n\u001b[0;32m      6\u001b[0m t2\n",
      "\u001b[1;31mTypeError\u001b[0m: 'tuple' object is not callable"
     ]
    }
   ],
   "source": [
    "#-6 -5 -4 -3 -2 -1\n",
    "#10 20 30 40 50 60\n",
    "#0  1  2  3  4  5\n",
    "t1=(1,2,3,'A','B','C')\n",
    "t2=t1(0),t1(-6)\n",
    "t2"
   ]
  },
  {
   "cell_type": "code",
   "execution_count": 56,
   "id": "6c6de2f9-7c51-4b21-a6d7-40b882919ed6",
   "metadata": {},
   "outputs": [
    {
     "data": {
      "text/plain": [
       "[20, 200, 300, 400]"
      ]
     },
     "execution_count": 56,
     "metadata": {},
     "output_type": "execute_result"
    }
   ],
   "source": [
    "t1=[100,200,300,400]\n",
    "t1[0]=20\n",
    "t1"
   ]
  },
  {
   "cell_type": "code",
   "execution_count": 57,
   "id": "37e29ada-8564-4cd5-b417-32370e3432ea",
   "metadata": {},
   "outputs": [
    {
     "data": {
      "text/plain": [
       "['__add__',\n",
       " '__class__',\n",
       " '__class_getitem__',\n",
       " '__contains__',\n",
       " '__delattr__',\n",
       " '__dir__',\n",
       " '__doc__',\n",
       " '__eq__',\n",
       " '__format__',\n",
       " '__ge__',\n",
       " '__getattribute__',\n",
       " '__getitem__',\n",
       " '__getnewargs__',\n",
       " '__getstate__',\n",
       " '__gt__',\n",
       " '__hash__',\n",
       " '__init__',\n",
       " '__init_subclass__',\n",
       " '__iter__',\n",
       " '__le__',\n",
       " '__len__',\n",
       " '__lt__',\n",
       " '__mul__',\n",
       " '__ne__',\n",
       " '__new__',\n",
       " '__reduce__',\n",
       " '__reduce_ex__',\n",
       " '__repr__',\n",
       " '__rmul__',\n",
       " '__setattr__',\n",
       " '__sizeof__',\n",
       " '__str__',\n",
       " '__subclasshook__',\n",
       " 'count',\n",
       " 'index']"
      ]
     },
     "execution_count": 57,
     "metadata": {},
     "output_type": "execute_result"
    }
   ],
   "source": [
    "dir(())"
   ]
  },
  {
   "cell_type": "code",
   "execution_count": 106,
   "id": "165b4242-faf3-49cd-8e6c-43a384665c1f",
   "metadata": {},
   "outputs": [
    {
     "data": {
      "text/plain": [
       "2"
      ]
     },
     "execution_count": 106,
     "metadata": {},
     "output_type": "execute_result"
    }
   ],
   "source": [
    "t1=[100,200,300,400,200]\n",
    "t1.count(200)"
   ]
  },
  {
   "cell_type": "code",
   "execution_count": 70,
   "id": "8047effe-d808-449b-b6e6-2da683b07c88",
   "metadata": {},
   "outputs": [
    {
     "data": {
      "text/plain": [
       "1"
      ]
     },
     "execution_count": 70,
     "metadata": {},
     "output_type": "execute_result"
    }
   ],
   "source": [
    "t1=[100,200,300,400,'apple','orange','gouva',500]\n",
    "t1.count(300)"
   ]
  },
  {
   "cell_type": "code",
   "execution_count": 109,
   "id": "6920ba6d-e29d-4d2d-95ce-49ba8bf13ca0",
   "metadata": {},
   "outputs": [
    {
     "data": {
      "text/plain": [
       "3"
      ]
     },
     "execution_count": 109,
     "metadata": {},
     "output_type": "execute_result"
    }
   ],
   "source": [
    "t2=(100,200,300,400,200,500,200)\n",
    "t2.count(200)\n"
   ]
  },
  {
   "cell_type": "code",
   "execution_count": 78,
   "id": "675f60fb-26e7-4396-8e44-27d0cb3167ea",
   "metadata": {},
   "outputs": [
    {
     "data": {
      "text/plain": [
       "1"
      ]
     },
     "execution_count": 78,
     "metadata": {},
     "output_type": "execute_result"
    }
   ],
   "source": [
    "t3=(1,2,3,4,5)\n",
    "t3.count(4)"
   ]
  },
  {
   "cell_type": "code",
   "execution_count": 76,
   "id": "3542f227-14aa-4382-a2f0-5626e9271694",
   "metadata": {},
   "outputs": [
    {
     "data": {
      "text/plain": [
       "2"
      ]
     },
     "execution_count": 76,
     "metadata": {},
     "output_type": "execute_result"
    }
   ],
   "source": [
    "t1=(100,200,300,400,'apple','orange','gouva',500)\n",
    "t1.index(300)"
   ]
  },
  {
   "cell_type": "code",
   "execution_count": 77,
   "id": "91a9d1ff-cd85-4b76-89b9-3789635130f9",
   "metadata": {},
   "outputs": [
    {
     "data": {
      "text/plain": [
       "4"
      ]
     },
     "execution_count": 77,
     "metadata": {},
     "output_type": "execute_result"
    }
   ],
   "source": [
    "t1=(100,200,300,400,'apple','orange','gouva',500)\n",
    "t1.index('apple')"
   ]
  },
  {
   "cell_type": "code",
   "execution_count": 79,
   "id": "11615012-6de9-4b4e-9a1d-7b992c9456cf",
   "metadata": {},
   "outputs": [
    {
     "data": {
      "text/plain": [
       "1"
      ]
     },
     "execution_count": 79,
     "metadata": {},
     "output_type": "execute_result"
    }
   ],
   "source": [
    "t1=(100,200,300,400,'apple','orange','gouva',500)\n",
    "t1.count('apple')"
   ]
  },
  {
   "cell_type": "code",
   "execution_count": 80,
   "id": "41c60d29-b997-45ad-8416-0b2ca5e9d1bb",
   "metadata": {},
   "outputs": [
    {
     "data": {
      "text/plain": [
       "(10, 20, 30, 40, 50, 'A', 'B', 'C', 'D', 'E', 'apple', 'banana')"
      ]
     },
     "execution_count": 80,
     "metadata": {},
     "output_type": "execute_result"
    }
   ],
   "source": [
    "t3=(10,20,30,40,50,'A','B','C','D','E','apple','banana')\n",
    "\n",
    "t3    "
   ]
  },
  {
   "cell_type": "code",
   "execution_count": 99,
   "id": "ca6c88d1-fccd-4ebb-9d5e-2efb277a2b26",
   "metadata": {},
   "outputs": [
    {
     "data": {
      "text/plain": [
       "('banana', 'apple', 'E', 'D', 'C', 'B', 'A', 50, 40, 30, 20, 10)"
      ]
     },
     "execution_count": 99,
     "metadata": {},
     "output_type": "execute_result"
    }
   ],
   "source": [
    "tup3=(10,20,30,40,50,'A','B','C','D','E','apple','banana')\n",
    "\n",
    "tup3[::-1]"
   ]
  },
  {
   "cell_type": "code",
   "execution_count": 98,
   "id": "dfba34d8-5adb-4298-998d-627e4b6c24ba",
   "metadata": {},
   "outputs": [
    {
     "data": {
      "text/plain": [
       "()"
      ]
     },
     "execution_count": 98,
     "metadata": {},
     "output_type": "execute_result"
    }
   ],
   "source": [
    "t3[10:2]"
   ]
  },
  {
   "cell_type": "code",
   "execution_count": 96,
   "id": "123f9173-bed5-4b53-a981-cd2aa99d7b5d",
   "metadata": {},
   "outputs": [
    {
     "data": {
      "text/plain": [
       "(30, 50, 'B', 'D')"
      ]
     },
     "execution_count": 96,
     "metadata": {},
     "output_type": "execute_result"
    }
   ],
   "source": [
    "t3[2:10:2]"
   ]
  },
  {
   "cell_type": "code",
   "execution_count": 90,
   "id": "7ec560ee-068c-489b-988d-82fc3c4df18e",
   "metadata": {},
   "outputs": [
    {
     "data": {
      "text/plain": [
       "(10, 20, 30, 40, 50, 'A', 'B', 'C', 'D', 'E', 'apple', 'banana')"
      ]
     },
     "execution_count": 90,
     "metadata": {},
     "output_type": "execute_result"
    }
   ],
   "source": [
    "tup3=(10,20,30,40,50,'A','B','C','D','E','apple','banana')\n",
    "t3"
   ]
  },
  {
   "cell_type": "code",
   "execution_count": 92,
   "id": "c8b00cdc-edcf-4b69-b33b-0dbca9f1f1c8",
   "metadata": {},
   "outputs": [
    {
     "data": {
      "text/plain": [
       "(10, 20, 30, 40, 50, 'A', 'B', 'C', 'D', 'E', 'apple', 'banana')"
      ]
     },
     "execution_count": 92,
     "metadata": {},
     "output_type": "execute_result"
    }
   ],
   "source": [
    "tup3[:] "
   ]
  },
  {
   "cell_type": "code",
   "execution_count": 100,
   "id": "218e7553-0a88-4a71-8b19-f054ffb716af",
   "metadata": {},
   "outputs": [
    {
     "data": {
      "text/plain": [
       "(10, 20, 30, 40, 50, 'A', 'B', 'C', 'D', 'E', 'apple', 'banana')"
      ]
     },
     "execution_count": 100,
     "metadata": {},
     "output_type": "execute_result"
    }
   ],
   "source": [
    "tup3[::]"
   ]
  },
  {
   "cell_type": "code",
   "execution_count": 101,
   "id": "4574fc7f-d3f3-4d11-b9b0-d9e43f33adb8",
   "metadata": {},
   "outputs": [
    {
     "data": {
      "text/plain": [
       "('banana', 'apple', 'E', 'D', 'C', 'B', 'A', 50, 40, 30, 20, 10)"
      ]
     },
     "execution_count": 101,
     "metadata": {},
     "output_type": "execute_result"
    }
   ],
   "source": [
    "tup3[::-1]"
   ]
  },
  {
   "cell_type": "code",
   "execution_count": 103,
   "id": "3185caa8-d253-4349-b0dd-f5b15aa7a7f2",
   "metadata": {},
   "outputs": [
    {
     "data": {
      "text/plain": [
       "()"
      ]
     },
     "execution_count": 103,
     "metadata": {},
     "output_type": "execute_result"
    }
   ],
   "source": [
    "tup3[10:2:2]"
   ]
  },
  {
   "cell_type": "code",
   "execution_count": 104,
   "id": "1ac9f2a6-fb5b-4fa8-b745-65c8c33ef242",
   "metadata": {},
   "outputs": [
    {
     "data": {
      "text/plain": [
       "(30, 50, 'B', 'D')"
      ]
     },
     "execution_count": 104,
     "metadata": {},
     "output_type": "execute_result"
    }
   ],
   "source": [
    "tup3[2:10:2]\n"
   ]
  },
  {
   "cell_type": "code",
   "execution_count": null,
   "id": "120281f5-4dd4-4b63-a210-337cc3dad878",
   "metadata": {},
   "outputs": [],
   "source": []
  }
 ],
 "metadata": {
  "kernelspec": {
   "display_name": "Python 3 (ipykernel)",
   "language": "python",
   "name": "python3"
  },
  "language_info": {
   "codemirror_mode": {
    "name": "ipython",
    "version": 3
   },
   "file_extension": ".py",
   "mimetype": "text/x-python",
   "name": "python",
   "nbconvert_exporter": "python",
   "pygments_lexer": "ipython3",
   "version": "3.12.7"
  }
 },
 "nbformat": 4,
 "nbformat_minor": 5
}
