{
 "cells": [
  {
   "cell_type": "code",
   "execution_count": 7,
   "id": "5af247ac-5f79-4ed6-8e0d-c035694789cf",
   "metadata": {},
   "outputs": [
    {
     "data": {
      "text/plain": [
       "['ramesh', 20]"
      ]
     },
     "execution_count": 7,
     "metadata": {},
     "output_type": "execute_result"
    }
   ],
   "source": [
    "names=['ramesh','suresh','sathish']\n",
    "age=[20,30,40]\n",
    "dic1=['ramesh',20]\n",
    "dic1"
   ]
  },
  {
   "cell_type": "code",
   "execution_count": 8,
   "id": "65937823-22bc-428c-97c3-b09a02417d0b",
   "metadata": {},
   "outputs": [
    {
     "data": {
      "text/plain": [
       "('ramesh', 20)"
      ]
     },
     "execution_count": 8,
     "metadata": {},
     "output_type": "execute_result"
    }
   ],
   "source": [
    "dic1=('ramesh',20)\n",
    "dic1"
   ]
  },
  {
   "cell_type": "code",
   "execution_count": 9,
   "id": "2e70ebde-2ab2-4437-bdae-dddf55ba331c",
   "metadata": {},
   "outputs": [
    {
     "name": "stdout",
     "output_type": "stream",
     "text": [
      "ramesh age 20\n",
      "suresh age 30\n",
      "sathish age 40\n"
     ]
    }
   ],
   "source": [
    "for i in range(len(names)):\n",
    "    print(f'{names[i]} age {age[i]}')"
   ]
  },
  {
   "cell_type": "markdown",
   "id": "0e0890bd-150c-4a14-9b0c-420cd6cb3da4",
   "metadata": {},
   "source": [
    "**zip**"
   ]
  },
  {
   "cell_type": "code",
   "execution_count": 10,
   "id": "cd864ddb-2e07-43b8-965a-9c7737251279",
   "metadata": {},
   "outputs": [
    {
     "data": {
      "text/plain": [
       "<zip at 0x1a746151200>"
      ]
     },
     "execution_count": 10,
     "metadata": {},
     "output_type": "execute_result"
    }
   ],
   "source": [
    "names=['ramesh','suresh','sathish']\n",
    "age=[20,30,40]\n",
    "zip(names,age)"
   ]
  },
  {
   "cell_type": "code",
   "execution_count": 12,
   "id": "28b40bef-d77d-48ea-a082-d08065127f86",
   "metadata": {},
   "outputs": [
    {
     "name": "stdout",
     "output_type": "stream",
     "text": [
      "('ramesh', 20)\n",
      "('suresh', 30)\n",
      "('sathish', 40)\n"
     ]
    }
   ],
   "source": [
    "names=['ramesh','suresh','sathish']\n",
    "age=[20,30,40]\n",
    "for i in zip(names,age):\n",
    "    print(i)"
   ]
  },
  {
   "cell_type": "code",
   "execution_count": 18,
   "id": "a3b84ce6-ce18-4f28-8138-131cafa1f478",
   "metadata": {},
   "outputs": [
    {
     "name": "stdout",
     "output_type": "stream",
     "text": [
      "ramesh 20\n",
      "ramesh age is 20\n",
      "suresh 30\n",
      "suresh age is 30\n",
      "sathish 40\n",
      "sathish age is 40\n"
     ]
    }
   ],
   "source": [
    "names=['ramesh','suresh','sathish']\n",
    "age=[20,30,40]\n",
    "for i,j in zip(names,age):\n",
    "    print(i,j)\n",
    "    print(f'{i} age is {j}')"
   ]
  },
  {
   "cell_type": "code",
   "execution_count": 19,
   "id": "47337059-409b-4e57-9f66-99b7651ae132",
   "metadata": {},
   "outputs": [
    {
     "data": {
      "text/plain": [
       "['ramesh age is 20', 'suresh age is 30', 'sathish age is 40']"
      ]
     },
     "execution_count": 19,
     "metadata": {},
     "output_type": "execute_result"
    }
   ],
   "source": [
    "[f'{i} age is {j}' for i,j in zip(names,age)]"
   ]
  },
  {
   "cell_type": "markdown",
   "id": "6dc596ef-20d2-4e0d-8795-3480ff342299",
   "metadata": {},
   "source": [
    "**dictionary**\n",
    "- in above example names and age both are together\n",
    "- when both are together we can pair them \n",
    "- this can happen using dictionary\n",
    "- dictionary is called as **key-value** pair\n",
    "- it represents with curly braces:**{key:value}**\n",
    "- ramesh and 20 years both are pair:{'ramesh':20}\n"
   ]
  },
  {
   "cell_type": "code",
   "execution_count": 20,
   "id": "201b39ea-f747-4852-b8d3-44d495619016",
   "metadata": {},
   "outputs": [
    {
     "data": {
      "text/plain": [
       "{'ramesh': 20, 'suresh': 30, 'sathish': 40}"
      ]
     },
     "execution_count": 20,
     "metadata": {},
     "output_type": "execute_result"
    }
   ],
   "source": [
    "d1={'ramesh':20,'suresh':30,'sathish':40}\n",
    "d1"
   ]
  },
  {
   "cell_type": "code",
   "execution_count": 21,
   "id": "422476c2-a924-43fb-8d95-405090d43bd8",
   "metadata": {},
   "outputs": [
    {
     "data": {
      "text/plain": [
       "{20: 'ramesh', 25: 'suresh', 30: 'sathish'}"
      ]
     },
     "execution_count": 21,
     "metadata": {},
     "output_type": "execute_result"
    }
   ],
   "source": [
    "d1={20:'ramesh',25:'suresh',30:'sathish'}\n",
    "d1"
   ]
  },
  {
   "cell_type": "code",
   "execution_count": 23,
   "id": "29090d2e-0386-45d6-b6a7-3704b29b3e69",
   "metadata": {},
   "outputs": [
    {
     "data": {
      "text/plain": [
       "{'ramesh': 20, 'suresh': 30, 'sathish': 40}"
      ]
     },
     "execution_count": 23,
     "metadata": {},
     "output_type": "execute_result"
    }
   ],
   "source": [
    "d1={'ramesh':20,'suresh':30,'sathish':40}\n",
    "d1"
   ]
  },
  {
   "cell_type": "code",
   "execution_count": 24,
   "id": "87eaa456-ebb4-4d50-878c-1dd4c4bfd204",
   "metadata": {},
   "outputs": [
    {
     "data": {
      "text/plain": [
       "('apple', 'orange', 'grapes')"
      ]
     },
     "execution_count": 24,
     "metadata": {},
     "output_type": "execute_result"
    }
   ],
   "source": [
    "d1='apple','orange','grapes'\n",
    "d1"
   ]
  },
  {
   "cell_type": "code",
   "execution_count": 25,
   "id": "7ca1ffe1-92bb-4477-8ebd-f20dfe22a0f6",
   "metadata": {},
   "outputs": [
    {
     "data": {
      "text/plain": [
       "[10, 20, 30, 40]"
      ]
     },
     "execution_count": 25,
     "metadata": {},
     "output_type": "execute_result"
    }
   ],
   "source": [
    "d1=[10,20,30,40]\n",
    "d1"
   ]
  },
  {
   "cell_type": "code",
   "execution_count": 31,
   "id": "62248fd4-6b03-4654-b963-c9628bbe0bca",
   "metadata": {},
   "outputs": [
    {
     "ename": "SyntaxError",
     "evalue": "invalid syntax (3618974770.py, line 1)",
     "output_type": "error",
     "traceback": [
      "\u001b[1;36m  Cell \u001b[1;32mIn[31], line 1\u001b[1;36m\u001b[0m\n\u001b[1;33m    d1=['deepu':'suni']\u001b[0m\n\u001b[1;37m               ^\u001b[0m\n\u001b[1;31mSyntaxError\u001b[0m\u001b[1;31m:\u001b[0m invalid syntax\n"
     ]
    }
   ],
   "source": [
    "d1=['deepu':'suni']\n",
    "d1"
   ]
  },
  {
   "cell_type": "code",
   "execution_count": 32,
   "id": "523971d3-2746-452e-8bb8-6fa2306c3241",
   "metadata": {},
   "outputs": [
    {
     "data": {
      "text/plain": [
       "[10.2, 3, 'apple', 'orange', 40]"
      ]
     },
     "execution_count": 32,
     "metadata": {},
     "output_type": "execute_result"
    }
   ],
   "source": [
    "d1=[10.20,3,'apple','orange',40]\n",
    "d1"
   ]
  },
  {
   "cell_type": "code",
   "execution_count": 27,
   "id": "d92eec4c-c088-4d07-9cc2-c0affabc97a1",
   "metadata": {},
   "outputs": [
    {
     "data": {
      "text/plain": [
       "('grapes', 'oranges', 'mangoes')"
      ]
     },
     "execution_count": 27,
     "metadata": {},
     "output_type": "execute_result"
    }
   ],
   "source": [
    "d1=('grapes','oranges','mangoes')\n",
    "d1"
   ]
  },
  {
   "cell_type": "code",
   "execution_count": 28,
   "id": "5fe9d519-cc42-4884-80a9-15daaf279abf",
   "metadata": {},
   "outputs": [
    {
     "data": {
      "text/plain": [
       "{1, 2, 3, 'A', 'B', 'C'}"
      ]
     },
     "execution_count": 28,
     "metadata": {},
     "output_type": "execute_result"
    }
   ],
   "source": [
    "d1={'A','B','C',1,2,3}\n",
    "d1"
   ]
  },
  {
   "cell_type": "code",
   "execution_count": 33,
   "id": "a5ed9f71-a49a-454c-b8f1-481f6d83439d",
   "metadata": {},
   "outputs": [
    {
     "data": {
      "text/plain": [
       "{'ramesh': '20', 'suresh': '30', 'sathish': '40'}"
      ]
     },
     "execution_count": 33,
     "metadata": {},
     "output_type": "execute_result"
    }
   ],
   "source": [
    "d1={'ramesh':'20','suresh':'30','sathish':'40'}\n",
    "d1"
   ]
  },
  {
   "cell_type": "code",
   "execution_count": 34,
   "id": "ec52d1fd-28eb-4dce-9a4a-200f4b8810c1",
   "metadata": {},
   "outputs": [
    {
     "data": {
      "text/plain": [
       "{'20': 'ramesh', '25': 'suresh', '30': 'sathish'}"
      ]
     },
     "execution_count": 34,
     "metadata": {},
     "output_type": "execute_result"
    }
   ],
   "source": [
    "d1={'20':'ramesh','25':'suresh','30':'sathish'}\n",
    "d1"
   ]
  },
  {
   "cell_type": "code",
   "execution_count": 35,
   "id": "d0ba2360-a92a-4522-9e6d-460dd3177383",
   "metadata": {},
   "outputs": [
    {
     "data": {
      "text/plain": [
       "{'ramesh': '20', 'suresh': '30', 'sathish': 40}"
      ]
     },
     "execution_count": 35,
     "metadata": {},
     "output_type": "execute_result"
    }
   ],
   "source": [
    "d1={'ramesh':'20','suresh':'30','sathish':40}\n",
    "d1"
   ]
  },
  {
   "cell_type": "code",
   "execution_count": 37,
   "id": "2f11016f-bfc6-428f-ba84-feb085b77208",
   "metadata": {},
   "outputs": [
    {
     "data": {
      "text/plain": [
       "{'ramesh': '30'}"
      ]
     },
     "execution_count": 37,
     "metadata": {},
     "output_type": "execute_result"
    }
   ],
   "source": [
    "d1={'ramesh':'20','ramesh':'30'}\n",
    "d1\n",
    "# if both keys are same it will takes the latest values\n",
    "#dictionary kind database"
   ]
  },
  {
   "cell_type": "code",
   "execution_count": 39,
   "id": "48d655bd-48e4-4ad2-87de-326c2e68b4ae",
   "metadata": {},
   "outputs": [
    {
     "data": {
      "text/plain": [
       "{'ramesh': '20'}"
      ]
     },
     "execution_count": 39,
     "metadata": {},
     "output_type": "execute_result"
    }
   ],
   "source": [
    "d1={'ramesh':'20','ramesh':'20'}\n",
    "d1\n",
    "#dictionary does not allow duplicates"
   ]
  },
  {
   "cell_type": "code",
   "execution_count": 41,
   "id": "3d76ef97-9640-40eb-855c-ad2972d8e196",
   "metadata": {},
   "outputs": [
    {
     "data": {
      "text/plain": [
       "{'ramesh': '20', 'suresh': '20'}"
      ]
     },
     "execution_count": 41,
     "metadata": {},
     "output_type": "execute_result"
    }
   ],
   "source": [
    "d1={'ramesh':'20','suresh':'20'}\n",
    "d1\n",
    "# in dictionary key plays vital roles\n",
    "# keys cannot be duplicate but values can be duplicate"
   ]
  },
  {
   "cell_type": "code",
   "execution_count": 42,
   "id": "e31d604d-007e-4536-8689-4471ec9fbbfa",
   "metadata": {},
   "outputs": [
    {
     "data": {
      "text/plain": [
       "{20: 'suresh'}"
      ]
     },
     "execution_count": 42,
     "metadata": {},
     "output_type": "execute_result"
    }
   ],
   "source": [
    "d1={20:'ramesh',20:'suresh'}\n",
    "d1"
   ]
  },
  {
   "cell_type": "code",
   "execution_count": 43,
   "id": "28a66bf0-2a8c-47cf-9c2a-76e368bf02f1",
   "metadata": {},
   "outputs": [
    {
     "data": {
      "text/plain": [
       "{True: 'true'}"
      ]
     },
     "execution_count": 43,
     "metadata": {},
     "output_type": "execute_result"
    }
   ],
   "source": [
    "d1={True:'true'}\n",
    "d1"
   ]
  },
  {
   "cell_type": "code",
   "execution_count": 44,
   "id": "236c005d-4631-4cb5-b167-0dcc4fccd6b1",
   "metadata": {},
   "outputs": [
    {
     "data": {
      "text/plain": [
       "{'fruits': ['apple', 'banana']}"
      ]
     },
     "execution_count": 44,
     "metadata": {},
     "output_type": "execute_result"
    }
   ],
   "source": [
    "d1={'fruits':['apple','banana']} # list is value\n",
    "d1"
   ]
  },
  {
   "cell_type": "code",
   "execution_count": 46,
   "id": "e360a08a-6784-4d0d-b09f-d205d9f51134",
   "metadata": {},
   "outputs": [
    {
     "ename": "TypeError",
     "evalue": "unhashable type: 'list'",
     "output_type": "error",
     "traceback": [
      "\u001b[1;31m---------------------------------------------------------------------------\u001b[0m",
      "\u001b[1;31mTypeError\u001b[0m                                 Traceback (most recent call last)",
      "Cell \u001b[1;32mIn[46], line 1\u001b[0m\n\u001b[1;32m----> 1\u001b[0m d1\u001b[38;5;241m=\u001b[39m{[\u001b[38;5;124m'\u001b[39m\u001b[38;5;124mapple\u001b[39m\u001b[38;5;124m'\u001b[39m,\u001b[38;5;124m'\u001b[39m\u001b[38;5;124mbanana\u001b[39m\u001b[38;5;124m'\u001b[39m]:\u001b[38;5;124m'\u001b[39m\u001b[38;5;124mfruits\u001b[39m\u001b[38;5;124m'\u001b[39m} \u001b[38;5;66;03m# list is key\u001b[39;00m\n\u001b[0;32m      2\u001b[0m d1\n",
      "\u001b[1;31mTypeError\u001b[0m: unhashable type: 'list'"
     ]
    }
   ],
   "source": [
    "d1={['apple','banana']:'fruits'} # list is key\n",
    "d1"
   ]
  },
  {
   "cell_type": "code",
   "execution_count": 47,
   "id": "22a9d34f-134d-4fe2-806c-e98384bf5e82",
   "metadata": {},
   "outputs": [
    {
     "data": {
      "text/plain": [
       "{'fruits': ('apple', 'banana')}"
      ]
     },
     "execution_count": 47,
     "metadata": {},
     "output_type": "execute_result"
    }
   ],
   "source": [
    "d1={'fruits':('apple','banana')} # list is value\n",
    "d1"
   ]
  },
  {
   "cell_type": "code",
   "execution_count": 48,
   "id": "8189f168-9674-47b7-b592-250bf9d20966",
   "metadata": {},
   "outputs": [
    {
     "data": {
      "text/plain": [
       "{('apple', 'banana'): 'fruits'}"
      ]
     },
     "execution_count": 48,
     "metadata": {},
     "output_type": "execute_result"
    }
   ],
   "source": [
    "d1={('apple','banana'):'fruits'} # list is key\n",
    "d1"
   ]
  },
  {
   "cell_type": "code",
   "execution_count": 2,
   "id": "6959e5d6-fc18-4693-a096-6636ec795f12",
   "metadata": {},
   "outputs": [
    {
     "data": {
      "text/plain": [
       "{'fruits': {'apple': 20}}"
      ]
     },
     "execution_count": 2,
     "metadata": {},
     "output_type": "execute_result"
    }
   ],
   "source": [
    "d1={'fruits':{'apple':20}}\n",
    "d1"
   ]
  },
  {
   "cell_type": "markdown",
   "id": "ce7a6e25-487a-4366-a4bc-a60db8ca3fdd",
   "metadata": {},
   "source": [
    "- **list as keys fails because list has a mutable behaviour**\n",
    "- **tuple as keys works because tuple has immutable behaviour**\n",
    "- **in dictionary keys are very very important**\n",
    "- ** keys can not change so when we apply list is failin**"
   ]
  },
  {
   "cell_type": "markdown",
   "id": "18b4e2d2-d379-445f-a1fb-2bea691a8712",
   "metadata": {},
   "source": [
    "- If both keys are same it will take the latest value\n",
    "\n",
    "- Dictionarys does not allow duplicates\n",
    "\n",
    "- In dictionary keys pays vital rols\n",
    "\n",
    "- keys can not be duplicate but values can be duplicate"
   ]
  },
  {
   "cell_type": "code",
   "execution_count": 3,
   "id": "a2e9a517-8c15-4954-8c84-1bef202d4575",
   "metadata": {},
   "outputs": [
    {
     "data": {
      "text/plain": [
       "{'fruits': {'apple': 20}}"
      ]
     },
     "execution_count": 3,
     "metadata": {},
     "output_type": "execute_result"
    }
   ],
   "source": [
    "d1={'fruits':{'apple':20}}\n",
    "d1"
   ]
  },
  {
   "cell_type": "code",
   "execution_count": 4,
   "id": "8b0ee685-ed92-469a-ad00-c14501ada064",
   "metadata": {},
   "outputs": [
    {
     "ename": "TypeError",
     "evalue": "unhashable type: 'dict'",
     "output_type": "error",
     "traceback": [
      "\u001b[1;31m---------------------------------------------------------------------------\u001b[0m",
      "\u001b[1;31mTypeError\u001b[0m                                 Traceback (most recent call last)",
      "Cell \u001b[1;32mIn[4], line 1\u001b[0m\n\u001b[1;32m----> 1\u001b[0m d1\u001b[38;5;241m=\u001b[39m{{\u001b[38;5;124m'\u001b[39m\u001b[38;5;124mapple\u001b[39m\u001b[38;5;124m'\u001b[39m:\u001b[38;5;241m20\u001b[39m}:\u001b[38;5;124m'\u001b[39m\u001b[38;5;124mfruits\u001b[39m\u001b[38;5;124m'\u001b[39m}\n\u001b[0;32m      2\u001b[0m d1\n",
      "\u001b[1;31mTypeError\u001b[0m: unhashable type: 'dict'"
     ]
    }
   ],
   "source": [
    "d1={{'apple':20}:'fruits'}\n",
    "d1"
   ]
  },
  {
   "cell_type": "code",
   "execution_count": 6,
   "id": "75a16460-61b1-45a0-bd72-08d3fc313f58",
   "metadata": {},
   "outputs": [
    {
     "ename": "SyntaxError",
     "evalue": "invalid syntax (3651032965.py, line 1)",
     "output_type": "error",
     "traceback": [
      "\u001b[1;36m  Cell \u001b[1;32mIn[6], line 1\u001b[1;36m\u001b[0m\n\u001b[1;33m    d1={{'apple'}:'fruits':20}\u001b[0m\n\u001b[1;37m                          ^\u001b[0m\n\u001b[1;31mSyntaxError\u001b[0m\u001b[1;31m:\u001b[0m invalid syntax\n"
     ]
    }
   ],
   "source": [
    "d1={{'apple'}:'fruits':20}\n",
    "d1"
   ]
  },
  {
   "cell_type": "code",
   "execution_count": 9,
   "id": "b21e99ca-a756-4d05-891e-6feb02e86adf",
   "metadata": {},
   "outputs": [],
   "source": [
    "dic1={'apple':20,'banana':30,'cherry':50}\n",
    "dic2={'Apple':20,'apple':30}\n",
    "dic3={20:'apple',30:'banana',50:'cherry'}"
   ]
  },
  {
   "cell_type": "code",
   "execution_count": 12,
   "id": "fda3376e-1cda-4985-a599-ee6dd99b4645",
   "metadata": {},
   "outputs": [
    {
     "ename": "TypeError",
     "evalue": "unsupported operand type(s) for +: 'int' and 'str'",
     "output_type": "error",
     "traceback": [
      "\u001b[1;31m---------------------------------------------------------------------------\u001b[0m",
      "\u001b[1;31mTypeError\u001b[0m                                 Traceback (most recent call last)",
      "Cell \u001b[1;32mIn[12], line 2\u001b[0m\n\u001b[0;32m      1\u001b[0m dic1\u001b[38;5;241m=\u001b[39m{\u001b[38;5;124m'\u001b[39m\u001b[38;5;124mapple\u001b[39m\u001b[38;5;124m'\u001b[39m:\u001b[38;5;241m20\u001b[39m,\u001b[38;5;124m'\u001b[39m\u001b[38;5;124mbanana\u001b[39m\u001b[38;5;124m'\u001b[39m:\u001b[38;5;241m30\u001b[39m,\u001b[38;5;124m'\u001b[39m\u001b[38;5;124mcherry\u001b[39m\u001b[38;5;124m'\u001b[39m:\u001b[38;5;241m50\u001b[39m}\n\u001b[1;32m----> 2\u001b[0m \u001b[38;5;28msum\u001b[39m(dic1)\n",
      "\u001b[1;31mTypeError\u001b[0m: unsupported operand type(s) for +: 'int' and 'str'"
     ]
    }
   ],
   "source": [
    "dic1={'apple':20,'banana':30,'cherry':50}\n",
    "sum(dic1)\n"
   ]
  },
  {
   "cell_type": "code",
   "execution_count": 13,
   "id": "6641184b-243a-4e2d-ab28-7488a698e097",
   "metadata": {},
   "outputs": [
    {
     "ename": "TypeError",
     "evalue": "unsupported operand type(s) for +: 'int' and 'str'",
     "output_type": "error",
     "traceback": [
      "\u001b[1;31m---------------------------------------------------------------------------\u001b[0m",
      "\u001b[1;31mTypeError\u001b[0m                                 Traceback (most recent call last)",
      "Cell \u001b[1;32mIn[13], line 1\u001b[0m\n\u001b[1;32m----> 1\u001b[0m \u001b[38;5;28msum\u001b[39m(dic2)\n",
      "\u001b[1;31mTypeError\u001b[0m: unsupported operand type(s) for +: 'int' and 'str'"
     ]
    }
   ],
   "source": [
    "sum(dic2)"
   ]
  },
  {
   "cell_type": "code",
   "execution_count": 14,
   "id": "0e78288d-f94f-40aa-8c64-f839bee1b703",
   "metadata": {},
   "outputs": [
    {
     "data": {
      "text/plain": [
       "100"
      ]
     },
     "execution_count": 14,
     "metadata": {},
     "output_type": "execute_result"
    }
   ],
   "source": [
    "sum(dic3)"
   ]
  },
  {
   "cell_type": "code",
   "execution_count": 15,
   "id": "ca5f2f9b-a99e-4ccc-a532-73241377c6b3",
   "metadata": {},
   "outputs": [
    {
     "data": {
      "text/plain": [
       "'cherry'"
      ]
     },
     "execution_count": 15,
     "metadata": {},
     "output_type": "execute_result"
    }
   ],
   "source": [
    "max(dic1)"
   ]
  },
  {
   "cell_type": "code",
   "execution_count": 16,
   "id": "d13907bd-8ea9-4008-8a98-a834c317ce61",
   "metadata": {},
   "outputs": [
    {
     "data": {
      "text/plain": [
       "'apple'"
      ]
     },
     "execution_count": 16,
     "metadata": {},
     "output_type": "execute_result"
    }
   ],
   "source": [
    "max(dic2)"
   ]
  },
  {
   "cell_type": "code",
   "execution_count": 17,
   "id": "7deddfb3-19c2-4abb-b62b-6e1383177ee5",
   "metadata": {},
   "outputs": [
    {
     "data": {
      "text/plain": [
       "50"
      ]
     },
     "execution_count": 17,
     "metadata": {},
     "output_type": "execute_result"
    }
   ],
   "source": [
    "max(dic3)"
   ]
  },
  {
   "cell_type": "code",
   "execution_count": 18,
   "id": "9e571e04-cfad-421c-9bc8-d3c55e70b777",
   "metadata": {},
   "outputs": [
    {
     "data": {
      "text/plain": [
       "'apple'"
      ]
     },
     "execution_count": 18,
     "metadata": {},
     "output_type": "execute_result"
    }
   ],
   "source": [
    "min(dic1)"
   ]
  },
  {
   "cell_type": "code",
   "execution_count": 19,
   "id": "356ab882-849d-4616-b809-25f25cf88180",
   "metadata": {},
   "outputs": [
    {
     "data": {
      "text/plain": [
       "'Apple'"
      ]
     },
     "execution_count": 19,
     "metadata": {},
     "output_type": "execute_result"
    }
   ],
   "source": [
    "min(dic2)"
   ]
  },
  {
   "cell_type": "code",
   "execution_count": 20,
   "id": "abcb3d03-002e-4b3b-b91c-0498413b8170",
   "metadata": {},
   "outputs": [
    {
     "data": {
      "text/plain": [
       "20"
      ]
     },
     "execution_count": 20,
     "metadata": {},
     "output_type": "execute_result"
    }
   ],
   "source": [
    "min(dic3)"
   ]
  },
  {
   "cell_type": "code",
   "execution_count": 22,
   "id": "ef27e271-fa81-47be-a290-1270e30f95e6",
   "metadata": {},
   "outputs": [
    {
     "data": {
      "text/plain": [
       "['apple', 'banana', 'cherry']"
      ]
     },
     "execution_count": 22,
     "metadata": {},
     "output_type": "execute_result"
    }
   ],
   "source": [
    "sorted(dic1)"
   ]
  },
  {
   "cell_type": "code",
   "execution_count": 23,
   "id": "f274e4ae-6e8d-4169-b466-2175399ed168",
   "metadata": {},
   "outputs": [
    {
     "data": {
      "text/plain": [
       "['Apple', 'apple']"
      ]
     },
     "execution_count": 23,
     "metadata": {},
     "output_type": "execute_result"
    }
   ],
   "source": [
    "sorted(dic2)"
   ]
  },
  {
   "cell_type": "code",
   "execution_count": 24,
   "id": "7ddee2e6-61c1-4453-9a7a-207147df7c9f",
   "metadata": {},
   "outputs": [
    {
     "data": {
      "text/plain": [
       "[20, 30, 50]"
      ]
     },
     "execution_count": 24,
     "metadata": {},
     "output_type": "execute_result"
    }
   ],
   "source": [
    "sorted(dic3)"
   ]
  },
  {
   "cell_type": "code",
   "execution_count": 26,
   "id": "9058e658-e78e-4b5d-98d5-e6d339faab93",
   "metadata": {},
   "outputs": [
    {
     "data": {
      "text/plain": [
       "<dict_reversekeyiterator at 0x1c8e9d9a570>"
      ]
     },
     "execution_count": 26,
     "metadata": {},
     "output_type": "execute_result"
    }
   ],
   "source": [
    "reversed(dic1)"
   ]
  },
  {
   "cell_type": "code",
   "execution_count": 27,
   "id": "cabdc654-b8ec-4465-8eba-75abd303f580",
   "metadata": {},
   "outputs": [
    {
     "data": {
      "text/plain": [
       "<dict_reversekeyiterator at 0x1c8e9df61b0>"
      ]
     },
     "execution_count": 27,
     "metadata": {},
     "output_type": "execute_result"
    }
   ],
   "source": [
    "reversed(dic2)"
   ]
  },
  {
   "cell_type": "code",
   "execution_count": 28,
   "id": "bab13d89-5273-4833-bafc-583326994369",
   "metadata": {},
   "outputs": [
    {
     "data": {
      "text/plain": [
       "<dict_reversekeyiterator at 0x1c8e9d58f40>"
      ]
     },
     "execution_count": 28,
     "metadata": {},
     "output_type": "execute_result"
    }
   ],
   "source": [
    "reversed(dic3)"
   ]
  },
  {
   "cell_type": "code",
   "execution_count": 29,
   "id": "0663e281-4df2-44c0-b36f-bef36651775c",
   "metadata": {},
   "outputs": [
    {
     "ename": "TypeError",
     "evalue": "unsupported operand type(s) for +: 'int' and 'str'",
     "output_type": "error",
     "traceback": [
      "\u001b[1;31m---------------------------------------------------------------------------\u001b[0m",
      "\u001b[1;31mTypeError\u001b[0m                                 Traceback (most recent call last)",
      "Cell \u001b[1;32mIn[29], line 1\u001b[0m\n\u001b[1;32m----> 1\u001b[0m \u001b[38;5;28msum\u001b[39m(dic1)\n",
      "\u001b[1;31mTypeError\u001b[0m: unsupported operand type(s) for +: 'int' and 'str'"
     ]
    }
   ],
   "source": [
    "sum(dic1)"
   ]
  },
  {
   "cell_type": "code",
   "execution_count": 30,
   "id": "5cc008b4-a3eb-4d2c-b647-07e1745cc52b",
   "metadata": {},
   "outputs": [
    {
     "ename": "TypeError",
     "evalue": "unsupported operand type(s) for +: 'int' and 'str'",
     "output_type": "error",
     "traceback": [
      "\u001b[1;31m---------------------------------------------------------------------------\u001b[0m",
      "\u001b[1;31mTypeError\u001b[0m                                 Traceback (most recent call last)",
      "Cell \u001b[1;32mIn[30], line 1\u001b[0m\n\u001b[1;32m----> 1\u001b[0m \u001b[38;5;28msum\u001b[39m(dic2)\n",
      "\u001b[1;31mTypeError\u001b[0m: unsupported operand type(s) for +: 'int' and 'str'"
     ]
    }
   ],
   "source": [
    "sum(dic2)"
   ]
  },
  {
   "cell_type": "code",
   "execution_count": 31,
   "id": "8b295ff7-fdf9-40e6-a58d-c0a8b29cae59",
   "metadata": {},
   "outputs": [
    {
     "data": {
      "text/plain": [
       "100"
      ]
     },
     "execution_count": 31,
     "metadata": {},
     "output_type": "execute_result"
    }
   ],
   "source": [
    "sum(dic3)"
   ]
  },
  {
   "cell_type": "code",
   "execution_count": 32,
   "id": "f6a82bf0-7348-47e6-9d91-a2a156bec67f",
   "metadata": {},
   "outputs": [
    {
     "data": {
      "text/plain": [
       "('apple', 'Apple', 20)"
      ]
     },
     "execution_count": 32,
     "metadata": {},
     "output_type": "execute_result"
    }
   ],
   "source": [
    "min(dic1),min(dic2),min(dic3)"
   ]
  },
  {
   "cell_type": "code",
   "execution_count": 33,
   "id": "95cd42df-e3f6-421a-aad7-f37bac35d906",
   "metadata": {},
   "outputs": [
    {
     "data": {
      "text/plain": [
       "('cherry', 'apple', 50)"
      ]
     },
     "execution_count": 33,
     "metadata": {},
     "output_type": "execute_result"
    }
   ],
   "source": [
    "max(dic1),max(dic2),max(dic3)"
   ]
  },
  {
   "cell_type": "code",
   "execution_count": 35,
   "id": "75c7b00d-a133-4c2c-939e-66c7ae4413ae",
   "metadata": {},
   "outputs": [
    {
     "data": {
      "text/plain": [
       "{'apple': 20, 'banana': 30, 'cherry': 10}"
      ]
     },
     "execution_count": 35,
     "metadata": {},
     "output_type": "execute_result"
    }
   ],
   "source": [
    "dic1={'apple':20,'banana':30,'cherry':10}\n",
    "dic1"
   ]
  },
  {
   "cell_type": "code",
   "execution_count": 36,
   "id": "32560e68-fe60-42e2-9280-84c84182935e",
   "metadata": {},
   "outputs": [
    {
     "data": {
      "text/plain": [
       "'cherry'"
      ]
     },
     "execution_count": 36,
     "metadata": {},
     "output_type": "execute_result"
    }
   ],
   "source": [
    "max(dic1)"
   ]
  },
  {
   "cell_type": "code",
   "execution_count": 37,
   "id": "da5d0879-a228-49c2-aecc-c4a0ab8f8b95",
   "metadata": {},
   "outputs": [
    {
     "data": {
      "text/plain": [
       "['cherry', 'banana', 'apple']"
      ]
     },
     "execution_count": 37,
     "metadata": {},
     "output_type": "execute_result"
    }
   ],
   "source": [
    "list(reversed(dic1))"
   ]
  },
  {
   "cell_type": "code",
   "execution_count": 38,
   "id": "57b41a28-f149-4a2d-8b8d-61c9eca32d75",
   "metadata": {},
   "outputs": [
    {
     "data": {
      "text/plain": [
       "3"
      ]
     },
     "execution_count": 38,
     "metadata": {},
     "output_type": "execute_result"
    }
   ],
   "source": [
    "len(dic1)"
   ]
  },
  {
   "cell_type": "code",
   "execution_count": 39,
   "id": "c9ee9f02-69a4-462c-b9a5-d18e768165c7",
   "metadata": {},
   "outputs": [
    {
     "data": {
      "text/plain": [
       "2"
      ]
     },
     "execution_count": 39,
     "metadata": {},
     "output_type": "execute_result"
    }
   ],
   "source": [
    "len(dic2)"
   ]
  },
  {
   "cell_type": "code",
   "execution_count": 40,
   "id": "01af65ca-2ca5-464a-8f22-760bfc04c508",
   "metadata": {},
   "outputs": [
    {
     "data": {
      "text/plain": [
       "3"
      ]
     },
     "execution_count": 40,
     "metadata": {},
     "output_type": "execute_result"
    }
   ],
   "source": [
    "len(dic3)"
   ]
  },
  {
   "cell_type": "code",
   "execution_count": 41,
   "id": "fce2280c-56cf-4295-9683-7bdf4f68a346",
   "metadata": {},
   "outputs": [
    {
     "data": {
      "text/plain": [
       "True"
      ]
     },
     "execution_count": 41,
     "metadata": {},
     "output_type": "execute_result"
    }
   ],
   "source": [
    "'apple' in dic1"
   ]
  },
  {
   "cell_type": "code",
   "execution_count": 42,
   "id": "13161dca-f055-4c4e-ada9-09c072479906",
   "metadata": {},
   "outputs": [
    {
     "data": {
      "text/plain": [
       "False"
      ]
     },
     "execution_count": 42,
     "metadata": {},
     "output_type": "execute_result"
    }
   ],
   "source": [
    "20 in dic1"
   ]
  },
  {
   "cell_type": "code",
   "execution_count": 44,
   "id": "03ee32e4-7ecf-402b-a8e4-17e1488d75c6",
   "metadata": {},
   "outputs": [
    {
     "ename": "SyntaxError",
     "evalue": "illegal target for annotation (3451868702.py, line 1)",
     "output_type": "error",
     "traceback": [
      "\u001b[1;36m  Cell \u001b[1;32mIn[44], line 1\u001b[1;36m\u001b[0m\n\u001b[1;33m    'apple':20 in dic1\u001b[0m\n\u001b[1;37m    ^\u001b[0m\n\u001b[1;31mSyntaxError\u001b[0m\u001b[1;31m:\u001b[0m illegal target for annotation\n"
     ]
    }
   ],
   "source": [
    "'apple':20 in dic1"
   ]
  },
  {
   "cell_type": "code",
   "execution_count": 45,
   "id": "e3f0a88c-dd42-406b-a541-d35a147a4d64",
   "metadata": {},
   "outputs": [
    {
     "name": "stdout",
     "output_type": "stream",
     "text": [
      "apple\n",
      "banana\n",
      "cherry\n"
     ]
    }
   ],
   "source": [
    "for i in dic1:\n",
    "    print(i)"
   ]
  },
  {
   "cell_type": "code",
   "execution_count": null,
   "id": "15437a6b-a466-4efb-b53c-c81c5ec5e36b",
   "metadata": {},
   "outputs": [],
   "source": [
    "dic1={'apple':20,'banana':30,'cherry':10}"
   ]
  },
  {
   "cell_type": "code",
   "execution_count": 46,
   "id": "d0dc50c0-e375-42ba-a31a-2bb311cef339",
   "metadata": {},
   "outputs": [
    {
     "data": {
      "text/plain": [
       "True"
      ]
     },
     "execution_count": 46,
     "metadata": {},
     "output_type": "execute_result"
    }
   ],
   "source": [
    "'apple' in dic1"
   ]
  },
  {
   "cell_type": "code",
   "execution_count": 50,
   "id": "c98cb506-e642-4833-b31c-212ff192f7ed",
   "metadata": {},
   "outputs": [
    {
     "ename": "AttributeError",
     "evalue": "'dict' object has no attribute 'index'",
     "output_type": "error",
     "traceback": [
      "\u001b[1;31m---------------------------------------------------------------------------\u001b[0m",
      "\u001b[1;31mAttributeError\u001b[0m                            Traceback (most recent call last)",
      "Cell \u001b[1;32mIn[50], line 4\u001b[0m\n\u001b[0;32m      2\u001b[0m n\u001b[38;5;241m=\u001b[39m\u001b[38;5;28mlen\u001b[39m(dic1)\n\u001b[0;32m      3\u001b[0m \u001b[38;5;28;01mfor\u001b[39;00m i \u001b[38;5;129;01min\u001b[39;00m \u001b[38;5;28mrange\u001b[39m(\u001b[38;5;28mlen\u001b[39m(dic1)):\n\u001b[1;32m----> 4\u001b[0m     \u001b[38;5;28mprint\u001b[39m(dic1\u001b[38;5;241m.\u001b[39mindex(i))\n",
      "\u001b[1;31mAttributeError\u001b[0m: 'dict' object has no attribute 'index'"
     ]
    }
   ],
   "source": [
    "dic1={'apple':20,'banana':30,'cherry':10}\n",
    "n=len(dic1)\n",
    "for i in range(len(dic1)):\n",
    "    print(dic1.index(i))"
   ]
  },
  {
   "cell_type": "code",
   "execution_count": 51,
   "id": "5d7d8adf-3a5f-41aa-a4cb-6525eac03ea9",
   "metadata": {},
   "outputs": [
    {
     "name": "stdout",
     "output_type": "stream",
     "text": [
      "0\n",
      "1\n",
      "2\n"
     ]
    }
   ],
   "source": [
    "for i in range(len(dic1)):\n",
    "    print(i)"
   ]
  },
  {
   "cell_type": "markdown",
   "id": "5d0f5882-6e31-4e81-9c93-85414fcf04bf",
   "metadata": {},
   "source": [
    "**index**"
   ]
  },
  {
   "cell_type": "code",
   "execution_count": 2,
   "id": "1cc3d634-8e60-47b2-bfb1-b92ac410a6c4",
   "metadata": {},
   "outputs": [
    {
     "data": {
      "text/plain": [
       "10"
      ]
     },
     "execution_count": 2,
     "metadata": {},
     "output_type": "execute_result"
    }
   ],
   "source": [
    "l1=[10,20,30]\n",
    "l1[0]"
   ]
  },
  {
   "cell_type": "code",
   "execution_count": 3,
   "id": "befc3af6-3cd8-483d-8d95-9ddf8c353e98",
   "metadata": {},
   "outputs": [
    {
     "data": {
      "text/plain": [
       "'p'"
      ]
     },
     "execution_count": 3,
     "metadata": {},
     "output_type": "execute_result"
    }
   ],
   "source": [
    "str1='python'\n",
    "str1[0]"
   ]
  },
  {
   "cell_type": "code",
   "execution_count": 4,
   "id": "48c0c1d0-b856-499d-b1da-8fe45a52e144",
   "metadata": {},
   "outputs": [
    {
     "ename": "KeyError",
     "evalue": "0",
     "output_type": "error",
     "traceback": [
      "\u001b[1;31m---------------------------------------------------------------------------\u001b[0m",
      "\u001b[1;31mKeyError\u001b[0m                                  Traceback (most recent call last)",
      "Cell \u001b[1;32mIn[4], line 2\u001b[0m\n\u001b[0;32m      1\u001b[0m dict1\u001b[38;5;241m=\u001b[39m{\u001b[38;5;124m'\u001b[39m\u001b[38;5;124mApple\u001b[39m\u001b[38;5;124m'\u001b[39m:\u001b[38;5;241m20\u001b[39m,\u001b[38;5;124m'\u001b[39m\u001b[38;5;124mBanana\u001b[39m\u001b[38;5;124m'\u001b[39m:\u001b[38;5;241m30\u001b[39m,\u001b[38;5;124m'\u001b[39m\u001b[38;5;124mCherry\u001b[39m\u001b[38;5;124m'\u001b[39m:\u001b[38;5;241m10\u001b[39m}\n\u001b[1;32m----> 2\u001b[0m dict1[\u001b[38;5;241m0\u001b[39m]\n",
      "\u001b[1;31mKeyError\u001b[0m: 0"
     ]
    }
   ],
   "source": [
    "dict1={'Apple':20,'Banana':30,'Cherry':10}\n",
    "dict1[0]\n",
    "\n",
    "#'Apple':20 in dict1"
   ]
  },
  {
   "cell_type": "markdown",
   "id": "41bcbda0-2e60-4fc1-86a6-8c1cc23f12e5",
   "metadata": {},
   "source": [
    "**key error**"
   ]
  },
  {
   "cell_type": "code",
   "execution_count": 53,
   "id": "42b16f36-097c-477a-9fde-b8606c06d2ac",
   "metadata": {},
   "outputs": [
    {
     "ename": "KeyError",
     "evalue": "0",
     "output_type": "error",
     "traceback": [
      "\u001b[1;31m---------------------------------------------------------------------------\u001b[0m",
      "\u001b[1;31mKeyError\u001b[0m                                  Traceback (most recent call last)",
      "Cell \u001b[1;32mIn[53], line 2\u001b[0m\n\u001b[0;32m      1\u001b[0m dic1\u001b[38;5;241m=\u001b[39m{\u001b[38;5;124m'\u001b[39m\u001b[38;5;124mapple\u001b[39m\u001b[38;5;124m'\u001b[39m:\u001b[38;5;241m20\u001b[39m,\u001b[38;5;124m'\u001b[39m\u001b[38;5;124mbanana\u001b[39m\u001b[38;5;124m'\u001b[39m:\u001b[38;5;241m30\u001b[39m,\u001b[38;5;124m'\u001b[39m\u001b[38;5;124mcherry\u001b[39m\u001b[38;5;124m'\u001b[39m:\u001b[38;5;241m10\u001b[39m}\n\u001b[1;32m----> 2\u001b[0m dic1[\u001b[38;5;241m0\u001b[39m]\n",
      "\u001b[1;31mKeyError\u001b[0m: 0"
     ]
    }
   ],
   "source": [
    "dic1={'apple':20,'banana':30,'cherry':10}\n",
    "dic1[0]\n"
   ]
  },
  {
   "cell_type": "markdown",
   "id": "92770641-81bd-460a-9b35-f96d07d64111",
   "metadata": {},
   "source": [
    "**how to extract the values**\n",
    "- in dictionary we have a concept key:value pair\n",
    "- keys are very important \n",
    "- in order to get the values we have to take keys help"
   ]
  },
  {
   "cell_type": "code",
   "execution_count": 54,
   "id": "67f6b981-06e0-45cc-afe4-e4339f894727",
   "metadata": {},
   "outputs": [
    {
     "data": {
      "text/plain": [
       "20"
      ]
     },
     "execution_count": 54,
     "metadata": {},
     "output_type": "execute_result"
    }
   ],
   "source": [
    "dic1={'apple':20,'banana':30,'cherry':10}\n",
    "dic1['apple']"
   ]
  },
  {
   "cell_type": "code",
   "execution_count": 55,
   "id": "1e1d5128-821a-4da5-8c2e-b203ca37c6a9",
   "metadata": {},
   "outputs": [
    {
     "data": {
      "text/plain": [
       "30"
      ]
     },
     "execution_count": 55,
     "metadata": {},
     "output_type": "execute_result"
    }
   ],
   "source": [
    "dic1['banana']"
   ]
  },
  {
   "cell_type": "code",
   "execution_count": 56,
   "id": "f4c2d263-4f3a-4910-9435-9244d1769f68",
   "metadata": {},
   "outputs": [
    {
     "data": {
      "text/plain": [
       "10"
      ]
     },
     "execution_count": 56,
     "metadata": {},
     "output_type": "execute_result"
    }
   ],
   "source": [
    "dic1['cherry']"
   ]
  },
  {
   "cell_type": "code",
   "execution_count": 58,
   "id": "859ed0e2-b68c-4380-857b-6082f4bc4f21",
   "metadata": {},
   "outputs": [
    {
     "name": "stdout",
     "output_type": "stream",
     "text": [
      "20\n",
      "30\n",
      "10\n"
     ]
    }
   ],
   "source": [
    "for i in dic1:\n",
    "    print(dic1[i])\n"
   ]
  },
  {
   "cell_type": "code",
   "execution_count": 59,
   "id": "54c7547b-cc24-457f-848c-364d6fdb12ef",
   "metadata": {},
   "outputs": [
    {
     "name": "stdout",
     "output_type": "stream",
     "text": [
      "apple 20\n",
      "banana 30\n",
      "cherry 10\n"
     ]
    }
   ],
   "source": [
    "for i in dic1:\n",
    "    print(i,dic1[i])\n"
   ]
  },
  {
   "cell_type": "code",
   "execution_count": null,
   "id": "bd1bca72-0013-4911-830c-0828aabf8ab0",
   "metadata": {},
   "outputs": [],
   "source": [
    "names=['ramesh','suresh','sathish']\n",
    "age=[20,30,40]"
   ]
  },
  {
   "cell_type": "code",
   "execution_count": null,
   "id": "dbfc573a-c800-40c6-ad64-db5f9caaa801",
   "metadata": {},
   "outputs": [],
   "source": [
    "dic4=['ramesh':20,'suresh':25,'sathish':30]"
   ]
  },
  {
   "cell_type": "code",
   "execution_count": 64,
   "id": "20818461-5e97-4e4d-81a8-0a9dc8981c24",
   "metadata": {},
   "outputs": [
    {
     "name": "stdout",
     "output_type": "stream",
     "text": [
      "ramesh 20\n",
      "suresh 25\n",
      "sathish 30\n"
     ]
    }
   ],
   "source": [
    "dic4={'ramesh':20,'suresh':25,'sathish':30}\n",
    "for i in dic4:\n",
    "    print(i,dic4[i])"
   ]
  },
  {
   "cell_type": "code",
   "execution_count": 67,
   "id": "79855e01-482b-426e-b2ac-5ea241b94bc8",
   "metadata": {},
   "outputs": [
    {
     "ename": "TypeError",
     "evalue": "'set' object is not subscriptable",
     "output_type": "error",
     "traceback": [
      "\u001b[1;31m---------------------------------------------------------------------------\u001b[0m",
      "\u001b[1;31mTypeError\u001b[0m                                 Traceback (most recent call last)",
      "Cell \u001b[1;32mIn[67], line 4\u001b[0m\n\u001b[0;32m      2\u001b[0m age\u001b[38;5;241m=\u001b[39m{\u001b[38;5;241m20\u001b[39m,\u001b[38;5;241m30\u001b[39m,\u001b[38;5;241m40\u001b[39m}\n\u001b[0;32m      3\u001b[0m \u001b[38;5;28;01mfor\u001b[39;00m key \u001b[38;5;129;01min\u001b[39;00m names:\n\u001b[1;32m----> 4\u001b[0m     value\u001b[38;5;241m=\u001b[39mnames[key]\n\u001b[0;32m      5\u001b[0m     \u001b[38;5;28mprint\u001b[39m(\u001b[38;5;124mf\u001b[39m\u001b[38;5;124m'\u001b[39m\u001b[38;5;132;01m{\u001b[39;00mkey\u001b[38;5;132;01m}\u001b[39;00m\u001b[38;5;124m age is \u001b[39m\u001b[38;5;132;01m{\u001b[39;00mvalue\u001b[38;5;132;01m}\u001b[39;00m\u001b[38;5;124m'\u001b[39m)\n",
      "\u001b[1;31mTypeError\u001b[0m: 'set' object is not subscriptable"
     ]
    }
   ],
   "source": [
    "names={'ramesh','suresh','sathish'}\n",
    "age={20,30,40}\n",
    "for key in names:\n",
    "    value=names[key]\n",
    "    print(f'{key} age is {value}')"
   ]
  },
  {
   "cell_type": "code",
   "execution_count": 66,
   "id": "39b9d1c4-a814-4dbb-a696-aebeb3592edc",
   "metadata": {},
   "outputs": [
    {
     "name": "stdout",
     "output_type": "stream",
     "text": [
      "ramesh age is 20\n",
      "suresh age is 25\n",
      "sathish age is 30\n"
     ]
    }
   ],
   "source": [
    "names={'ramesh':20,'suresh':25,'sathish':30}\n",
    "for key in names:\n",
    "    value=names[key]\n",
    "    print(f'{key} age is {value}')"
   ]
  },
  {
   "cell_type": "code",
   "execution_count": null,
   "id": "d34bda5b-3895-487d-92d0-d1a10d7f5e92",
   "metadata": {},
   "outputs": [],
   "source": [
    "# range means only numbers will come\n",
    "# number is not useful its pair"
   ]
  },
  {
   "cell_type": "code",
   "execution_count": 16,
   "id": "833323ba-b4ce-41b4-a686-aea3ca40f4ff",
   "metadata": {},
   "outputs": [
    {
     "data": {
      "text/plain": [
       "1"
      ]
     },
     "execution_count": 16,
     "metadata": {},
     "output_type": "execute_result"
    }
   ],
   "source": [
    "d={'fruits':['apple','banana','chery']}\n",
    "len(d)\n"
   ]
  },
  {
   "cell_type": "code",
   "execution_count": 18,
   "id": "ffaa5be3-22fa-4662-af28-fe73b62ef363",
   "metadata": {},
   "outputs": [
    {
     "data": {
      "text/plain": [
       "3"
      ]
     },
     "execution_count": 18,
     "metadata": {},
     "output_type": "execute_result"
    }
   ],
   "source": [
    "d={'fruits':['apple','banana','chery']}\n",
    "len(d['fruits'])"
   ]
  },
  {
   "cell_type": "code",
   "execution_count": 21,
   "id": "3053f5da-1928-4261-a27c-2fcb13f30035",
   "metadata": {},
   "outputs": [
    {
     "data": {
      "text/plain": [
       "'chery'"
      ]
     },
     "execution_count": 21,
     "metadata": {},
     "output_type": "execute_result"
    }
   ],
   "source": [
    "d['fruits'][2]"
   ]
  },
  {
   "cell_type": "code",
   "execution_count": 71,
   "id": "901c3ffd-f562-46f7-966d-137169bc07ab",
   "metadata": {},
   "outputs": [
    {
     "data": {
      "text/plain": [
       "'chery'"
      ]
     },
     "execution_count": 71,
     "metadata": {},
     "output_type": "execute_result"
    }
   ],
   "source": [
    "d={'fruits':['apple','banana','chery']}\n",
    "d['fruits'][2]"
   ]
  },
  {
   "cell_type": "code",
   "execution_count": 72,
   "id": "261c9e80-8194-4eb4-afe5-ce3eab53302c",
   "metadata": {},
   "outputs": [
    {
     "data": {
      "text/plain": [
       "'green'"
      ]
     },
     "execution_count": 72,
     "metadata": {},
     "output_type": "execute_result"
    }
   ],
   "source": [
    "d={'fruits':{'apple':['sweet','sour','green']}}\n",
    "d['fruits']['apple'][2]"
   ]
  },
  {
   "cell_type": "code",
   "execution_count": 22,
   "id": "8893f88c-202d-4d9e-96c9-c5c70e3c4208",
   "metadata": {},
   "outputs": [
    {
     "data": {
      "text/plain": [
       "1"
      ]
     },
     "execution_count": 22,
     "metadata": {},
     "output_type": "execute_result"
    }
   ],
   "source": [
    "d={'fruits':{'apple':['sweet','sour','green']}}\n",
    "len(d)"
   ]
  },
  {
   "cell_type": "code",
   "execution_count": 24,
   "id": "1c5727b0-5adc-4344-be1f-6f6e4a3a5c42",
   "metadata": {},
   "outputs": [
    {
     "data": {
      "text/plain": [
       "1"
      ]
     },
     "execution_count": 24,
     "metadata": {},
     "output_type": "execute_result"
    }
   ],
   "source": [
    "len(d['fruits'])"
   ]
  },
  {
   "cell_type": "code",
   "execution_count": 27,
   "id": "019b7770-7b4b-486c-906d-3e94d6b5f142",
   "metadata": {},
   "outputs": [
    {
     "data": {
      "text/plain": [
       "{'apple': ['sweet', 'sour', 'green']}"
      ]
     },
     "execution_count": 27,
     "metadata": {},
     "output_type": "execute_result"
    }
   ],
   "source": [
    "d['fruits']"
   ]
  },
  {
   "cell_type": "code",
   "execution_count": 25,
   "id": "db6751dc-81e8-4317-93ee-52c411a210b2",
   "metadata": {},
   "outputs": [
    {
     "data": {
      "text/plain": [
       "['sweet', 'sour', 'green']"
      ]
     },
     "execution_count": 25,
     "metadata": {},
     "output_type": "execute_result"
    }
   ],
   "source": [
    "d['fruits']['apple']"
   ]
  },
  {
   "cell_type": "code",
   "execution_count": 28,
   "id": "9321256d-5626-453d-a746-2f794536c773",
   "metadata": {},
   "outputs": [
    {
     "data": {
      "text/plain": [
       "3"
      ]
     },
     "execution_count": 28,
     "metadata": {},
     "output_type": "execute_result"
    }
   ],
   "source": [
    "len(d['fruits']['apple'])"
   ]
  },
  {
   "cell_type": "code",
   "execution_count": 29,
   "id": "939c1044-6ed0-42a2-9981-72d56a1ff421",
   "metadata": {},
   "outputs": [
    {
     "data": {
      "text/plain": [
       "'green'"
      ]
     },
     "execution_count": 29,
     "metadata": {},
     "output_type": "execute_result"
    }
   ],
   "source": [
    "d['fruits']['apple'][2]"
   ]
  },
  {
   "cell_type": "code",
   "execution_count": 30,
   "id": "23294072-77d3-4f79-83b5-136a3b99a4fe",
   "metadata": {},
   "outputs": [
    {
     "data": {
      "text/plain": [
       "'green'"
      ]
     },
     "execution_count": 30,
     "metadata": {},
     "output_type": "execute_result"
    }
   ],
   "source": [
    "d={'Fruites':{'Apple':['sweet','sour','green']}}\n",
    "d \n",
    "# identify how many key-value pairs\n",
    "d['Fruites'] # dictionary\n",
    "d['Fruites']['Apple'] # list\n",
    "d['Fruites']['Apple'][2]"
   ]
  },
  {
   "cell_type": "code",
   "execution_count": 75,
   "id": "8e7a23be-7652-44a6-acf0-48bf31f42d39",
   "metadata": {},
   "outputs": [
    {
     "data": {
      "text/plain": [
       "'sour'"
      ]
     },
     "execution_count": 75,
     "metadata": {},
     "output_type": "execute_result"
    }
   ],
   "source": [
    "d={'fruits':{'apple':['sweet','sour','green']}}\n",
    "d['fruits']['apple'][1]"
   ]
  },
  {
   "cell_type": "code",
   "execution_count": null,
   "id": "f56d06bb-f42c-4e04-9dfb-13d06cc7bddd",
   "metadata": {},
   "outputs": [],
   "source": [
    "d={'fruits':{'apple':['sweet','sour','green']}}"
   ]
  },
  {
   "cell_type": "code",
   "execution_count": 80,
   "id": "6dacde48-d767-450e-a342-68063d2c3a80",
   "metadata": {},
   "outputs": [
    {
     "data": {
      "text/plain": [
       "50"
      ]
     },
     "execution_count": 80,
     "metadata": {},
     "output_type": "execute_result"
    }
   ],
   "source": [
    "d={'fruits':[{'cost':[50]}]}\n",
    "d['fruits'][0]['cost'][0]"
   ]
  },
  {
   "cell_type": "code",
   "execution_count": 31,
   "id": "a11fe608-bea8-4044-ac8b-c9c3f136ca0d",
   "metadata": {},
   "outputs": [
    {
     "data": {
      "text/plain": [
       "1"
      ]
     },
     "execution_count": 31,
     "metadata": {},
     "output_type": "execute_result"
    }
   ],
   "source": [
    "d={'fruits':[{'cost':[50]}]}\n",
    "len(d)"
   ]
  },
  {
   "cell_type": "code",
   "execution_count": 34,
   "id": "d6cf4347-2398-445f-abc5-f2707ee0a102",
   "metadata": {},
   "outputs": [
    {
     "data": {
      "text/plain": [
       "[{'cost': [50]}]"
      ]
     },
     "execution_count": 34,
     "metadata": {},
     "output_type": "execute_result"
    }
   ],
   "source": [
    "d['fruits']"
   ]
  },
  {
   "cell_type": "code",
   "execution_count": 33,
   "id": "db7007b1-0b76-48e0-a7af-4d90ebd57462",
   "metadata": {},
   "outputs": [
    {
     "data": {
      "text/plain": [
       "1"
      ]
     },
     "execution_count": 33,
     "metadata": {},
     "output_type": "execute_result"
    }
   ],
   "source": [
    "len(d['fruits'])"
   ]
  },
  {
   "cell_type": "code",
   "execution_count": 36,
   "id": "f6f2a53e-46fc-45ba-9131-ca8f7b6b9aef",
   "metadata": {},
   "outputs": [
    {
     "data": {
      "text/plain": [
       "50"
      ]
     },
     "execution_count": 36,
     "metadata": {},
     "output_type": "execute_result"
    }
   ],
   "source": [
    "d['fruits'][0]['cost'][0]"
   ]
  },
  {
   "cell_type": "code",
   "execution_count": 37,
   "id": "e2080871-8db2-4b46-8f90-e1d028dc6d5a",
   "metadata": {},
   "outputs": [
    {
     "data": {
      "text/plain": [
       "50"
      ]
     },
     "execution_count": 37,
     "metadata": {},
     "output_type": "execute_result"
    }
   ],
   "source": [
    "d={'Fruites':[{'Cost':[50]}]}\n",
    "d['Fruites'] # list\n",
    "d['Fruites'][0] # dict\n",
    "d['Fruites'][0]['Cost'] # list\n",
    "d['Fruites'][0]['Cost'][0]"
   ]
  },
  {
   "cell_type": "code",
   "execution_count": 38,
   "id": "740dccf3-6162-4488-a833-e377d82d2da0",
   "metadata": {},
   "outputs": [
    {
     "data": {
      "text/plain": [
       "2"
      ]
     },
     "execution_count": 38,
     "metadata": {},
     "output_type": "execute_result"
    }
   ],
   "source": [
    "d={'fruits':['apple'],'cost':[{'1kg':[20,30,40],'2kg':None}]}\n",
    "len(d)"
   ]
  },
  {
   "cell_type": "code",
   "execution_count": 41,
   "id": "1b84374b-5c7a-4ef1-9e3f-df1657b2fcb3",
   "metadata": {},
   "outputs": [
    {
     "data": {
      "text/plain": [
       "['apple']"
      ]
     },
     "execution_count": 41,
     "metadata": {},
     "output_type": "execute_result"
    }
   ],
   "source": [
    "d['fruits']"
   ]
  },
  {
   "cell_type": "code",
   "execution_count": 40,
   "id": "ee93a124-ec92-4f9f-8d58-ac3f5417585b",
   "metadata": {},
   "outputs": [
    {
     "data": {
      "text/plain": [
       "1"
      ]
     },
     "execution_count": 40,
     "metadata": {},
     "output_type": "execute_result"
    }
   ],
   "source": [
    "len(d['fruits'])"
   ]
  },
  {
   "cell_type": "code",
   "execution_count": 48,
   "id": "b6e26449-d69a-4595-b15d-a85b8441dff0",
   "metadata": {},
   "outputs": [
    {
     "data": {
      "text/plain": [
       "5"
      ]
     },
     "execution_count": 48,
     "metadata": {},
     "output_type": "execute_result"
    }
   ],
   "source": [
    "len(d['fruits'][0])"
   ]
  },
  {
   "cell_type": "code",
   "execution_count": 55,
   "id": "c41b5173-8701-4693-8ada-6f5e85776a05",
   "metadata": {},
   "outputs": [
    {
     "data": {
      "text/plain": [
       "40"
      ]
     },
     "execution_count": 55,
     "metadata": {},
     "output_type": "execute_result"
    }
   ],
   "source": [
    "d['cost'][0]['1kg'][2]"
   ]
  },
  {
   "cell_type": "code",
   "execution_count": 56,
   "id": "06f48b24-ab20-4128-9e08-d4aba63cc3a9",
   "metadata": {},
   "outputs": [
    {
     "ename": "TypeError",
     "evalue": "'NoneType' object is not subscriptable",
     "output_type": "error",
     "traceback": [
      "\u001b[1;31m---------------------------------------------------------------------------\u001b[0m",
      "\u001b[1;31mTypeError\u001b[0m                                 Traceback (most recent call last)",
      "Cell \u001b[1;32mIn[56], line 1\u001b[0m\n\u001b[1;32m----> 1\u001b[0m d[\u001b[38;5;124m'\u001b[39m\u001b[38;5;124mcost\u001b[39m\u001b[38;5;124m'\u001b[39m][\u001b[38;5;241m0\u001b[39m][\u001b[38;5;124m'\u001b[39m\u001b[38;5;124m2kg\u001b[39m\u001b[38;5;124m'\u001b[39m][\u001b[38;5;241m0\u001b[39m]\n",
      "\u001b[1;31mTypeError\u001b[0m: 'NoneType' object is not subscriptable"
     ]
    }
   ],
   "source": [
    "d['cost'][0]['2kg'][0]"
   ]
  },
  {
   "cell_type": "code",
   "execution_count": 100,
   "id": "55779d0d-108f-44e0-8c31-e5824685d1c4",
   "metadata": {},
   "outputs": [
    {
     "data": {
      "text/plain": [
       "40"
      ]
     },
     "execution_count": 100,
     "metadata": {},
     "output_type": "execute_result"
    }
   ],
   "source": [
    "d={'fruits':['apple'],'cost':[{'1kg':[20,30,40],'2kg':None}]}\n",
    "d['cost'][0]['1kg'][2]"
   ]
  },
  {
   "cell_type": "code",
   "execution_count": 59,
   "id": "d1491022-01b0-42f1-8762-64a49a7d362e",
   "metadata": {},
   "outputs": [
    {
     "data": {
      "text/plain": [
       "40"
      ]
     },
     "execution_count": 59,
     "metadata": {},
     "output_type": "execute_result"
    }
   ],
   "source": [
    "d={'Fruites':['Apple'],'Cost':[{'1kg':[20,30,40],\n",
    "                               '2kg':None}]}\n",
    "len(d)\n",
    "len(d['Cost'])\n",
    "d['Cost'][0]['2kg']\n",
    "d['Cost'][0]['1kg'][2]\n"
   ]
  },
  {
   "cell_type": "code",
   "execution_count": 67,
   "id": "9e6793b8-708c-45cb-878e-4545bc441574",
   "metadata": {},
   "outputs": [
    {
     "data": {
      "text/plain": [
       "1"
      ]
     },
     "execution_count": 67,
     "metadata": {},
     "output_type": "execute_result"
    }
   ],
   "source": [
    "d={'fruits':{'orange':{'nagpur':{'mh':{'king':{'shivaji':{'shambaji'}}}}}}}\n",
    "len(d)"
   ]
  },
  {
   "cell_type": "code",
   "execution_count": 68,
   "id": "923e853e-4dce-41e8-ae38-5fddb6bccd44",
   "metadata": {},
   "outputs": [
    {
     "data": {
      "text/plain": [
       "{'shambaji'}"
      ]
     },
     "execution_count": 68,
     "metadata": {},
     "output_type": "execute_result"
    }
   ],
   "source": [
    "d['fruits']['orange']['nagpur']['mh']['king']['shivaji']"
   ]
  },
  {
   "cell_type": "code",
   "execution_count": 63,
   "id": "df85a51e-806d-42f6-a3d7-66f6b9020a4d",
   "metadata": {},
   "outputs": [
    {
     "ename": "KeyError",
     "evalue": "'shambaji'",
     "output_type": "error",
     "traceback": [
      "\u001b[1;31m---------------------------------------------------------------------------\u001b[0m",
      "\u001b[1;31mKeyError\u001b[0m                                  Traceback (most recent call last)",
      "Cell \u001b[1;32mIn[63], line 1\u001b[0m\n\u001b[1;32m----> 1\u001b[0m d[\u001b[38;5;124m'\u001b[39m\u001b[38;5;124mshambaji\u001b[39m\u001b[38;5;124m'\u001b[39m][\u001b[38;5;241m0\u001b[39m]\n",
      "\u001b[1;31mKeyError\u001b[0m: 'shambaji'"
     ]
    }
   ],
   "source": [
    "d['shambaji'][0]"
   ]
  },
  {
   "cell_type": "markdown",
   "id": "55d2041a-f5b8-4650-b859-5cac886bae56",
   "metadata": {},
   "source": [
    "**how to create an empty dictionary**\n",
    "- now onwords focus on creation of empty list ,strings and dictionary \n",
    "- we will take empty list will use append operation\n",
    "- we will take empty string will use concatenation\n",
    " - we will take empty dictionary will use key:value pair concept"
   ]
  },
  {
   "cell_type": "code",
   "execution_count": 114,
   "id": "4fb8a0bc-5bdc-4300-8ed0-a22512fdf797",
   "metadata": {},
   "outputs": [
    {
     "data": {
      "text/plain": [
       "[10, 20]"
      ]
     },
     "execution_count": 114,
     "metadata": {},
     "output_type": "execute_result"
    }
   ],
   "source": [
    "#list\n",
    "l=[]\n",
    "l.append(10)\n",
    "l.append(20)\n",
    "l\n"
   ]
  },
  {
   "cell_type": "code",
   "execution_count": 116,
   "id": "7b5badf8-c897-4174-9323-72c84a5353b3",
   "metadata": {},
   "outputs": [
    {
     "data": {
      "text/plain": [
       "'py'"
      ]
     },
     "execution_count": 116,
     "metadata": {},
     "output_type": "execute_result"
    }
   ],
   "source": [
    "#strings\n",
    "s=''\n",
    "s=s+'p'  #''+p\n",
    "s=s+'y'  #'p'+'y'='py'\n",
    "s"
   ]
  },
  {
   "cell_type": "code",
   "execution_count": 120,
   "id": "90e14379-709a-4163-9011-b3410a9be956",
   "metadata": {},
   "outputs": [
    {
     "data": {
      "text/plain": [
       "{'ramesh': 20, 'suresh': 25, 'sathish': 30}"
      ]
     },
     "execution_count": 120,
     "metadata": {},
     "output_type": "execute_result"
    }
   ],
   "source": [
    "#dictionary\n",
    "d={}\n",
    "d['ramesh']=20\n",
    "d['suresh']=25\n",
    "d['sathish']=30\n",
    "d"
   ]
  },
  {
   "cell_type": "code",
   "execution_count": 126,
   "id": "23191eba-2a1b-432c-a3ce-70c9a980c7a4",
   "metadata": {},
   "outputs": [
    {
     "name": "stdout",
     "output_type": "stream",
     "text": [
      "ramesh age is 20\n",
      "suresh age is 25\n",
      "sathish age is 30\n"
     ]
    }
   ],
   "source": [
    "names=['ramesh','suresh','sathish'] \n",
    "age=[20,25,30]\n",
    "dic1={}\n",
    "for i,j in zip(names,age):\n",
    "    print(f'{i} age is {j}')"
   ]
  },
  {
   "cell_type": "code",
   "execution_count": 128,
   "id": "3e57263d-be47-4ec7-bb8c-8526d777a52a",
   "metadata": {},
   "outputs": [
    {
     "data": {
      "text/plain": [
       "{'ramesh': 20, 'suresh': 25, 'sathish': 30}"
      ]
     },
     "execution_count": 128,
     "metadata": {},
     "output_type": "execute_result"
    }
   ],
   "source": [
    "names=['ramesh','suresh','sathish'] \n",
    "age=[20,25,30]\n",
    "dic1={}\n",
    "for i,j in zip(names,age):\n",
    "    dic1[i]=j\n",
    "\n",
    "dic1"
   ]
  },
  {
   "cell_type": "markdown",
   "id": "cae79fdd-650e-4bb0-85c5-ad1fd0347c78",
   "metadata": {},
   "source": [
    "**dictionary comprehension**\n"
   ]
  },
  {
   "cell_type": "markdown",
   "id": "34880e24-1005-414c-b71c-4cb184f3661c",
   "metadata": {},
   "source": [
    "- for list comprehension we written every thing inside list\n",
    "- for dict comprehension we should write everything inside dictionary\n"
   ]
  },
  {
   "cell_type": "code",
   "execution_count": null,
   "id": "32895896-fae9-4be0-9ef2-260502577365",
   "metadata": {},
   "outputs": [],
   "source": [
    "#list comprehension:[<output><for loop>]\n",
    "#dict comprehension {i:j <for loop>}"
   ]
  },
  {
   "cell_type": "code",
   "execution_count": 129,
   "id": "5b61375a-4ecd-4140-bafb-2f6bb98d668a",
   "metadata": {},
   "outputs": [
    {
     "data": {
      "text/plain": [
       "{'ramesh': 20, 'suresh': 25, 'sathish': 30}"
      ]
     },
     "execution_count": 129,
     "metadata": {},
     "output_type": "execute_result"
    }
   ],
   "source": [
    "{i:j for i,j in zip(names,age)}"
   ]
  },
  {
   "cell_type": "markdown",
   "id": "a465eafe-ba76-4924-95d9-03c0a9c6ac96",
   "metadata": {},
   "source": [
    "**mutable vs immutable**"
   ]
  },
  {
   "cell_type": "markdown",
   "id": "b31d43fc-ad5b-4a53-996f-cd43b94dac81",
   "metadata": {},
   "source": [
    "- lists are mutable\n",
    "- dictionary are mutable\n",
    "- string are immutable\n",
    "- tuple are immutable\n",
    "- in dictionarys we can change the value using keys"
   ]
  },
  {
   "cell_type": "code",
   "execution_count": 130,
   "id": "1d997836-3e46-4ec3-b0fc-cdbac11487b8",
   "metadata": {},
   "outputs": [
    {
     "data": {
      "text/plain": [
       "{'ramesh': 30, 'suresh': 25, 'sathish': 30}"
      ]
     },
     "execution_count": 130,
     "metadata": {},
     "output_type": "execute_result"
    }
   ],
   "source": [
    "d={'ramesh':20,'suresh':25,'sathish':30}\n",
    "d['ramesh']=30\n",
    "d\n"
   ]
  },
  {
   "cell_type": "code",
   "execution_count": 131,
   "id": "f1c17ba8-a5de-4f09-b0e5-66f754dfe37d",
   "metadata": {},
   "outputs": [
    {
     "data": {
      "text/plain": [
       "{'ramesh': 20, 'suresh': 30, 'sathish': 30}"
      ]
     },
     "execution_count": 131,
     "metadata": {},
     "output_type": "execute_result"
    }
   ],
   "source": [
    "d={'ramesh':20,'suresh':25,'sathish':30}\n",
    "d['suresh']=30\n",
    "d\n"
   ]
  },
  {
   "cell_type": "markdown",
   "id": "e9260c98-133a-4b4b-a495-a3897f00a129",
   "metadata": {},
   "source": [
    "**methods**"
   ]
  },
  {
   "cell_type": "code",
   "execution_count": 132,
   "id": "77a11d36-0023-4d2f-ac73-75b265999e79",
   "metadata": {},
   "outputs": [
    {
     "data": {
      "text/plain": [
       "['__class__',\n",
       " '__class_getitem__',\n",
       " '__contains__',\n",
       " '__delattr__',\n",
       " '__delitem__',\n",
       " '__dir__',\n",
       " '__doc__',\n",
       " '__eq__',\n",
       " '__format__',\n",
       " '__ge__',\n",
       " '__getattribute__',\n",
       " '__getitem__',\n",
       " '__getstate__',\n",
       " '__gt__',\n",
       " '__hash__',\n",
       " '__init__',\n",
       " '__init_subclass__',\n",
       " '__ior__',\n",
       " '__iter__',\n",
       " '__le__',\n",
       " '__len__',\n",
       " '__lt__',\n",
       " '__ne__',\n",
       " '__new__',\n",
       " '__or__',\n",
       " '__reduce__',\n",
       " '__reduce_ex__',\n",
       " '__repr__',\n",
       " '__reversed__',\n",
       " '__ror__',\n",
       " '__setattr__',\n",
       " '__setitem__',\n",
       " '__sizeof__',\n",
       " '__str__',\n",
       " '__subclasshook__',\n",
       " 'clear',\n",
       " 'copy',\n",
       " 'fromkeys',\n",
       " 'get',\n",
       " 'items',\n",
       " 'keys',\n",
       " 'pop',\n",
       " 'popitem',\n",
       " 'setdefault',\n",
       " 'update',\n",
       " 'values']"
      ]
     },
     "execution_count": 132,
     "metadata": {},
     "output_type": "execute_result"
    }
   ],
   "source": [
    "dir({})"
   ]
  },
  {
   "cell_type": "code",
   "execution_count": null,
   "id": "c4c62ebf-f19c-4d10-9d4d-5b6a54da9709",
   "metadata": {},
   "outputs": [],
   "source": [
    "clear',\n",
    "'copy',\n",
    " \n",
    " 'items',\n",
    " 'keys',\n",
    " \n",
    " 'values']"
   ]
  },
  {
   "cell_type": "code",
   "execution_count": 72,
   "id": "fc9022cc-8cf0-4151-87a9-0495ab99767f",
   "metadata": {},
   "outputs": [],
   "source": [
    "dict={'x':123,'y':354}\n",
    "dict.clear()"
   ]
  },
  {
   "cell_type": "code",
   "execution_count": 73,
   "id": "0e6ff4ef-9a6d-4f42-a532-a10cd55c46fd",
   "metadata": {},
   "outputs": [],
   "source": [
    "d={'ramesh':20,'suresh':25,'sathish':30}\n",
    "d.clear()"
   ]
  },
  {
   "cell_type": "code",
   "execution_count": 74,
   "id": "9ec9f656-7d86-46b7-9b08-5e51cbd87cfb",
   "metadata": {},
   "outputs": [
    {
     "data": {
      "text/plain": [
       "{'x': 123, 'y': 354}"
      ]
     },
     "execution_count": 74,
     "metadata": {},
     "output_type": "execute_result"
    }
   ],
   "source": [
    "dict={'x':123,'y':354}\n",
    "dict.copy()"
   ]
  },
  {
   "cell_type": "code",
   "execution_count": 75,
   "id": "2a831e4b-f1fa-488a-937c-a65c4621f82d",
   "metadata": {},
   "outputs": [
    {
     "data": {
      "text/plain": [
       "{'ramesh': 20, 'suresh': 25, 'sathish': 30}"
      ]
     },
     "execution_count": 75,
     "metadata": {},
     "output_type": "execute_result"
    }
   ],
   "source": [
    "d={'ramesh':20,'suresh':25,'sathish':30}\n",
    "d.copy()"
   ]
  },
  {
   "cell_type": "code",
   "execution_count": 78,
   "id": "6346d2a7-0bb0-415c-af3c-69efb806c654",
   "metadata": {},
   "outputs": [
    {
     "data": {
      "text/plain": [
       "dict_items([('ramesh', 20), ('suresh', 25), ('sathish', 30)])"
      ]
     },
     "execution_count": 78,
     "metadata": {},
     "output_type": "execute_result"
    }
   ],
   "source": [
    "d={'ramesh':20,'suresh':25,'sathish':30}\n",
    "d.items()"
   ]
  },
  {
   "cell_type": "code",
   "execution_count": 79,
   "id": "ee2f4f47-9198-4776-a714-135f5ebedd41",
   "metadata": {},
   "outputs": [
    {
     "data": {
      "text/plain": [
       "dict_items([('x', 123), ('y', 354)])"
      ]
     },
     "execution_count": 79,
     "metadata": {},
     "output_type": "execute_result"
    }
   ],
   "source": [
    "dict={'x':123,'y':354}\n",
    "dict.items()"
   ]
  },
  {
   "cell_type": "code",
   "execution_count": 9,
   "id": "9a1dfd47-af2e-4ec4-b2a8-590fbba1d88c",
   "metadata": {},
   "outputs": [
    {
     "data": {
      "text/plain": [
       "dict_items([('ramesh', 20), ('suresh', 25), ('sathish', 30)])"
      ]
     },
     "execution_count": 9,
     "metadata": {},
     "output_type": "execute_result"
    }
   ],
   "source": [
    "d={'ramesh':20,'suresh':25,'sathish':30}\n",
    "d.items()"
   ]
  },
  {
   "cell_type": "code",
   "execution_count": 83,
   "id": "100a37a6-bcb1-40ef-af09-22a049137059",
   "metadata": {},
   "outputs": [
    {
     "data": {
      "text/plain": [
       "dict_keys(['ramesh', 'suresh', 'sathish'])"
      ]
     },
     "execution_count": 83,
     "metadata": {},
     "output_type": "execute_result"
    }
   ],
   "source": [
    "d={'ramesh':20,'suresh':25,'sathish':30}\n",
    "d.keys()"
   ]
  },
  {
   "cell_type": "code",
   "execution_count": 84,
   "id": "6ea5df52-edac-4772-b6ad-0570b5c258e2",
   "metadata": {},
   "outputs": [
    {
     "data": {
      "text/plain": [
       "dict_values([20, 25, 30])"
      ]
     },
     "execution_count": 84,
     "metadata": {},
     "output_type": "execute_result"
    }
   ],
   "source": [
    "d={'ramesh':20,'suresh':25,'sathish':30}\n",
    "d.values()"
   ]
  },
  {
   "cell_type": "code",
   "execution_count": 85,
   "id": "729dd694-d911-499f-925f-1d8f80bb4f3e",
   "metadata": {},
   "outputs": [
    {
     "data": {
      "text/plain": [
       "dict_values([20, 25, 30])"
      ]
     },
     "execution_count": 85,
     "metadata": {},
     "output_type": "execute_result"
    }
   ],
   "source": [
    "d={'ramesh':20,'suresh':25,'sathish':30}\n",
    "d.values()"
   ]
  },
  {
   "cell_type": "markdown",
   "id": "cec942d3-68da-4433-8d12-5993e4b87380",
   "metadata": {},
   "source": [
    "**keys**"
   ]
  },
  {
   "cell_type": "code",
   "execution_count": 1,
   "id": "f05b7d02-5e65-4a17-be2e-fb9a5676bd55",
   "metadata": {},
   "outputs": [
    {
     "data": {
      "text/plain": [
       "dict_keys(['ramesh', 'suresh', 'sathish'])"
      ]
     },
     "execution_count": 1,
     "metadata": {},
     "output_type": "execute_result"
    }
   ],
   "source": [
    "d={'ramesh':20,'suresh':25,'sathish':30}\n",
    "keys=d.keys()\n",
    "keys"
   ]
  },
  {
   "cell_type": "code",
   "execution_count": 2,
   "id": "a5c7ac43-ef94-4a6e-87b9-65e65adda519",
   "metadata": {},
   "outputs": [
    {
     "data": {
      "text/plain": [
       "dict_keys"
      ]
     },
     "execution_count": 2,
     "metadata": {},
     "output_type": "execute_result"
    }
   ],
   "source": [
    "type(keys)\n"
   ]
  },
  {
   "cell_type": "code",
   "execution_count": 4,
   "id": "cd0b6a2a-6d3b-44d0-8542-6daba18454ef",
   "metadata": {},
   "outputs": [
    {
     "ename": "AttributeError",
     "evalue": "'dict_keys' object has no attribute 'count'",
     "output_type": "error",
     "traceback": [
      "\u001b[1;31m---------------------------------------------------------------------------\u001b[0m",
      "\u001b[1;31mAttributeError\u001b[0m                            Traceback (most recent call last)",
      "Cell \u001b[1;32mIn[4], line 2\u001b[0m\n\u001b[0;32m      1\u001b[0m \u001b[38;5;66;03m# i got mistaken im assumimg \u001b[39;00m\n\u001b[1;32m----> 2\u001b[0m keys\u001b[38;5;241m.\u001b[39mcount(\u001b[38;5;124m'\u001b[39m\u001b[38;5;124mramesh\u001b[39m\u001b[38;5;124m'\u001b[39m)\n",
      "\u001b[1;31mAttributeError\u001b[0m: 'dict_keys' object has no attribute 'count'"
     ]
    }
   ],
   "source": [
    "# i got mistaken im assumimg \n",
    "keys.count('ramesh')"
   ]
  },
  {
   "cell_type": "markdown",
   "id": "449af3c4-dbf4-42b4-8a8f-de66c0f93417",
   "metadata": {},
   "source": [
    "**convert dictionary to list**\n",
    "- in order to convert dictionary to list\n",
    "- first we need to separate keys and values\n",
    "- then apply the list type casting"
   ]
  },
  {
   "cell_type": "code",
   "execution_count": 5,
   "id": "7c037753-a9a3-40ae-99cd-0c7e3ed144da",
   "metadata": {},
   "outputs": [
    {
     "data": {
      "text/plain": [
       "['ramesh', 'suresh', 'sathish']"
      ]
     },
     "execution_count": 5,
     "metadata": {},
     "output_type": "execute_result"
    }
   ],
   "source": [
    "d={'ramesh':20,'suresh':25,'sathish':30}\n",
    "keys=d.keys()\n",
    "list(keys)"
   ]
  },
  {
   "cell_type": "code",
   "execution_count": 6,
   "id": "37ccd894-a125-49ab-b348-190dbe57c8b4",
   "metadata": {},
   "outputs": [
    {
     "data": {
      "text/plain": [
       "['ramesh', 'suresh', 'sathish']"
      ]
     },
     "execution_count": 6,
     "metadata": {},
     "output_type": "execute_result"
    }
   ],
   "source": [
    "d={'ramesh':20,'suresh':25,'sathish':30}\n",
    "keys=d.keys()\n",
    "keys_list=list(keys)\n",
    "keys_list"
   ]
  },
  {
   "cell_type": "code",
   "execution_count": null,
   "id": "a9f00415-1695-4894-a91c-b7f41ef6b79d",
   "metadata": {},
   "outputs": [],
   "source": [
    "list=====string  using join\n",
    "string======list   split\n",
    "list===========dict  zip\n",
    "dict==========list    typecasting"
   ]
  },
  {
   "cell_type": "markdown",
   "id": "91859ed1-f3c1-42fc-97fd-3cd6eb070803",
   "metadata": {},
   "source": [
    "**values**"
   ]
  },
  {
   "cell_type": "code",
   "execution_count": 7,
   "id": "1f41277d-e97d-4f88-ad37-0edabbb9594a",
   "metadata": {},
   "outputs": [
    {
     "data": {
      "text/plain": [
       "[20, 25, 30]"
      ]
     },
     "execution_count": 7,
     "metadata": {},
     "output_type": "execute_result"
    }
   ],
   "source": [
    "d={'ramesh':20,'suresh':25,'sathish':30}\n",
    "values=d.values()\n",
    "list(values)"
   ]
  },
  {
   "cell_type": "code",
   "execution_count": 8,
   "id": "235e6bf5-bb3b-40f8-b58b-c4e09fc07894",
   "metadata": {},
   "outputs": [
    {
     "data": {
      "text/plain": [
       "[20, 25, 30]"
      ]
     },
     "execution_count": 8,
     "metadata": {},
     "output_type": "execute_result"
    }
   ],
   "source": [
    "d={'ramesh':20,'suresh':25,'sathish':30}\n",
    "values=d.values()\n",
    "values_list=list(values)\n",
    "values_list"
   ]
  },
  {
   "cell_type": "markdown",
   "id": "86cf559e-cc60-4167-a5bf-3f6964b201a0",
   "metadata": {},
   "source": [
    "**items**"
   ]
  },
  {
   "cell_type": "code",
   "execution_count": 10,
   "id": "cedd4134-4e05-424c-bf6e-8b5a0ab47a61",
   "metadata": {},
   "outputs": [
    {
     "data": {
      "text/plain": [
       "[('ramesh', 20), ('suresh', 25), ('sathish', 30)]"
      ]
     },
     "execution_count": 10,
     "metadata": {},
     "output_type": "execute_result"
    }
   ],
   "source": [
    "d={'ramesh':20,'suresh':25,'sathish':30}\n",
    "items=d.items()\n",
    "items_list=list(items)\n",
    "items_list"
   ]
  },
  {
   "cell_type": "code",
   "execution_count": 11,
   "id": "ce659d75-4a25-4a83-92bf-14b870adc745",
   "metadata": {},
   "outputs": [
    {
     "data": {
      "text/plain": [
       "(list, dict_keys)"
      ]
     },
     "execution_count": 11,
     "metadata": {},
     "output_type": "execute_result"
    }
   ],
   "source": [
    "type(keys_list),type(keys)"
   ]
  },
  {
   "cell_type": "code",
   "execution_count": 12,
   "id": "4a0e2ede-819e-44ad-8a29-2e40d48512af",
   "metadata": {},
   "outputs": [
    {
     "data": {
      "text/plain": [
       "1"
      ]
     },
     "execution_count": 12,
     "metadata": {},
     "output_type": "execute_result"
    }
   ],
   "source": [
    "keys_list.count('ramesh')"
   ]
  },
  {
   "cell_type": "code",
   "execution_count": 15,
   "id": "69230ea1-2043-40c6-afd0-f7201642470d",
   "metadata": {},
   "outputs": [
    {
     "name": "stdout",
     "output_type": "stream",
     "text": [
      "5\n",
      "virat\n",
      "15\n",
      "11\n",
      "kohli\n",
      "rcb\n"
     ]
    }
   ],
   "source": [
    "str1='virat.kohli@rcb.com'\n",
    "first_dot=str1.index('.')\n",
    "print(first_dot)\n",
    "first_name=str1[:first_dot]\n",
    "print(first_name)\n",
    "second_dot=str1.index('.',first_dot+1)\n",
    "print(second_dot)\n",
    "at_the_rate=str1.index('@')\n",
    "print(at_the_rate)\n",
    "second_name=str1[first_dot+1:at_the_rate]\n",
    "\n",
    "print(second_name)\n",
    "company_name=str1[at_the_rate+1:second_dot]\n",
    "print(company_name)\n"
   ]
  },
  {
   "cell_type": "code",
   "execution_count": 20,
   "id": "d989a4bf-b491-4074-a6c6-619c8213587b",
   "metadata": {},
   "outputs": [
    {
     "ename": "ValueError",
     "evalue": "'.' is not in list",
     "output_type": "error",
     "traceback": [
      "\u001b[1;31m---------------------------------------------------------------------------\u001b[0m",
      "\u001b[1;31mValueError\u001b[0m                                Traceback (most recent call last)",
      "Cell \u001b[1;32mIn[20], line 5\u001b[0m\n\u001b[0;32m      3\u001b[0m l1\u001b[38;5;241m=\u001b[39m\u001b[38;5;28minput\u001b[39m\u001b[38;5;241m.\u001b[39msplit(\u001b[38;5;124m'\u001b[39m\u001b[38;5;124m;\u001b[39m\u001b[38;5;124m'\u001b[39m)\n\u001b[0;32m      4\u001b[0m \u001b[38;5;28mdict\u001b[39m\u001b[38;5;241m=\u001b[39m{}\n\u001b[1;32m----> 5\u001b[0m first_dot\u001b[38;5;241m=\u001b[39ml1\u001b[38;5;241m.\u001b[39mindex(\u001b[38;5;124m'\u001b[39m\u001b[38;5;124m.\u001b[39m\u001b[38;5;124m'\u001b[39m)\n\u001b[0;32m      6\u001b[0m \u001b[38;5;28mprint\u001b[39m(first_dot)\n\u001b[0;32m      7\u001b[0m first_name\u001b[38;5;241m=\u001b[39m\u001b[38;5;28minput\u001b[39m[:first_dot]\n",
      "\u001b[1;31mValueError\u001b[0m: '.' is not in list"
     ]
    }
   ],
   "source": [
    "input='virat.kohili@rcb.com;rohit.sharma@mi.com;ms.dhoni@csk.com'\n",
    "output=[]\n",
    "l1=input.split(';')\n",
    "dict={}\n",
    "first_dot=l1.index('.')\n",
    "print(first_dot)\n",
    "first_name=input[:first_dot]\n",
    "print(first_name)\n",
    "print(second_dot)\n",
    "at_the_rate=l1.index('@')\n",
    "print(at_the_rate)\n",
    "second_name=l1[first_dot+1:at_the_rate]\n",
    "\n",
    "print(second_name)\n",
    "company_name=l1[at_the_rate+1:second_dot]\n",
    "print(company_name)\n"
   ]
  },
  {
   "cell_type": "code",
   "execution_count": 42,
   "id": "406547bd-643f-4517-945b-ff4f8070a0b1",
   "metadata": {},
   "outputs": [
    {
     "ename": "TypeError",
     "evalue": "'builtin_function_or_method' object is not subscriptable",
     "output_type": "error",
     "traceback": [
      "\u001b[1;31m---------------------------------------------------------------------------\u001b[0m",
      "\u001b[1;31mTypeError\u001b[0m                                 Traceback (most recent call last)",
      "Cell \u001b[1;32mIn[42], line 5\u001b[0m\n\u001b[0;32m      3\u001b[0m dic\u001b[38;5;241m=\u001b[39m{}\n\u001b[0;32m      4\u001b[0m l1\u001b[38;5;241m=\u001b[39m\u001b[38;5;28minput\u001b[39m\u001b[38;5;241m.\u001b[39msplit(\u001b[38;5;124m'\u001b[39m\u001b[38;5;124m;\u001b[39m\u001b[38;5;124m'\u001b[39m)\n\u001b[1;32m----> 5\u001b[0m first_dot\u001b[38;5;241m=\u001b[39ml1[\u001b[38;5;241m0\u001b[39m]\u001b[38;5;241m.\u001b[39mindex[\u001b[38;5;124m'\u001b[39m\u001b[38;5;124m.\u001b[39m\u001b[38;5;124m'\u001b[39m]\n\u001b[0;32m      6\u001b[0m second_dot\u001b[38;5;241m=\u001b[39ml1[\u001b[38;5;241m0\u001b[39m]\u001b[38;5;241m.\u001b[39mindex[\u001b[38;5;124m'\u001b[39m\u001b[38;5;124m.\u001b[39m\u001b[38;5;124m'\u001b[39m,first_dot\u001b[38;5;241m+\u001b[39m\u001b[38;5;241m1\u001b[39m]\n\u001b[0;32m      7\u001b[0m at_the_rate\u001b[38;5;241m=\u001b[39ml1[\u001b[38;5;241m0\u001b[39m]\u001b[38;5;241m.\u001b[39mindex(\u001b[38;5;124m'\u001b[39m\u001b[38;5;124m@\u001b[39m\u001b[38;5;124m'\u001b[39m)\n",
      "\u001b[1;31mTypeError\u001b[0m: 'builtin_function_or_method' object is not subscriptable"
     ]
    }
   ],
   "source": [
    "input='virat.kohili@rcb.com;rohit.sharma@mi.com;ms.dhoni@csk.com'\n",
    "output=[]\n",
    "dic={}\n",
    "l1=input.split(';')\n",
    "first_dot=l1[0].index['.']\n",
    "second_dot=l1[0].index['.',first_dot+1]\n",
    "at_the_rate=l1[0].index('@')\n",
    "l1[0][:first_dot]\n",
    "l1[0][first_dot+1:at_the_rate]\n",
    "l1[0][at_the_rate+1:second_dot]\n"
   ]
  },
  {
   "cell_type": "code",
   "execution_count": 41,
   "id": "b4b145b4-d32b-4c58-88c7-834f825002d0",
   "metadata": {},
   "outputs": [],
   "source": [
    "input='virat.kohili@rcb.com;rohit.sharma@mi.com;ms.dhoni@csk.com'\n",
    "l1=input.split(';')\n",
    "fname,sname,cname=[],[],[]\n",
    "d={}\n",
    "for i in l1:\n",
    "    first_dot=i.index('.')\n",
    "    second_dot=i.index('.',first_dot+1)\n",
    "    at_the_rate=i.index('@')\n",
    "    fname.append(i[:first_dot])\n",
    "    sname.append(i[first_dot+1:at_the_rate])\n",
    "    cname.append(i[at_the_rate+1:second_dot])\n",
    "\n",
    "d['fname']=fname\n",
    "d['sname']=sname\n",
    "d['cname']=cname"
   ]
  },
  {
   "cell_type": "markdown",
   "id": "c8c6afac-23a3-4b49-aa04-eba91b886a3e",
   "metadata": {},
   "source": [
    "**pop**"
   ]
  },
  {
   "cell_type": "code",
   "execution_count": 34,
   "id": "826bb727-c9ac-4ee4-8c06-9d057f744181",
   "metadata": {},
   "outputs": [
    {
     "ename": "KeyError",
     "evalue": "1",
     "output_type": "error",
     "traceback": [
      "\u001b[1;31m---------------------------------------------------------------------------\u001b[0m",
      "\u001b[1;31mKeyError\u001b[0m                                  Traceback (most recent call last)",
      "Cell \u001b[1;32mIn[34], line 2\u001b[0m\n\u001b[0;32m      1\u001b[0m d\u001b[38;5;241m=\u001b[39m{\u001b[38;5;124m'\u001b[39m\u001b[38;5;124mramesh\u001b[39m\u001b[38;5;124m'\u001b[39m:\u001b[38;5;241m20\u001b[39m,\u001b[38;5;124m'\u001b[39m\u001b[38;5;124msuresh\u001b[39m\u001b[38;5;124m'\u001b[39m:\u001b[38;5;241m25\u001b[39m,\u001b[38;5;124m'\u001b[39m\u001b[38;5;124msathish\u001b[39m\u001b[38;5;124m'\u001b[39m:\u001b[38;5;241m30\u001b[39m}\n\u001b[1;32m----> 2\u001b[0m d\u001b[38;5;241m.\u001b[39mpop(\u001b[38;5;241m1\u001b[39m)\n",
      "\u001b[1;31mKeyError\u001b[0m: 1"
     ]
    }
   ],
   "source": [
    "d={'ramesh':20,'suresh':25,'sathish':30}\n",
    "d.pop(1)"
   ]
  },
  {
   "cell_type": "code",
   "execution_count": 46,
   "id": "08552ce9-2cde-41b8-b985-306d1de7b9c6",
   "metadata": {},
   "outputs": [
    {
     "data": {
      "text/plain": [
       "20"
      ]
     },
     "execution_count": 46,
     "metadata": {},
     "output_type": "execute_result"
    }
   ],
   "source": [
    "d={'ramesh':20,'suresh':25,'sathish':30}\n",
    "d.pop('ramesh')"
   ]
  },
  {
   "cell_type": "code",
   "execution_count": 47,
   "id": "f780990d-7efa-43e6-9622-c1531e07d85f",
   "metadata": {},
   "outputs": [
    {
     "data": {
      "text/plain": [
       "{'suresh': 25, 'sathish': 30}"
      ]
     },
     "execution_count": 47,
     "metadata": {},
     "output_type": "execute_result"
    }
   ],
   "source": [
    "d"
   ]
  },
  {
   "cell_type": "code",
   "execution_count": 36,
   "id": "21bbb656-514c-470f-b6d1-1ac6f5445606",
   "metadata": {},
   "outputs": [
    {
     "ename": "KeyError",
     "evalue": "20",
     "output_type": "error",
     "traceback": [
      "\u001b[1;31m---------------------------------------------------------------------------\u001b[0m",
      "\u001b[1;31mKeyError\u001b[0m                                  Traceback (most recent call last)",
      "Cell \u001b[1;32mIn[36], line 2\u001b[0m\n\u001b[0;32m      1\u001b[0m d\u001b[38;5;241m=\u001b[39m{\u001b[38;5;124m'\u001b[39m\u001b[38;5;124mramesh\u001b[39m\u001b[38;5;124m'\u001b[39m:\u001b[38;5;241m20\u001b[39m,\u001b[38;5;124m'\u001b[39m\u001b[38;5;124msuresh\u001b[39m\u001b[38;5;124m'\u001b[39m:\u001b[38;5;241m25\u001b[39m,\u001b[38;5;124m'\u001b[39m\u001b[38;5;124msathish\u001b[39m\u001b[38;5;124m'\u001b[39m:\u001b[38;5;241m30\u001b[39m}\n\u001b[1;32m----> 2\u001b[0m d\u001b[38;5;241m.\u001b[39mpop(\u001b[38;5;241m20\u001b[39m)\n",
      "\u001b[1;31mKeyError\u001b[0m: 20"
     ]
    }
   ],
   "source": [
    "d={'ramesh':20,'suresh':25,'sathish':30}\n",
    "d.pop(20)"
   ]
  },
  {
   "cell_type": "markdown",
   "id": "c6971500-43b7-43b0-8b6f-6f994aa3b3b6",
   "metadata": {},
   "source": [
    "**popitem**"
   ]
  },
  {
   "cell_type": "code",
   "execution_count": 44,
   "id": "e8d801cb-6135-4065-bdad-fdd9312c3616",
   "metadata": {},
   "outputs": [
    {
     "data": {
      "text/plain": [
       "('sathish', 30)"
      ]
     },
     "execution_count": 44,
     "metadata": {},
     "output_type": "execute_result"
    }
   ],
   "source": [
    "d={'ramesh':20,'suresh':25,'sathish':30}\n",
    "d.popitem()"
   ]
  },
  {
   "cell_type": "code",
   "execution_count": 45,
   "id": "940c1a76-768f-49fa-b81f-47ac2bd95ae7",
   "metadata": {},
   "outputs": [
    {
     "data": {
      "text/plain": [
       "{'ramesh': 20, 'suresh': 25}"
      ]
     },
     "execution_count": 45,
     "metadata": {},
     "output_type": "execute_result"
    }
   ],
   "source": [
    "d"
   ]
  },
  {
   "cell_type": "code",
   "execution_count": 40,
   "id": "081210d3-5623-427d-bca9-8e6145a4ea10",
   "metadata": {},
   "outputs": [
    {
     "data": {
      "text/plain": [
       "('sathish', 30)"
      ]
     },
     "execution_count": 40,
     "metadata": {},
     "output_type": "execute_result"
    }
   ],
   "source": [
    "d={'ramesh':20,'suresh':25,'sathish':30}\n",
    "d.popitem()"
   ]
  },
  {
   "cell_type": "code",
   "execution_count": 51,
   "id": "f931b5f7-a577-4106-b387-594a06a8a729",
   "metadata": {},
   "outputs": [
    {
     "data": {
      "text/plain": [
       "['sureh', 'sathish']"
      ]
     },
     "execution_count": 51,
     "metadata": {},
     "output_type": "execute_result"
    }
   ],
   "source": [
    "l1=['ramesh','sureh','sathish']\n",
    "l1.remove('ramesh')\n",
    "l1"
   ]
  },
  {
   "cell_type": "markdown",
   "id": "e3bce2a6-780e-468a-b3f7-ed3e7384ee8b",
   "metadata": {},
   "source": [
    "- **pop** inmdictionary,similar analogy **remove** in list\n",
    "- **pop item in dictionary,similar analogy **pop** in list"
   ]
  },
  {
   "cell_type": "code",
   "execution_count": 52,
   "id": "4db46271-a5dd-4c14-a37f-56df6d811315",
   "metadata": {},
   "outputs": [
    {
     "data": {
      "text/plain": [
       "['ramesh', 'sureh']"
      ]
     },
     "execution_count": 52,
     "metadata": {},
     "output_type": "execute_result"
    }
   ],
   "source": [
    "l1=['ramesh','sureh','sathish']\n",
    "l1.pop()\n",
    "l1"
   ]
  },
  {
   "cell_type": "code",
   "execution_count": 54,
   "id": "8bf65c59-fbb6-4ba6-95fc-bb4d21cf1d10",
   "metadata": {},
   "outputs": [
    {
     "data": {
      "text/plain": [
       "['ramesh', 'sureh']"
      ]
     },
     "execution_count": 54,
     "metadata": {},
     "output_type": "execute_result"
    }
   ],
   "source": [
    "l1"
   ]
  },
  {
   "cell_type": "markdown",
   "id": "4cc94bf4-f6d1-476f-b93b-18a06c43599e",
   "metadata": {},
   "source": [
    "**get**\n",
    "\n",
    "- **get** in dictionary,similar analogy **list index**"
   ]
  },
  {
   "cell_type": "code",
   "execution_count": 56,
   "id": "712c29c2-a539-40a6-ae6e-a7fb27d5409e",
   "metadata": {},
   "outputs": [
    {
     "data": {
      "text/plain": [
       "20"
      ]
     },
     "execution_count": 56,
     "metadata": {},
     "output_type": "execute_result"
    }
   ],
   "source": [
    "d={'ramesh':20,'suresh':25,'sathish':30}\n",
    "d.get('ramesh')"
   ]
  },
  {
   "cell_type": "code",
   "execution_count": 57,
   "id": "7d6d4c1a-fae8-4c7b-9ce5-08e3f489bbfc",
   "metadata": {},
   "outputs": [
    {
     "data": {
      "text/plain": [
       "20"
      ]
     },
     "execution_count": 57,
     "metadata": {},
     "output_type": "execute_result"
    }
   ],
   "source": [
    "d['ramesh'] # key as an index"
   ]
  },
  {
   "cell_type": "markdown",
   "id": "b2e98d41-6ed9-4105-b40c-f4a1802d05d3",
   "metadata": {},
   "source": [
    "**update**\n",
    "\n",
    "  - update is similar analogy **list extend**\n",
    "- take two dictionarys and apply update method\n"
   ]
  },
  {
   "cell_type": "code",
   "execution_count": 62,
   "id": "d128467f-c6e7-4681-a890-5840dd75376e",
   "metadata": {},
   "outputs": [
    {
     "data": {
      "text/plain": [
       "{'ramesh': 20, 'suresh': 25, 'sathish': 30, 'fruits': 30, 'flowers': 40}"
      ]
     },
     "execution_count": 62,
     "metadata": {},
     "output_type": "execute_result"
    }
   ],
   "source": [
    "d1={'ramesh':20,'suresh':25,'sathish':30}\n",
    "d2={'fruits':30,'flowers':40}\n",
    "d1.update(d2)\n",
    "d1"
   ]
  },
  {
   "cell_type": "markdown",
   "id": "5e380441-c04a-4ad1-8142-390781095d75",
   "metadata": {},
   "source": [
    "**extend**"
   ]
  },
  {
   "cell_type": "code",
   "execution_count": 66,
   "id": "0895be25-37a9-41ae-8467-67f2c611345c",
   "metadata": {},
   "outputs": [
    {
     "data": {
      "text/plain": [
       "['ramesh', 'suresh', 'sathish', 'fruits', 'flowers']"
      ]
     },
     "execution_count": 66,
     "metadata": {},
     "output_type": "execute_result"
    }
   ],
   "source": [
    "l1=['ramesh','suresh','sathish']\n",
    "l2=['fruits','flowers']\n",
    "l1.extend(d2)\n",
    "l1"
   ]
  },
  {
   "cell_type": "markdown",
   "id": "1c413546-5752-4ede-bd92-34998e377060",
   "metadata": {},
   "source": [
    "- update in dictionary,similar analogy list extend"
   ]
  },
  {
   "cell_type": "markdown",
   "id": "99f742f0-76c1-4119-8606-bf55e87eb904",
   "metadata": {},
   "source": [
    "**setdefault**\n",
    "\n",
    "- suppose an already existed dictionary available\n",
    "- we can update the dictionary with new key:value pair"
   ]
  },
  {
   "cell_type": "code",
   "execution_count": 71,
   "id": "9f4a384d-05e2-4abb-a5e3-dc73df28dc65",
   "metadata": {},
   "outputs": [
    {
     "data": {
      "text/plain": [
       "{'ramesh': 20, 'suresh': 25, 'sathish': 30, 'manish': None}"
      ]
     },
     "execution_count": 71,
     "metadata": {},
     "output_type": "execute_result"
    }
   ],
   "source": [
    "d={'ramesh':20,'suresh':25,'sathish':30}\n",
    "d.setdefault('manish')\n",
    "d"
   ]
  },
  {
   "cell_type": "code",
   "execution_count": 72,
   "id": "34c567cb-21f4-4d0e-a546-8022dc3d3ac8",
   "metadata": {},
   "outputs": [
    {
     "data": {
      "text/plain": [
       "{'ramesh': 20, 'suresh': 25, 'sathish': 30, 'manish': None, 'mahesh': 30}"
      ]
     },
     "execution_count": 72,
     "metadata": {},
     "output_type": "execute_result"
    }
   ],
   "source": [
    "d={'ramesh':20,'suresh':25,'sathish':30}\n",
    "d.setdefault('manish')\n",
    "d.setdefault('mahesh',30)\n",
    "d"
   ]
  },
  {
   "cell_type": "markdown",
   "id": "9cf799f4-1698-4b7e-b84a-b522b2da0076",
   "metadata": {},
   "source": [
    "- **setdefault** in dictionary,similar analogy **list append**\n",
    "- always remember dictionary is a key:value pair concept\n",
    "- it never involves index operations\n",
    "- thats why we dont have any index or find method\n",
    "- we have get method to extract values using key"
   ]
  },
  {
   "cell_type": "markdown",
   "id": "d503cbf6-3173-43ff-bec5-c9e9f0345bf5",
   "metadata": {},
   "source": [
    "**fromkeys**\n",
    "- create a dictionary with different keys but same value\n",
    "- fromkeys willl take an argument **iterable**\n",
    "- try to provide an iterator i.e string,list,tuple"
   ]
  },
  {
   "cell_type": "code",
   "execution_count": 75,
   "id": "d870d630-690e-4733-9fc3-4c010cf16897",
   "metadata": {},
   "outputs": [
    {
     "data": {
      "text/plain": [
       "{'ramesh': None, 'suresh': None, 'sathish': None}"
      ]
     },
     "execution_count": 75,
     "metadata": {},
     "output_type": "execute_result"
    }
   ],
   "source": [
    "d={}\n",
    "names=['ramesh','suresh','sathish']\n",
    "d.fromkeys(names,)"
   ]
  },
  {
   "cell_type": "code",
   "execution_count": 73,
   "id": "b99a364f-f19c-49d1-b289-16a3a65da2dc",
   "metadata": {},
   "outputs": [
    {
     "data": {
      "text/plain": [
       "{'ramesh': 'nareshit', 'suresh': 'nareshit', 'sathish': 'nareshit'}"
      ]
     },
     "execution_count": 73,
     "metadata": {},
     "output_type": "execute_result"
    }
   ],
   "source": [
    "d={}\n",
    "names=['ramesh','suresh','sathish']\n",
    "d.fromkeys(names,'nareshit')"
   ]
  },
  {
   "cell_type": "code",
   "execution_count": 74,
   "id": "1a6fe962-ab74-4b06-a5f3-0fd929100106",
   "metadata": {},
   "outputs": [
    {
     "data": {
      "text/plain": [
       "{'p': None, 'y': None, 't': None, 'h': None, 'o': None, 'n': None}"
      ]
     },
     "execution_count": 74,
     "metadata": {},
     "output_type": "execute_result"
    }
   ],
   "source": [
    "d={}\n",
    "d.fromkeys('python')"
   ]
  },
  {
   "cell_type": "markdown",
   "id": "74f95788-8215-41cb-8463-6cfa002bd1f2",
   "metadata": {},
   "source": [
    "- list has count,string has count and tuple has count\n",
    "- but dictionarys does not have **count**\n",
    "- because dictionary does not allow **duplicates**\n",
    "- string has find but list does not have"
   ]
  },
  {
   "cell_type": "code",
   "execution_count": null,
   "id": "04e0b20e-aaec-4d9d-8667-be482dc5d81b",
   "metadata": {},
   "outputs": [],
   "source": []
  }
 ],
 "metadata": {
  "kernelspec": {
   "display_name": "Python 3 (ipykernel)",
   "language": "python",
   "name": "python3"
  },
  "language_info": {
   "codemirror_mode": {
    "name": "ipython",
    "version": 3
   },
   "file_extension": ".py",
   "mimetype": "text/x-python",
   "name": "python",
   "nbconvert_exporter": "python",
   "pygments_lexer": "ipython3",
   "version": "3.12.7"
  }
 },
 "nbformat": 4,
 "nbformat_minor": 5
}
